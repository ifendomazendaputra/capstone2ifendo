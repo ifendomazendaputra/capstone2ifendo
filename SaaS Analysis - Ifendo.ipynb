{
 "cells": [
  {
   "cell_type": "markdown",
   "metadata": {},
   "source": [
    "# **SaaS Analytics**"
   ]
  },
  {
   "cell_type": "markdown",
   "metadata": {},
   "source": [
    "# **Latar Belakang**"
   ]
  },
  {
   "cell_type": "markdown",
   "metadata": {},
   "source": [
    "### **Konteks**"
   ]
  },
  {
   "cell_type": "markdown",
   "metadata": {},
   "source": [
    "AWS, atau Amazon Web Services, adalah platform cloud computing yang disediakan oleh Amazon. AWS menawarkan berbagai layanan dan sumber daya komputasi, penyimpanan, dan manajemen data yang dapat diakses secara fleksibel melalui internet. AWS memungkinkan individu, perusahaan, dan organisasi untuk membangun dan mengelola aplikasi, menyimpan dan mengakses data, serta menjalankan beban kerja IT tanpa harus mengelola infrastruktur fisik secara langsung. AWS memiliki beberapa model layanan cloud computing yang mencakup berbagai kebutuhan IT dan pengembangan aplikasi. Diantaranya:\n",
    "\n",
    "- Infrastructure as a Service (IaaS),\n",
    "- Platform as a Service (PaaS),\n",
    "- Software as a Service (SaaS),\n",
    "- Serverless Computing,\n",
    "- Database as a Service (DBaaS),\n",
    "- Networking Services,\n",
    "- Identity and Access Management (IAM),\n",
    "- Content Delivery Services\n",
    "\n",
    "Dalam Kasus ini, SaaS merupakan salah satu layanan penting yang menjadi pilihan utama untuk banyak organisasi. Karena kelebihannya:\n",
    "1. Akses Fleksibel: Dapat diakses dari mana saja dan kapan saja.\n",
    "2. Pemeliharaan Otomatis: Penyedia SaaS tanggung jawab pemeliharaan dan pembaruan.\n",
    "3. **Biaya Operasional Lebih Rendah: Mengurangi biaya modal dan biaya operasional lebih terukur.**\n",
    "4. Skalabilitas Mudah: Mudah menyesuaikan kapasitas tanpa investasi besar.\n",
    "5. Pembaruan Tepat Waktu: Perbaikan dan pembaruan keamanan dilakukan cepat.\n",
    "6. Manajemen Akses dan Keamanan: Penyedia SaaS menyediakan kontrol akses dan keamanan.\n",
    "7. Penerapan Cepat: Implementasi lebih cepat daripada model perangkat lunak tradisional.\n",
    "8. ***Pilihan Aplikasi yang Luas: Berbagai aplikasi SaaS untuk berbagai kebutuhan bisnis.***\n",
    "\n",
    "Namun dalam Dataset ini, ditemukan banyak profit minus dalam data penjualan produk SaaS.\n",
    "Oleh sebab itu penulis melakukan analisis mendalam terhadap data penjualan SaaS agar Layanan AWS ini semakin berkembang dan tidak menemukan kendala financial yang memungkinkan pemberhentian setiap layanannya."
   ]
  },
  {
   "cell_type": "markdown",
   "metadata": {},
   "source": [
    "### **Perumusan Masalah & Goal**"
   ]
  },
  {
   "cell_type": "markdown",
   "metadata": {},
   "source": [
    "Target dari penjualan SaaS ini yaitu mencari keuntungan dengan mempertimbangkan harga yang ditawarkan dan diskon yang diberikan. Untuk itu penulis akan membagi analisis ini dari 4 pendekatan:\n",
    "\n",
    "1. Melihat Korelasi antar Variable\n",
    "    - Identifikasi Kuat-Lemahnya Hubungan antar variable dan juga arah hubungannya\n",
    "\n",
    "2. Pengaruh Produk\n",
    "    - Identifikasi produk-produk yang memiliki prospek pertumbuhan yang tinggi\n",
    "    - Identifikasi produk-produk yang memiliki kontribusi rendah terhadap keuntungan\n",
    "    2.1 Pengaruh Segmentasi\n",
    "\n",
    "3. Pengaruh Customer\n",
    "    - Identifikasi Customer yang paling dan tidak berpengaruh terhadap keuntungan\n",
    "    - Identifikasi kebutuhan customer berdasarkan kategori yang ada\n",
    "    - Identifikasi loyalitas customer\n",
    "    - 3.1 Pengaruh Wilayah\n",
    "        - Identifikasi Product yang prospek dan yang tidak berdasarkan Region, Subregion, Country dan City\n",
    "\n",
    "4. Analisis Profit Minus\n",
    "    - Identifikasi Kerugian yang ada dalam dataset\n",
    "    - Identifikasi Kerugian berdasarkan Customer\n",
    "    - Identifikasi Kerugian berdasarkan Product\n",
    "    - 5.1 Analisis Diskon \n",
    "        - Identifikasi nilai diskon yang paling banyak memberikan keuntungan\n",
    "        - Identifikasi nilai diskon yang sering membuat nilai profit minus\n",
    "        - Identifikasi nilai diskon yang tepat untuk setiap product dalam transaksi\n",
    "\n",
    "\n",
    "Mencari customer paling royal yaitu, yang paling berkontribusi dalam total profit\n",
    "    - Agar dapat mempertahankan penjualan dengan perusahaan tersebut\n",
    "Mencari customer yang paling paling merugikan dari total seluruh pesanannya\n",
    "    - Untuk mempertimbangkan keberlanjutan Sales kepada perusahaan tersebut atau memperkecil jumlah diskon\n",
    "\n",
    "\n",
    "Mencari jumlah diskon paling sering digunakan\n",
    "    - Sehingga dapat mengetahui diskon yang merugikan\n",
    "Mencari pengaruh diskon terhadap kerugian transaksi\n",
    "    - Untuk memberikan jumlah diskon yang tepat sehingga tidak terjadi minus profit\n",
    "\n",
    "\n",
    "Negara yang memiliki customer SaaS terbanyak\n",
    "    - Agar untuk negara yang cenderung sedikit ditingkatkan promosinya\n",
    "Mencari industri dengan segment apa yang paling banyak diincar customer\n",
    "    - Agar dovelopment dapat ditingkatkan pada bagian tsb\n",
    "Mencari region dengan profit yang paling tinggi\n",
    "    - sehingga penjualan di region tersebut dapat ditingkatkan"
   ]
  },
  {
   "cell_type": "markdown",
   "metadata": {},
   "source": [
    "# **Load Dataset**"
   ]
  },
  {
   "cell_type": "markdown",
   "metadata": {},
   "source": [
    "**Import Dataset, Library dan mendefinisikan fungsi yang diperlukan**"
   ]
  },
  {
   "cell_type": "code",
   "execution_count": 103,
   "metadata": {},
   "outputs": [],
   "source": [
    "import pandas as pd\n",
    "import numpy as np\n",
    "import matplotlib.pyplot as plt\n",
    "import seaborn as sns"
   ]
  },
  {
   "cell_type": "markdown",
   "metadata": {},
   "source": [
    "Source dataset AWS Saas-Sales.csv diambil dari https://www.kaggle.com/datasets/nnthanh101/aws-saas-sales"
   ]
  },
  {
   "cell_type": "code",
   "execution_count": 104,
   "metadata": {},
   "outputs": [],
   "source": [
    "raw = pd.read_csv('SaaS-Sales.csv')\n",
    "data = raw"
   ]
  },
  {
   "cell_type": "markdown",
   "metadata": {},
   "source": [
    "**Melihat bentuk data dengan menampilkan 5 baris teratas**"
   ]
  },
  {
   "cell_type": "code",
   "execution_count": 105,
   "metadata": {},
   "outputs": [
    {
     "data": {
      "text/html": [
       "<div>\n",
       "<style scoped>\n",
       "    .dataframe tbody tr th:only-of-type {\n",
       "        vertical-align: middle;\n",
       "    }\n",
       "\n",
       "    .dataframe tbody tr th {\n",
       "        vertical-align: top;\n",
       "    }\n",
       "\n",
       "    .dataframe thead th {\n",
       "        text-align: right;\n",
       "    }\n",
       "</style>\n",
       "<table border=\"1\" class=\"dataframe\">\n",
       "  <thead>\n",
       "    <tr style=\"text-align: right;\">\n",
       "      <th></th>\n",
       "      <th>Row ID</th>\n",
       "      <th>Order ID</th>\n",
       "      <th>Order Date</th>\n",
       "      <th>Date Key</th>\n",
       "      <th>Contact Name</th>\n",
       "      <th>Country</th>\n",
       "      <th>City</th>\n",
       "      <th>Region</th>\n",
       "      <th>Subregion</th>\n",
       "      <th>Customer</th>\n",
       "      <th>Customer ID</th>\n",
       "      <th>Industry</th>\n",
       "      <th>Segment</th>\n",
       "      <th>Product</th>\n",
       "      <th>License</th>\n",
       "      <th>Sales</th>\n",
       "      <th>Quantity</th>\n",
       "      <th>Discount</th>\n",
       "      <th>Profit</th>\n",
       "    </tr>\n",
       "  </thead>\n",
       "  <tbody>\n",
       "    <tr>\n",
       "      <th>0</th>\n",
       "      <td>1</td>\n",
       "      <td>EMEA-2022-152156</td>\n",
       "      <td>11/9/2022</td>\n",
       "      <td>20221109</td>\n",
       "      <td>Nathan Bell</td>\n",
       "      <td>Ireland</td>\n",
       "      <td>Dublin</td>\n",
       "      <td>EMEA</td>\n",
       "      <td>UKIR</td>\n",
       "      <td>Chevron</td>\n",
       "      <td>1017</td>\n",
       "      <td>Energy</td>\n",
       "      <td>SMB</td>\n",
       "      <td>Marketing Suite</td>\n",
       "      <td>16GRM07R1K</td>\n",
       "      <td>261.9600</td>\n",
       "      <td>2</td>\n",
       "      <td>0.00</td>\n",
       "      <td>41.9136</td>\n",
       "    </tr>\n",
       "    <tr>\n",
       "      <th>1</th>\n",
       "      <td>2</td>\n",
       "      <td>EMEA-2022-152156</td>\n",
       "      <td>11/9/2022</td>\n",
       "      <td>20221109</td>\n",
       "      <td>Nathan Bell</td>\n",
       "      <td>Ireland</td>\n",
       "      <td>Dublin</td>\n",
       "      <td>EMEA</td>\n",
       "      <td>UKIR</td>\n",
       "      <td>Chevron</td>\n",
       "      <td>1017</td>\n",
       "      <td>Energy</td>\n",
       "      <td>SMB</td>\n",
       "      <td>FinanceHub</td>\n",
       "      <td>QLIW57KZUV</td>\n",
       "      <td>731.9400</td>\n",
       "      <td>3</td>\n",
       "      <td>0.00</td>\n",
       "      <td>219.5820</td>\n",
       "    </tr>\n",
       "    <tr>\n",
       "      <th>2</th>\n",
       "      <td>3</td>\n",
       "      <td>AMER-2022-138688</td>\n",
       "      <td>6/13/2022</td>\n",
       "      <td>20220613</td>\n",
       "      <td>Deirdre Bailey</td>\n",
       "      <td>United States</td>\n",
       "      <td>New York City</td>\n",
       "      <td>AMER</td>\n",
       "      <td>NAMER</td>\n",
       "      <td>Phillips 66</td>\n",
       "      <td>1056</td>\n",
       "      <td>Energy</td>\n",
       "      <td>Strategic</td>\n",
       "      <td>FinanceHub</td>\n",
       "      <td>JI6BVL70HQ</td>\n",
       "      <td>14.6200</td>\n",
       "      <td>2</td>\n",
       "      <td>0.00</td>\n",
       "      <td>6.8714</td>\n",
       "    </tr>\n",
       "    <tr>\n",
       "      <th>3</th>\n",
       "      <td>4</td>\n",
       "      <td>EMEA-2021-108966</td>\n",
       "      <td>10/11/2021</td>\n",
       "      <td>20211011</td>\n",
       "      <td>Zoe Hodges</td>\n",
       "      <td>Germany</td>\n",
       "      <td>Stuttgart</td>\n",
       "      <td>EMEA</td>\n",
       "      <td>EU-WEST</td>\n",
       "      <td>Royal Dutch Shell</td>\n",
       "      <td>1031</td>\n",
       "      <td>Energy</td>\n",
       "      <td>SMB</td>\n",
       "      <td>ContactMatcher</td>\n",
       "      <td>DE9GJKGD44</td>\n",
       "      <td>957.5775</td>\n",
       "      <td>5</td>\n",
       "      <td>0.45</td>\n",
       "      <td>-383.0310</td>\n",
       "    </tr>\n",
       "    <tr>\n",
       "      <th>4</th>\n",
       "      <td>5</td>\n",
       "      <td>EMEA-2021-108966</td>\n",
       "      <td>10/11/2021</td>\n",
       "      <td>20211011</td>\n",
       "      <td>Zoe Hodges</td>\n",
       "      <td>Germany</td>\n",
       "      <td>Stuttgart</td>\n",
       "      <td>EMEA</td>\n",
       "      <td>EU-WEST</td>\n",
       "      <td>Royal Dutch Shell</td>\n",
       "      <td>1031</td>\n",
       "      <td>Energy</td>\n",
       "      <td>SMB</td>\n",
       "      <td>Marketing Suite - Gold</td>\n",
       "      <td>OIF7NY23WD</td>\n",
       "      <td>22.3680</td>\n",
       "      <td>2</td>\n",
       "      <td>0.20</td>\n",
       "      <td>2.5164</td>\n",
       "    </tr>\n",
       "  </tbody>\n",
       "</table>\n",
       "</div>"
      ],
      "text/plain": [
       "   Row ID          Order ID  Order Date  Date Key    Contact Name  \\\n",
       "0       1  EMEA-2022-152156   11/9/2022  20221109     Nathan Bell   \n",
       "1       2  EMEA-2022-152156   11/9/2022  20221109     Nathan Bell   \n",
       "2       3  AMER-2022-138688   6/13/2022  20220613  Deirdre Bailey   \n",
       "3       4  EMEA-2021-108966  10/11/2021  20211011      Zoe Hodges   \n",
       "4       5  EMEA-2021-108966  10/11/2021  20211011      Zoe Hodges   \n",
       "\n",
       "         Country           City Region Subregion           Customer  \\\n",
       "0        Ireland         Dublin   EMEA      UKIR            Chevron   \n",
       "1        Ireland         Dublin   EMEA      UKIR            Chevron   \n",
       "2  United States  New York City   AMER     NAMER        Phillips 66   \n",
       "3        Germany      Stuttgart   EMEA   EU-WEST  Royal Dutch Shell   \n",
       "4        Germany      Stuttgart   EMEA   EU-WEST  Royal Dutch Shell   \n",
       "\n",
       "   Customer ID Industry    Segment                 Product     License  \\\n",
       "0         1017   Energy        SMB         Marketing Suite  16GRM07R1K   \n",
       "1         1017   Energy        SMB              FinanceHub  QLIW57KZUV   \n",
       "2         1056   Energy  Strategic              FinanceHub  JI6BVL70HQ   \n",
       "3         1031   Energy        SMB          ContactMatcher  DE9GJKGD44   \n",
       "4         1031   Energy        SMB  Marketing Suite - Gold  OIF7NY23WD   \n",
       "\n",
       "      Sales  Quantity  Discount    Profit  \n",
       "0  261.9600         2      0.00   41.9136  \n",
       "1  731.9400         3      0.00  219.5820  \n",
       "2   14.6200         2      0.00    6.8714  \n",
       "3  957.5775         5      0.45 -383.0310  \n",
       "4   22.3680         2      0.20    2.5164  "
      ]
     },
     "execution_count": 105,
     "metadata": {},
     "output_type": "execute_result"
    }
   ],
   "source": [
    "data.head()"
   ]
  },
  {
   "cell_type": "markdown",
   "metadata": {},
   "source": [
    "# **Data Understanding**"
   ]
  },
  {
   "cell_type": "markdown",
   "metadata": {},
   "source": [
    "Dataset ini berisi data transaksi dari perusahaan SaaS fiktif yang menjual perangkat lunak penjualan dan pemasaran kepada perusahaan lain (B2B).\n",
    "\n",
    "- ***Setiap `baris` mewakili sebuah `transaksi` dari satu produk.***"
   ]
  },
  {
   "cell_type": "markdown",
   "metadata": {},
   "source": [
    "| No. | Fitur | Deskripsi |\n",
    "|-|-|-|\n",
    "| 1. | **Row ID** | Identifikasi unik untuk setiap transaksi. |\n",
    "| 2. | **Order ID** | Identifikasi unik untuk setiap pesanan. |\n",
    "| 3. | **Order Date** | Tanggal ketika pesanan ditempatkan. |\n",
    "| 4. | **Date Key** | Representasi numerik dari tanggal pesanan (YYYYMMDD). |\n",
    "| 5. | **Contact Name** | Nama orang yang melakukan pemesanan. |\n",
    "| 6. | **Country** | Negara tempat pesanan ditempatkan. |\n",
    "| 7. | **City** | Kota tempat pesanan ditempatkan. |\n",
    "| 8. | **Region** | Wilayah tempat pesanan ditempatkan. |\n",
    "| 9. | **Subregion** | Subwilayah tempat pesanan ditempatkan. |\n",
    "| 10. | **Customer** | Nama perusahaan yang melakukan pemesanan. |\n",
    "| 11. | **Customer ID** | Identifikasi unik untuk setiap pelanggan. |\n",
    "| 12. | **Industry** | Industri tempat pelanggan berada. |\n",
    "| 13. | **Segment** | Segmen pelanggan (SMB, Strategis, Enterprise, dll.). |\n",
    "| 14. | **Product** | Produk yang dipesan. |\n",
    "| 15. | **License** | Kunci lisensi untuk produk. |\n",
    "| 16. | **Sales** | Jumlah total penjualan untuk transaksi. |\n",
    "| 17. | **Quantity** | Jumlah total barang dalam transaksi. |\n",
    "| 18. | **Discount** | Diskon yang diterapkan pada transaksi. |\n",
    "| 19. | **Profit** | Keuntungan dari transaksi. |\n"
   ]
  },
  {
   "cell_type": "markdown",
   "metadata": {},
   "source": [
    "# **Cleansing**"
   ]
  },
  {
   "cell_type": "markdown",
   "metadata": {},
   "source": [
    "### **Mengecek null & duplikat data**"
   ]
  },
  {
   "cell_type": "code",
   "execution_count": 106,
   "metadata": {},
   "outputs": [],
   "source": [
    "def check(x):\n",
    "    pd.set_option('display.max_colwidth', None)\n",
    "    display(f'{raw.shape} Raw', f'{x.shape} Cleaned', pd.DataFrame({\n",
    "        'feature': x.columns.values,\n",
    "        'data_type': x.dtypes.values,\n",
    "        'null_value': [x[col].isna().sum() for col in x.columns],\n",
    "        '%null_value': pd.Series(np.round(x.isna().mean().values * 100, 2)).apply(lambda x: str(x)+' %'),\n",
    "        'n_unique': x.nunique().values,\n",
    "        'unique' : [x[col].unique() for col in x.columns]}))"
   ]
  },
  {
   "cell_type": "code",
   "execution_count": 107,
   "metadata": {},
   "outputs": [
    {
     "data": {
      "text/plain": [
       "'(9994, 19) Raw'"
      ]
     },
     "metadata": {},
     "output_type": "display_data"
    },
    {
     "data": {
      "text/plain": [
       "'(9994, 19) Cleaned'"
      ]
     },
     "metadata": {},
     "output_type": "display_data"
    },
    {
     "data": {
      "text/html": [
       "<div>\n",
       "<style scoped>\n",
       "    .dataframe tbody tr th:only-of-type {\n",
       "        vertical-align: middle;\n",
       "    }\n",
       "\n",
       "    .dataframe tbody tr th {\n",
       "        vertical-align: top;\n",
       "    }\n",
       "\n",
       "    .dataframe thead th {\n",
       "        text-align: right;\n",
       "    }\n",
       "</style>\n",
       "<table border=\"1\" class=\"dataframe\">\n",
       "  <thead>\n",
       "    <tr style=\"text-align: right;\">\n",
       "      <th></th>\n",
       "      <th>feature</th>\n",
       "      <th>data_type</th>\n",
       "      <th>null_value</th>\n",
       "      <th>%null_value</th>\n",
       "      <th>n_unique</th>\n",
       "      <th>unique</th>\n",
       "    </tr>\n",
       "  </thead>\n",
       "  <tbody>\n",
       "    <tr>\n",
       "      <th>0</th>\n",
       "      <td>Row ID</td>\n",
       "      <td>int64</td>\n",
       "      <td>0</td>\n",
       "      <td>0.0 %</td>\n",
       "      <td>9994</td>\n",
       "      <td>[1, 2, 3, 4, 5, 6, 7, 8, 9, 10, 11, 12, 13, 14, 15, 16, 17, 18, 19, 20, 21, 22, 23, 24, 25, 26, 27, 28, 29, 30, 31, 32, 33, 34, 35, 36, 37, 38, 39, 40, 41, 42, 43, 44, 45, 46, 47, 48, 49, 50, 51, 52, 53, 54, 55, 56, 57, 58, 59, 60, 61, 62, 63, 64, 65, 66, 67, 68, 69, 70, 71, 72, 73, 74, 75, 76, 77, 78, 79, 80, 81, 82, 83, 84, 85, 86, 87, 88, 89, 90, 91, 92, 93, 94, 95, 96, 97, 98, 99, 100, ...]</td>\n",
       "    </tr>\n",
       "    <tr>\n",
       "      <th>1</th>\n",
       "      <td>Order ID</td>\n",
       "      <td>object</td>\n",
       "      <td>0</td>\n",
       "      <td>0.0 %</td>\n",
       "      <td>5009</td>\n",
       "      <td>[EMEA-2022-152156, AMER-2022-138688, EMEA-2021-108966, AMER-2020-115812, EMEA-2023-114412, AMER-2022-161389, APJ-2021-118983, EMEA-2020-105893, EMEA-2020-167164, AMER-2020-143336, AMER-2022-137330, EMEA-2023-156909, EMEA-2021-106320, AMER-2022-121755, EMEA-2021-150630, APJ-2023-107727, APJ-2022-117590, APJ-2021-117415, APJ-2023-120999, AMER-2022-101343, EMEA-2023-139619, EMEA-2022-118255, AMER-2020-146703, APJ-2022-169194, APJ-2021-115742, EMEA-2022-105816, EMEA-2022-111682, AMER-2021-135545, APJ-2021-164175, AMER-2020-106376, EMEA-2022-119823, EMEA-2022-106075, AMER-2023-114440, EMEA-2021-134026, APJ-2023-118038, APJ-2020-147606, EMEA-2022-127208, AMER-2020-139451, EMEA-2021-149734, APJ-2023-119662, AMER-2023-140088, EMEA-2023-155558, APJ-2022-159695, AMER-2022-109806, EMEA-2021-149587, EMEA-2023-109484, EMEA-2023-161018, AMER-2023-157833, EMEA-2022-149223, APJ-2022-158568, EMEA-2022-129903, EMEA-2021-156867, EMEA-2023-119004, APJ-2021-129476, EMEA-2023-146780, EMEA-2022-128867, AMER-2020-115259, AMER-2021-110457, EMEA-2021-136476, APJ-2022-103730, APJ-2020-152030, APJ-2020-134614, AMER-2023-107272, AMER-2022-125969, AMER-2023-164147, AMER-2022-145583, EMEA-2022-110366, AMER-2023-106180, EMEA-2023-155376, AMER-2021-110744, AMER-2020-110072, EMEA-2022-114489, AMER-2022-158834, AMER-2021-124919, AMER-2021-118948, AMER-2020-104269, APJ-2022-114104, AMER-2022-162733, EMEA-2021-119697, APJ-2022-154508, AMER-2022-113817, APJ-2020-139892, AMER-2020-118962, APJ-2020-100853, APJ-2023-152366, AMER-2021-101511, EMEA-2021-137225, APJ-2020-166191, EMEA-2020-158274, EMEA-2022-105018, AMER-2020-123260, APJ-2022-157000, EMEA-2021-102281, AMER-2021-131457, AMER-2020-140004, AMER-2023-107720, EMEA-2023-124303, AMER-2023-105074, EMEA-2020-133690, APJ-2023-116701, ...]</td>\n",
       "    </tr>\n",
       "    <tr>\n",
       "      <th>2</th>\n",
       "      <td>Order Date</td>\n",
       "      <td>object</td>\n",
       "      <td>0</td>\n",
       "      <td>0.0 %</td>\n",
       "      <td>1237</td>\n",
       "      <td>[11/9/2022, 6/13/2022, 10/11/2021, 6/9/2020, 4/16/2023, 12/6/2022, 11/22/2021, 11/11/2020, 5/13/2020, 8/27/2020, 12/10/2022, 7/17/2023, 9/25/2021, 1/16/2022, 9/17/2021, 10/20/2023, 12/9/2022, 12/27/2021, 9/11/2023, 7/18/2022, 9/20/2023, 3/12/2022, 10/20/2020, 6/21/2022, 4/18/2021, 12/12/2022, 6/18/2022, 11/24/2021, 4/30/2021, 12/5/2020, 6/5/2022, 9/19/2022, 9/15/2023, 4/26/2021, 12/10/2023, 11/26/2020, 10/12/2020, 9/3/2021, 11/14/2023, 5/29/2023, 10/27/2023, 4/6/2022, 9/18/2022, 1/31/2021, 11/7/2023, 11/10/2023, 6/18/2023, 9/7/2022, 8/30/2022, 12/2/2022, 11/13/2021, 11/24/2023, 10/15/2021, 12/26/2023, 11/4/2022, 8/25/2020, 3/2/2021, 4/5/2021, 12/26/2020, 9/20/2020, 11/6/2023, 11/7/2022, 2/3/2023, 10/14/2022, 9/6/2022, 9/19/2023, 12/23/2023, 9/7/2021, 10/22/2020, 3/14/2022, 5/31/2021, 5/28/2021, 3/1/2020, 11/21/2022, 5/12/2022, 12/28/2021, 11/17/2022, 11/8/2022, 9/8/2020, 8/5/2020, 9/14/2020, 4/22/2023, 11/21/2021, 12/15/2021, 11/19/2020, 11/29/2022, 8/26/2020, 7/17/2022, 10/12/2021, 10/31/2021, 3/21/2020, 7/7/2023, 6/25/2023, 8/3/2020, 12/18/2023, 6/4/2023, 12/2/2023, 2/9/2021, 1/2/2021, 10/29/2022, ...]</td>\n",
       "    </tr>\n",
       "    <tr>\n",
       "      <th>3</th>\n",
       "      <td>Date Key</td>\n",
       "      <td>int64</td>\n",
       "      <td>0</td>\n",
       "      <td>0.0 %</td>\n",
       "      <td>1237</td>\n",
       "      <td>[20221109, 20220613, 20211011, 20200609, 20230416, 20221206, 20211122, 20201111, 20200513, 20200827, 20221210, 20230717, 20210925, 20220116, 20210917, 20231020, 20221209, 20211227, 20230911, 20220718, 20230920, 20220312, 20201020, 20220621, 20210418, 20221212, 20220618, 20211124, 20210430, 20201205, 20220605, 20220919, 20230915, 20210426, 20231210, 20201126, 20201012, 20210903, 20231114, 20230529, 20231027, 20220406, 20220918, 20210131, 20231107, 20231110, 20230618, 20220907, 20220830, 20221202, 20211113, 20231124, 20211015, 20231226, 20221104, 20200825, 20210302, 20210405, 20201226, 20200920, 20231106, 20221107, 20230203, 20221014, 20220906, 20230919, 20231223, 20210907, 20201022, 20220314, 20210531, 20210528, 20200301, 20221121, 20220512, 20211228, 20221117, 20221108, 20200908, 20200805, 20200914, 20230422, 20211121, 20211215, 20201119, 20221129, 20200826, 20220717, 20211012, 20211031, 20200321, 20230707, 20230625, 20200803, 20231218, 20230604, 20231202, 20210209, 20210102, 20221029, ...]</td>\n",
       "    </tr>\n",
       "    <tr>\n",
       "      <th>4</th>\n",
       "      <td>Contact Name</td>\n",
       "      <td>object</td>\n",
       "      <td>0</td>\n",
       "      <td>0.0 %</td>\n",
       "      <td>793</td>\n",
       "      <td>[Nathan Bell, Deirdre Bailey, Zoe Hodges, Thomas Hodges, Adrian Hunter, Adrian Abraham, Emily Morrison, Claire Welch, Carol Campbell, Blake Hughes, Melanie Sharp, Luke Bower, Jonathan Ferguson, Sam Parsons, Neil Gill, Amelia Campbell, Chloe Short, Jasmine Metcalfe, Karen Mathis, Dylan Dickens, Sophie Lewis, Gavin Mitchell, Katherine Dowd, Harry Brown, Brian Dickens, Joseph Newman, Nicola Howard, Stewart Wilson, Eric McLean, Leah Clarkson, Alison Davidson, Sophie Vance, Anne Lee, Maria Dyer, Julia Ellison, Gordon McLean, Jessica Buckland, Bernadette Nolan, Sonia Ince, William Lewis, Melanie Young, Edward Oliver, Peter Quinn, Max Marshall, Jan Watson, Carol Ball, Gavin Walsh, Penelope Peake, Amy Scott, Carl Jackson, Joe Wallace, Luke Mills, Alexandra Dyer, Rebecca Dickens, Audrey Hardacre, Jennifer Dowd, Natalie Sanderson, Samantha Rampling, Sally Berry, Anthony Clark, Victor Short, Austin Newman, Rose Scott, Tim Morrison, Harry Murray, Dylan Dowd, Angela Parsons, Lisa Oliver, Joseph Duncan, Paul MacDonald, Gordon Graham, Sean Bower, Anthony Sanderson, Stewart Marshall, Joanne Carr, Angela Davies, William Alsop, Owen Watson, Melanie Davidson, Warren Forsyth, Gabrielle Ogden, Justin Randall, Jack Graham, Sophie Henderson, Brian Short, Samantha Lawrence, Una Hudson, Kimberly North, Dylan Ogden, Jonathan Clark, Kevin Vaughan, Madeleine Smith, Diana Ince, Tracey Knox, Michelle McLean, Diana Bell, Jan Clark, Pippa Smith, Rebecca Wilson, Irene Smith, ...]</td>\n",
       "    </tr>\n",
       "    <tr>\n",
       "      <th>5</th>\n",
       "      <td>Country</td>\n",
       "      <td>object</td>\n",
       "      <td>0</td>\n",
       "      <td>0.0 %</td>\n",
       "      <td>48</td>\n",
       "      <td>[Ireland, United States, Germany, Sweden, Canada, Japan, Italy, Turkey, Costa Rica, France, Australia, Luxembourg, Brazil, Philippines, India, United Kingdom, Chile, Spain, South Africa, Portugal, Colombia, Belgium, Russia, Netherlands, Mexico, Poland, Singapore, New Zealand, Czech Republic, Saudi Arabia, Argentina, South Korea, Finland, Israel, Norway, Ukraine, United Arab Emirates, Greece, China, Austria, Indonesia, Egypt, Denmark, Croatia, Taiwan, Qatar, Slovenia, Iceland]</td>\n",
       "    </tr>\n",
       "    <tr>\n",
       "      <th>6</th>\n",
       "      <td>City</td>\n",
       "      <td>object</td>\n",
       "      <td>0</td>\n",
       "      <td>0.0 %</td>\n",
       "      <td>262</td>\n",
       "      <td>[Dublin, New York City, Stuttgart, Stockholm, Toronto, Saitama, Naples, Ankara, Los Angeles, San José, Paris, Istanbul, Tokyo, Aichi, Wollongong, Hanover, Luxembourg, Salvador, Davao City, Kolkata, London, Brighton, Sydney, Puente Alto, Madrid, Rio de Janeiro, Cape Town, Lisboa, Uppsala, Bogotá, Brussels, Moscow, Canberra, The Hague, Mexico City, Manila, Geelong, Santiago, Aurora, Warsaw, Newark, Monterrey, Rome, Chicago, Singapore, Wellington, Osaka, Melbourne, Prague, Riyadh, Raleigh, Providence, Córdoba, Guadalajara, Oklahoma City, Puerto Vallarta, São Paulo, Johannesburg, Cologne, Rochester, Seattle, Detroit, Lafayette, Munich, St Petersburg, Buenos Aires, Mendoza, Leipzig, Jacksonville, Long Beach, Chiba, Incheon, Helsinki, Dhahran, Seoul, Dresden, Vancouver, Adelaide, Tel Aviv, Hordaland, Hamburg, Henderson, Kyiv, Leicester, Malmö, Berlin, Mumbai, Cardiff, Columbus, Fukuoka, Birmingham, Kanagawa, Liverpool, Abu Dhabi, Milwaukee, Yekaterinburg, Krakow, Frankfurt, Porto, Antofagasta, ...]</td>\n",
       "    </tr>\n",
       "    <tr>\n",
       "      <th>7</th>\n",
       "      <td>Region</td>\n",
       "      <td>object</td>\n",
       "      <td>0</td>\n",
       "      <td>0.0 %</td>\n",
       "      <td>3</td>\n",
       "      <td>[EMEA, AMER, APJ]</td>\n",
       "    </tr>\n",
       "    <tr>\n",
       "      <th>8</th>\n",
       "      <td>Subregion</td>\n",
       "      <td>object</td>\n",
       "      <td>0</td>\n",
       "      <td>0.0 %</td>\n",
       "      <td>12</td>\n",
       "      <td>[UKIR, NAMER, EU-WEST, NOR, JAPN, EU, MEA, LATAM, ANZ, APAC, IND, EU-EAST]</td>\n",
       "    </tr>\n",
       "    <tr>\n",
       "      <th>9</th>\n",
       "      <td>Customer</td>\n",
       "      <td>object</td>\n",
       "      <td>0</td>\n",
       "      <td>0.0 %</td>\n",
       "      <td>99</td>\n",
       "      <td>[Chevron, Phillips 66, Royal Dutch Shell, BNP Paribas, Engie, Microsoft, Pfizer, Toyota Motor, Home Depot, Wells Fargo, Carrefour, Costco Wholesale, McKesson, Siemens, Intel, Glencore, Procter &amp; Gamble, Banco Santander, Pemex, Samsung Electronics, Sony, Morgan Stanley, Bank of America Corp., Tesco, Aviva, Mondelez International, Abbott Laboratories, Fannie Mae, Aetna, Oracle, Nissan Motor, Tyson Foods, Verizon Communications, Itochu, Daimler, Walgreens, Boeing, Valero Energy, Nestle, Philip Morris International, Trafigura Group, Walmart, Cisco Systems, Prudential Financial, Amazon, Gazprom, FedEx, Honda Motor, CVS Health, General Motors, State Farm Insurance Cos., Comcast, AmerisourceBergen, Johnson &amp; Johnson, HonHai Precision Industry, American Express, J.P. Morgan Chase &amp; Co., Kroger, Volkswagen, Merck, AT&amp;T, Allstate, BMW, Humana, Sprint Nextel, Allianz, United Parcel Service, Target, Airbus, Cigna, Goldman Sachs Group, Lowes, Ford Motor, Apple, China National Petroleum, ConocoPhillips, Bosch, HSBC Holdings, Enel, Sysco, Marathon Petroleum, UnitedHealth Group, Mitsubishi, Exxon Mobil, Anthem, Petrobras, Lukoil, Coca-Cola, PepsiCo, General Electric, Berkshire Hathaway, Walt Disney, Alphabet, Huawei, News Corp., Caterpillar, Citigroup, Panasonic, Safeway]</td>\n",
       "    </tr>\n",
       "    <tr>\n",
       "      <th>10</th>\n",
       "      <td>Customer ID</td>\n",
       "      <td>int64</td>\n",
       "      <td>0</td>\n",
       "      <td>0.0 %</td>\n",
       "      <td>99</td>\n",
       "      <td>[1017, 1056, 1031, 1065, 1062, 1066, 1074, 1087, 1047, 1099, 1048, 1025, 1063, 1043, 1051, 1083, 1077, 1101, 1058, 1015, 1028, 1068, 1011, 1059, 1006, 1067, 1001, 1035, 1002, 1072, 1098, 1088, 1094, 1032, 1052, 1095, 1014, 1093, 1089, 1075, 1100, 1096, 1019, 1078, 1004, 1027, 1036, 1045, 1026, 1041, 1082, 1022, 1007, 1055, 1033, 1005, 1054, 1057, 1046, 1064, 1010, 1003, 1039, 1049, 1081, 1080, 1090, 1085, 1030, 1038, 1042, 1060, 1009, 1008, 1023, 1024, 1076, 1070, 1013, 1084, 1061, 1092, 1050, 1034, 1029, 1018, 1044, 1021, 1073, 1040, 1012, 1097, 1053, 1086, 1071, 1016, 1020, 1091, 1079]</td>\n",
       "    </tr>\n",
       "    <tr>\n",
       "      <th>11</th>\n",
       "      <td>Industry</td>\n",
       "      <td>object</td>\n",
       "      <td>0</td>\n",
       "      <td>0.0 %</td>\n",
       "      <td>10</td>\n",
       "      <td>[Energy, Finance, Tech, Healthcare, Manufacturing, Retail, Consumer Products, Misc, Transportation, Communications]</td>\n",
       "    </tr>\n",
       "    <tr>\n",
       "      <th>12</th>\n",
       "      <td>Segment</td>\n",
       "      <td>object</td>\n",
       "      <td>0</td>\n",
       "      <td>0.0 %</td>\n",
       "      <td>3</td>\n",
       "      <td>[SMB, Strategic, Enterprise]</td>\n",
       "    </tr>\n",
       "    <tr>\n",
       "      <th>13</th>\n",
       "      <td>Product</td>\n",
       "      <td>object</td>\n",
       "      <td>0</td>\n",
       "      <td>0.0 %</td>\n",
       "      <td>14</td>\n",
       "      <td>[Marketing Suite, FinanceHub, ContactMatcher, Marketing Suite - Gold, SaaS Connector Pack, ChatBot Plugin, Site Analytics, OneView, Support, Data Smasher, SaaS Connector Pack - Gold, Storage, Big Ol Database, Alchemy]</td>\n",
       "    </tr>\n",
       "    <tr>\n",
       "      <th>14</th>\n",
       "      <td>License</td>\n",
       "      <td>object</td>\n",
       "      <td>0</td>\n",
       "      <td>0.0 %</td>\n",
       "      <td>9994</td>\n",
       "      <td>[16GRM07R1K, QLIW57KZUV, JI6BVL70HQ, DE9GJKGD44, OIF7NY23WD, 8RM88WFOAE, 4SYTVM0746, 07842ES7DY, XPBOBXWXA3, 71J8P9Z1P0, 43NZ37VE2D, JG14MOU94R, FE5QJBIUN1, COK66F8IC1, D8FGC56NNX, NRKT5R1A1G, K5XHYWZ1OV, LWWKLPY4AU, ZYL9KDTY68, I54O29EW1T, E3TF1V9DE8, B83G92QX65, VWDIYAB44Z, AJOASBK55N, P1I8X35CUZ, NRCR8EBL62, PV9U9D3A6O, F8G07TWQ17, BGL4P1U2CZ, B5H6S070N8, D9635UBJOG, 6SQI2HAZ4C, GPQ0TDTGIM, 4YZZHFC212, 77YXBOVGDH, GCT4GPUBVT, TKN9K1JO1D, 2F0NIUM5X9, FBXEM82WEZ, TS9MS0FQVU, HDJMRDRWK6, QINRKET2EK, DFHNNSTX0P, 616XTGD7Y3, F4GWWGL9KR, JFCUNTQD5P, S2GUIRDRRI, 2L5WUVH1UW, O0QZ4DQ2DW, 4A8Q6U643K, N3660I16OB, DU3DC8HDNW, SCMV1FUA1Z, 5JTHBK78DZ, JPNWB3X2PG, RI8MDZ0Y3A, TA8D5XDFPN, 9QD1V31VWF, NKEOT3DP5L, I8M069JA80, 3N1DY2AIMD, MBZM7LCSK4, LMJYGCZAFV, MVEQDJNPR2, OLS0NNZ15B, 84GUTTZTC0, 6QHQUNX985, 91D0JN8T6U, 6NQZXRTE33, JH2K4261IC, 5MAZAYKQ5U, K4O1D2NXHZ, NPQNQFYUUU, D0Z9FZR0JL, X15ND79M8Q, A4VC3VGTLE, IR30G9I4WJ, PGTVTGM7XI, JQHP8C8VXP, 1I3JIURUQR, 0UHOHNAAAD, 920M0N09EE, 9SVF10L0F3, CFUHIDO1WY, CUL2MB77E0, RBNGNEEYS9, W731G6G61K, A3HQUY156G, 45JXXNYX5W, AX50KL6AG9, S4CEY2GSVW, V86OBN8J1U, XJEFE2O3YF, 5XEHT10HDW, U40N63E6AK, VK1TWXDWUR, UFEXZDF5TK, GJFN2RJA9U, PFLFDN3SOU, 2CWM52X1X9, ...]</td>\n",
       "    </tr>\n",
       "    <tr>\n",
       "      <th>15</th>\n",
       "      <td>Sales</td>\n",
       "      <td>float64</td>\n",
       "      <td>0</td>\n",
       "      <td>0.0 %</td>\n",
       "      <td>5825</td>\n",
       "      <td>[261.96, 731.94, 14.62, 957.5775, 22.368, 48.86, 7.28, 907.152, 18.504, 114.9, 1706.184, 911.424, 15.552, 407.976, 68.81, 2.544, 665.88, 55.5, 8.56, 213.48, 22.72, 19.46, 60.34, 71.372, 1044.63, 11.648, 90.57, 3083.43, 9.618, 124.2, 3.264, 86.304, 6.858, 15.76, 29.472, 1097.544, 190.92, 113.328, 532.3992, 212.058, 371.168, 147.168, 77.88, 95.616, 45.98, 17.46, 211.96, 45.0, 21.8, 38.22, 75.18, 6.16, 89.99, 15.26, 1029.95, 208.56, 32.4, 319.41, 14.56, 30.0, 48.48, 1.68, 13.98, 25.824, 146.73, 79.76, 213.115, 1113.024, 167.968, 75.88, 4.616, 19.05, 831.936, 97.04, 72.784, 1.248, 9.708, 27.24, 19.3, 208.16, 16.74, 14.9, 21.39, 200.984, 230.376, 301.96, 19.99, 158.368, 20.1, 73.584, 6.48, 12.96, 53.34, 32.96, 5.682, 96.53, 51.312, 64.624, 95.976, 1.788, ...]</td>\n",
       "    </tr>\n",
       "    <tr>\n",
       "      <th>16</th>\n",
       "      <td>Quantity</td>\n",
       "      <td>int64</td>\n",
       "      <td>0</td>\n",
       "      <td>0.0 %</td>\n",
       "      <td>14</td>\n",
       "      <td>[2, 3, 5, 7, 4, 6, 9, 1, 8, 14, 11, 13, 10, 12]</td>\n",
       "    </tr>\n",
       "    <tr>\n",
       "      <th>17</th>\n",
       "      <td>Discount</td>\n",
       "      <td>float64</td>\n",
       "      <td>0</td>\n",
       "      <td>0.0 %</td>\n",
       "      <td>12</td>\n",
       "      <td>[0.0, 0.45, 0.2, 0.8, 0.3, 0.5, 0.7, 0.6, 0.32, 0.1, 0.4, 0.15]</td>\n",
       "    </tr>\n",
       "    <tr>\n",
       "      <th>18</th>\n",
       "      <td>Profit</td>\n",
       "      <td>float64</td>\n",
       "      <td>0</td>\n",
       "      <td>0.0 %</td>\n",
       "      <td>7287</td>\n",
       "      <td>[41.9136, 219.582, 6.8714, -383.031, 2.5164, 14.1694, 1.9656, 90.7152, 5.7825, 34.47, 85.3092, 68.3568, 5.4432, 132.5922, -123.858, -3.816, 13.3176, 9.99, 2.4824, 16.011, 7.384, 5.0596, 15.6884, -1.0196, 240.2649, 4.2224, 11.7741, -1665.0522, -7.0532, 15.525, 1.1016, 9.7092, -5.715, 3.546, 9.9468, 123.4737, -147.963, 35.415, -46.9764, -15.147, 41.7564, 16.5564, 3.894, 9.5616, 19.7714, 8.2062, 8.4784, 4.95, 6.104, 17.9634, 35.3346, 2.9568, 17.0981, 6.2566, 298.6855, 52.14, 15.552, 7.098, 6.9888, 3.3, 16.362, 0.84, 6.1512, 9.3612, 68.9631, 22.3328, -15.2225, 111.3024, 62.988, 35.6636, 1.731, 8.763, -114.3912, 1.213, -18.196, -1.9344, -5.8248, 2.724, -14.475, 56.2032, 8.0352, 4.172, 6.2031, 62.8075, -48.9549, 33.2156, 6.7966, 13.8572, 6.633, 8.2782, 3.1104, 6.2208, 16.5354, 16.1504, -3.788, 40.5426, 17.9592, 22.5852, 22.6184, -10.7973, ...]</td>\n",
       "    </tr>\n",
       "  </tbody>\n",
       "</table>\n",
       "</div>"
      ],
      "text/plain": [
       "         feature data_type  null_value %null_value  n_unique  \\\n",
       "0         Row ID     int64           0       0.0 %      9994   \n",
       "1       Order ID    object           0       0.0 %      5009   \n",
       "2     Order Date    object           0       0.0 %      1237   \n",
       "3       Date Key     int64           0       0.0 %      1237   \n",
       "4   Contact Name    object           0       0.0 %       793   \n",
       "5        Country    object           0       0.0 %        48   \n",
       "6           City    object           0       0.0 %       262   \n",
       "7         Region    object           0       0.0 %         3   \n",
       "8      Subregion    object           0       0.0 %        12   \n",
       "9       Customer    object           0       0.0 %        99   \n",
       "10   Customer ID     int64           0       0.0 %        99   \n",
       "11      Industry    object           0       0.0 %        10   \n",
       "12       Segment    object           0       0.0 %         3   \n",
       "13       Product    object           0       0.0 %        14   \n",
       "14       License    object           0       0.0 %      9994   \n",
       "15         Sales   float64           0       0.0 %      5825   \n",
       "16      Quantity     int64           0       0.0 %        14   \n",
       "17      Discount   float64           0       0.0 %        12   \n",
       "18        Profit   float64           0       0.0 %      7287   \n",
       "\n",
       "                                                                                                                                                                                                                                                                                                                                                                                                                                                                                                                                                                                                                                                                                                                                                                                                                                                                                                                                                                                                                                                                                                                                                                                                                                                                                                                                                                                                                                                                                                                                                                                                                                                                                                                                                                                                                                                  unique  \n",
       "0                                                                                                                                                                                                                                                                                                                                                                                                                                                                                                                                                                                                                                                                                                                                                                                                                                                                                                                                                                                                                                                                                                                                                                                                                                                                                                                                                                                                                                          [1, 2, 3, 4, 5, 6, 7, 8, 9, 10, 11, 12, 13, 14, 15, 16, 17, 18, 19, 20, 21, 22, 23, 24, 25, 26, 27, 28, 29, 30, 31, 32, 33, 34, 35, 36, 37, 38, 39, 40, 41, 42, 43, 44, 45, 46, 47, 48, 49, 50, 51, 52, 53, 54, 55, 56, 57, 58, 59, 60, 61, 62, 63, 64, 65, 66, 67, 68, 69, 70, 71, 72, 73, 74, 75, 76, 77, 78, 79, 80, 81, 82, 83, 84, 85, 86, 87, 88, 89, 90, 91, 92, 93, 94, 95, 96, 97, 98, 99, 100, ...]  \n",
       "1   [EMEA-2022-152156, AMER-2022-138688, EMEA-2021-108966, AMER-2020-115812, EMEA-2023-114412, AMER-2022-161389, APJ-2021-118983, EMEA-2020-105893, EMEA-2020-167164, AMER-2020-143336, AMER-2022-137330, EMEA-2023-156909, EMEA-2021-106320, AMER-2022-121755, EMEA-2021-150630, APJ-2023-107727, APJ-2022-117590, APJ-2021-117415, APJ-2023-120999, AMER-2022-101343, EMEA-2023-139619, EMEA-2022-118255, AMER-2020-146703, APJ-2022-169194, APJ-2021-115742, EMEA-2022-105816, EMEA-2022-111682, AMER-2021-135545, APJ-2021-164175, AMER-2020-106376, EMEA-2022-119823, EMEA-2022-106075, AMER-2023-114440, EMEA-2021-134026, APJ-2023-118038, APJ-2020-147606, EMEA-2022-127208, AMER-2020-139451, EMEA-2021-149734, APJ-2023-119662, AMER-2023-140088, EMEA-2023-155558, APJ-2022-159695, AMER-2022-109806, EMEA-2021-149587, EMEA-2023-109484, EMEA-2023-161018, AMER-2023-157833, EMEA-2022-149223, APJ-2022-158568, EMEA-2022-129903, EMEA-2021-156867, EMEA-2023-119004, APJ-2021-129476, EMEA-2023-146780, EMEA-2022-128867, AMER-2020-115259, AMER-2021-110457, EMEA-2021-136476, APJ-2022-103730, APJ-2020-152030, APJ-2020-134614, AMER-2023-107272, AMER-2022-125969, AMER-2023-164147, AMER-2022-145583, EMEA-2022-110366, AMER-2023-106180, EMEA-2023-155376, AMER-2021-110744, AMER-2020-110072, EMEA-2022-114489, AMER-2022-158834, AMER-2021-124919, AMER-2021-118948, AMER-2020-104269, APJ-2022-114104, AMER-2022-162733, EMEA-2021-119697, APJ-2022-154508, AMER-2022-113817, APJ-2020-139892, AMER-2020-118962, APJ-2020-100853, APJ-2023-152366, AMER-2021-101511, EMEA-2021-137225, APJ-2020-166191, EMEA-2020-158274, EMEA-2022-105018, AMER-2020-123260, APJ-2022-157000, EMEA-2021-102281, AMER-2021-131457, AMER-2020-140004, AMER-2023-107720, EMEA-2023-124303, AMER-2023-105074, EMEA-2020-133690, APJ-2023-116701, ...]  \n",
       "2                                                                                                                                                                                                                                                                                                                                                                                                                                                                                                                                                                                                                                                                                      [11/9/2022, 6/13/2022, 10/11/2021, 6/9/2020, 4/16/2023, 12/6/2022, 11/22/2021, 11/11/2020, 5/13/2020, 8/27/2020, 12/10/2022, 7/17/2023, 9/25/2021, 1/16/2022, 9/17/2021, 10/20/2023, 12/9/2022, 12/27/2021, 9/11/2023, 7/18/2022, 9/20/2023, 3/12/2022, 10/20/2020, 6/21/2022, 4/18/2021, 12/12/2022, 6/18/2022, 11/24/2021, 4/30/2021, 12/5/2020, 6/5/2022, 9/19/2022, 9/15/2023, 4/26/2021, 12/10/2023, 11/26/2020, 10/12/2020, 9/3/2021, 11/14/2023, 5/29/2023, 10/27/2023, 4/6/2022, 9/18/2022, 1/31/2021, 11/7/2023, 11/10/2023, 6/18/2023, 9/7/2022, 8/30/2022, 12/2/2022, 11/13/2021, 11/24/2023, 10/15/2021, 12/26/2023, 11/4/2022, 8/25/2020, 3/2/2021, 4/5/2021, 12/26/2020, 9/20/2020, 11/6/2023, 11/7/2022, 2/3/2023, 10/14/2022, 9/6/2022, 9/19/2023, 12/23/2023, 9/7/2021, 10/22/2020, 3/14/2022, 5/31/2021, 5/28/2021, 3/1/2020, 11/21/2022, 5/12/2022, 12/28/2021, 11/17/2022, 11/8/2022, 9/8/2020, 8/5/2020, 9/14/2020, 4/22/2023, 11/21/2021, 12/15/2021, 11/19/2020, 11/29/2022, 8/26/2020, 7/17/2022, 10/12/2021, 10/31/2021, 3/21/2020, 7/7/2023, 6/25/2023, 8/3/2020, 12/18/2023, 6/4/2023, 12/2/2023, 2/9/2021, 1/2/2021, 10/29/2022, ...]  \n",
       "3                                                                                                                                                                                                                                                                                                                                                                                                                                                                                                                                                                                                                                                                                                                                                                                                          [20221109, 20220613, 20211011, 20200609, 20230416, 20221206, 20211122, 20201111, 20200513, 20200827, 20221210, 20230717, 20210925, 20220116, 20210917, 20231020, 20221209, 20211227, 20230911, 20220718, 20230920, 20220312, 20201020, 20220621, 20210418, 20221212, 20220618, 20211124, 20210430, 20201205, 20220605, 20220919, 20230915, 20210426, 20231210, 20201126, 20201012, 20210903, 20231114, 20230529, 20231027, 20220406, 20220918, 20210131, 20231107, 20231110, 20230618, 20220907, 20220830, 20221202, 20211113, 20231124, 20211015, 20231226, 20221104, 20200825, 20210302, 20210405, 20201226, 20200920, 20231106, 20221107, 20230203, 20221014, 20220906, 20230919, 20231223, 20210907, 20201022, 20220314, 20210531, 20210528, 20200301, 20221121, 20220512, 20211228, 20221117, 20221108, 20200908, 20200805, 20200914, 20230422, 20211121, 20211215, 20201119, 20221129, 20200826, 20220717, 20211012, 20211031, 20200321, 20230707, 20230625, 20200803, 20231218, 20230604, 20231202, 20210209, 20210102, 20221029, ...]  \n",
       "4                                                                                                                                                                                                                                                                                                                        [Nathan Bell, Deirdre Bailey, Zoe Hodges, Thomas Hodges, Adrian Hunter, Adrian Abraham, Emily Morrison, Claire Welch, Carol Campbell, Blake Hughes, Melanie Sharp, Luke Bower, Jonathan Ferguson, Sam Parsons, Neil Gill, Amelia Campbell, Chloe Short, Jasmine Metcalfe, Karen Mathis, Dylan Dickens, Sophie Lewis, Gavin Mitchell, Katherine Dowd, Harry Brown, Brian Dickens, Joseph Newman, Nicola Howard, Stewart Wilson, Eric McLean, Leah Clarkson, Alison Davidson, Sophie Vance, Anne Lee, Maria Dyer, Julia Ellison, Gordon McLean, Jessica Buckland, Bernadette Nolan, Sonia Ince, William Lewis, Melanie Young, Edward Oliver, Peter Quinn, Max Marshall, Jan Watson, Carol Ball, Gavin Walsh, Penelope Peake, Amy Scott, Carl Jackson, Joe Wallace, Luke Mills, Alexandra Dyer, Rebecca Dickens, Audrey Hardacre, Jennifer Dowd, Natalie Sanderson, Samantha Rampling, Sally Berry, Anthony Clark, Victor Short, Austin Newman, Rose Scott, Tim Morrison, Harry Murray, Dylan Dowd, Angela Parsons, Lisa Oliver, Joseph Duncan, Paul MacDonald, Gordon Graham, Sean Bower, Anthony Sanderson, Stewart Marshall, Joanne Carr, Angela Davies, William Alsop, Owen Watson, Melanie Davidson, Warren Forsyth, Gabrielle Ogden, Justin Randall, Jack Graham, Sophie Henderson, Brian Short, Samantha Lawrence, Una Hudson, Kimberly North, Dylan Ogden, Jonathan Clark, Kevin Vaughan, Madeleine Smith, Diana Ince, Tracey Knox, Michelle McLean, Diana Bell, Jan Clark, Pippa Smith, Rebecca Wilson, Irene Smith, ...]  \n",
       "5                                                                                                                                                                                                                                                                                                                                                                                                                                                                                                                                                                                                                                                                                                                                                                                                                                                                                                                                                                                                                                                                                                                                                                                                                                                                                                                                                       [Ireland, United States, Germany, Sweden, Canada, Japan, Italy, Turkey, Costa Rica, France, Australia, Luxembourg, Brazil, Philippines, India, United Kingdom, Chile, Spain, South Africa, Portugal, Colombia, Belgium, Russia, Netherlands, Mexico, Poland, Singapore, New Zealand, Czech Republic, Saudi Arabia, Argentina, South Korea, Finland, Israel, Norway, Ukraine, United Arab Emirates, Greece, China, Austria, Indonesia, Egypt, Denmark, Croatia, Taiwan, Qatar, Slovenia, Iceland]  \n",
       "6                                                                                                                                                                                                                                                                                                                                                                                                                                                                                                                                                                                                                                                                                                                                                                                                        [Dublin, New York City, Stuttgart, Stockholm, Toronto, Saitama, Naples, Ankara, Los Angeles, San José, Paris, Istanbul, Tokyo, Aichi, Wollongong, Hanover, Luxembourg, Salvador, Davao City, Kolkata, London, Brighton, Sydney, Puente Alto, Madrid, Rio de Janeiro, Cape Town, Lisboa, Uppsala, Bogotá, Brussels, Moscow, Canberra, The Hague, Mexico City, Manila, Geelong, Santiago, Aurora, Warsaw, Newark, Monterrey, Rome, Chicago, Singapore, Wellington, Osaka, Melbourne, Prague, Riyadh, Raleigh, Providence, Córdoba, Guadalajara, Oklahoma City, Puerto Vallarta, São Paulo, Johannesburg, Cologne, Rochester, Seattle, Detroit, Lafayette, Munich, St Petersburg, Buenos Aires, Mendoza, Leipzig, Jacksonville, Long Beach, Chiba, Incheon, Helsinki, Dhahran, Seoul, Dresden, Vancouver, Adelaide, Tel Aviv, Hordaland, Hamburg, Henderson, Kyiv, Leicester, Malmö, Berlin, Mumbai, Cardiff, Columbus, Fukuoka, Birmingham, Kanagawa, Liverpool, Abu Dhabi, Milwaukee, Yekaterinburg, Krakow, Frankfurt, Porto, Antofagasta, ...]  \n",
       "7                                                                                                                                                                                                                                                                                                                                                                                                                                                                                                                                                                                                                                                                                                                                                                                                                                                                                                                                                                                                                                                                                                                                                                                                                                                                                                                                                                                                                                                                                                                                                                                                                                                                                                                                                                                                                                      [EMEA, AMER, APJ]  \n",
       "8                                                                                                                                                                                                                                                                                                                                                                                                                                                                                                                                                                                                                                                                                                                                                                                                                                                                                                                                                                                                                                                                                                                                                                                                                                                                                                                                                                                                                                                                                                                                                                                                                                                                                                                                                                             [UKIR, NAMER, EU-WEST, NOR, JAPN, EU, MEA, LATAM, ANZ, APAC, IND, EU-EAST]  \n",
       "9                                                                                                                                                                                                                                                                                                                                                                                                                                                                                                                           [Chevron, Phillips 66, Royal Dutch Shell, BNP Paribas, Engie, Microsoft, Pfizer, Toyota Motor, Home Depot, Wells Fargo, Carrefour, Costco Wholesale, McKesson, Siemens, Intel, Glencore, Procter & Gamble, Banco Santander, Pemex, Samsung Electronics, Sony, Morgan Stanley, Bank of America Corp., Tesco, Aviva, Mondelez International, Abbott Laboratories, Fannie Mae, Aetna, Oracle, Nissan Motor, Tyson Foods, Verizon Communications, Itochu, Daimler, Walgreens, Boeing, Valero Energy, Nestle, Philip Morris International, Trafigura Group, Walmart, Cisco Systems, Prudential Financial, Amazon, Gazprom, FedEx, Honda Motor, CVS Health, General Motors, State Farm Insurance Cos., Comcast, AmerisourceBergen, Johnson & Johnson, HonHai Precision Industry, American Express, J.P. Morgan Chase & Co., Kroger, Volkswagen, Merck, AT&T, Allstate, BMW, Humana, Sprint Nextel, Allianz, United Parcel Service, Target, Airbus, Cigna, Goldman Sachs Group, Lowes, Ford Motor, Apple, China National Petroleum, ConocoPhillips, Bosch, HSBC Holdings, Enel, Sysco, Marathon Petroleum, UnitedHealth Group, Mitsubishi, Exxon Mobil, Anthem, Petrobras, Lukoil, Coca-Cola, PepsiCo, General Electric, Berkshire Hathaway, Walt Disney, Alphabet, Huawei, News Corp., Caterpillar, Citigroup, Panasonic, Safeway]  \n",
       "10                                                                                                                                                                                                                                                                                                                                                                                                                                                                                                                                                                                                                                                                                                                                                                                                                                                                                                                                                                                                                                                                                                                                                                                                                                    [1017, 1056, 1031, 1065, 1062, 1066, 1074, 1087, 1047, 1099, 1048, 1025, 1063, 1043, 1051, 1083, 1077, 1101, 1058, 1015, 1028, 1068, 1011, 1059, 1006, 1067, 1001, 1035, 1002, 1072, 1098, 1088, 1094, 1032, 1052, 1095, 1014, 1093, 1089, 1075, 1100, 1096, 1019, 1078, 1004, 1027, 1036, 1045, 1026, 1041, 1082, 1022, 1007, 1055, 1033, 1005, 1054, 1057, 1046, 1064, 1010, 1003, 1039, 1049, 1081, 1080, 1090, 1085, 1030, 1038, 1042, 1060, 1009, 1008, 1023, 1024, 1076, 1070, 1013, 1084, 1061, 1092, 1050, 1034, 1029, 1018, 1044, 1021, 1073, 1040, 1012, 1097, 1053, 1086, 1071, 1016, 1020, 1091, 1079]  \n",
       "11                                                                                                                                                                                                                                                                                                                                                                                                                                                                                                                                                                                                                                                                                                                                                                                                                                                                                                                                                                                                                                                                                                                                                                                                                                                                                                                                                                                                                                                                                                                                                                                                                                                                                                                                   [Energy, Finance, Tech, Healthcare, Manufacturing, Retail, Consumer Products, Misc, Transportation, Communications]  \n",
       "12                                                                                                                                                                                                                                                                                                                                                                                                                                                                                                                                                                                                                                                                                                                                                                                                                                                                                                                                                                                                                                                                                                                                                                                                                                                                                                                                                                                                                                                                                                                                                                                                                                                                                                                                                                                                                          [SMB, Strategic, Enterprise]  \n",
       "13                                                                                                                                                                                                                                                                                                                                                                                                                                                                                                                                                                                                                                                                                                                                                                                                                                                                                                                                                                                                                                                                                                                                                                                                                                                                                                                                                                                                                                                                                                                                                                                                                             [Marketing Suite, FinanceHub, ContactMatcher, Marketing Suite - Gold, SaaS Connector Pack, ChatBot Plugin, Site Analytics, OneView, Support, Data Smasher, SaaS Connector Pack - Gold, Storage, Big Ol Database, Alchemy]  \n",
       "14                                                                                                                                                                                                                                                                                                                                                                                                                                                                                                                                                                                                 [16GRM07R1K, QLIW57KZUV, JI6BVL70HQ, DE9GJKGD44, OIF7NY23WD, 8RM88WFOAE, 4SYTVM0746, 07842ES7DY, XPBOBXWXA3, 71J8P9Z1P0, 43NZ37VE2D, JG14MOU94R, FE5QJBIUN1, COK66F8IC1, D8FGC56NNX, NRKT5R1A1G, K5XHYWZ1OV, LWWKLPY4AU, ZYL9KDTY68, I54O29EW1T, E3TF1V9DE8, B83G92QX65, VWDIYAB44Z, AJOASBK55N, P1I8X35CUZ, NRCR8EBL62, PV9U9D3A6O, F8G07TWQ17, BGL4P1U2CZ, B5H6S070N8, D9635UBJOG, 6SQI2HAZ4C, GPQ0TDTGIM, 4YZZHFC212, 77YXBOVGDH, GCT4GPUBVT, TKN9K1JO1D, 2F0NIUM5X9, FBXEM82WEZ, TS9MS0FQVU, HDJMRDRWK6, QINRKET2EK, DFHNNSTX0P, 616XTGD7Y3, F4GWWGL9KR, JFCUNTQD5P, S2GUIRDRRI, 2L5WUVH1UW, O0QZ4DQ2DW, 4A8Q6U643K, N3660I16OB, DU3DC8HDNW, SCMV1FUA1Z, 5JTHBK78DZ, JPNWB3X2PG, RI8MDZ0Y3A, TA8D5XDFPN, 9QD1V31VWF, NKEOT3DP5L, I8M069JA80, 3N1DY2AIMD, MBZM7LCSK4, LMJYGCZAFV, MVEQDJNPR2, OLS0NNZ15B, 84GUTTZTC0, 6QHQUNX985, 91D0JN8T6U, 6NQZXRTE33, JH2K4261IC, 5MAZAYKQ5U, K4O1D2NXHZ, NPQNQFYUUU, D0Z9FZR0JL, X15ND79M8Q, A4VC3VGTLE, IR30G9I4WJ, PGTVTGM7XI, JQHP8C8VXP, 1I3JIURUQR, 0UHOHNAAAD, 920M0N09EE, 9SVF10L0F3, CFUHIDO1WY, CUL2MB77E0, RBNGNEEYS9, W731G6G61K, A3HQUY156G, 45JXXNYX5W, AX50KL6AG9, S4CEY2GSVW, V86OBN8J1U, XJEFE2O3YF, 5XEHT10HDW, U40N63E6AK, VK1TWXDWUR, UFEXZDF5TK, GJFN2RJA9U, PFLFDN3SOU, 2CWM52X1X9, ...]  \n",
       "15                                                                                                                                                                                                                                                                                                                                                                                                                                                                                                                                                                                                                                                                                                                                                                                                                                                                                                                                                                                                                                                          [261.96, 731.94, 14.62, 957.5775, 22.368, 48.86, 7.28, 907.152, 18.504, 114.9, 1706.184, 911.424, 15.552, 407.976, 68.81, 2.544, 665.88, 55.5, 8.56, 213.48, 22.72, 19.46, 60.34, 71.372, 1044.63, 11.648, 90.57, 3083.43, 9.618, 124.2, 3.264, 86.304, 6.858, 15.76, 29.472, 1097.544, 190.92, 113.328, 532.3992, 212.058, 371.168, 147.168, 77.88, 95.616, 45.98, 17.46, 211.96, 45.0, 21.8, 38.22, 75.18, 6.16, 89.99, 15.26, 1029.95, 208.56, 32.4, 319.41, 14.56, 30.0, 48.48, 1.68, 13.98, 25.824, 146.73, 79.76, 213.115, 1113.024, 167.968, 75.88, 4.616, 19.05, 831.936, 97.04, 72.784, 1.248, 9.708, 27.24, 19.3, 208.16, 16.74, 14.9, 21.39, 200.984, 230.376, 301.96, 19.99, 158.368, 20.1, 73.584, 6.48, 12.96, 53.34, 32.96, 5.682, 96.53, 51.312, 64.624, 95.976, 1.788, ...]  \n",
       "16                                                                                                                                                                                                                                                                                                                                                                                                                                                                                                                                                                                                                                                                                                                                                                                                                                                                                                                                                                                                                                                                                                                                                                                                                                                                                                                                                                                                                                                                                                                                                                                                                                                                                                                                                                                                       [2, 3, 5, 7, 4, 6, 9, 1, 8, 14, 11, 13, 10, 12]  \n",
       "17                                                                                                                                                                                                                                                                                                                                                                                                                                                                                                                                                                                                                                                                                                                                                                                                                                                                                                                                                                                                                                                                                                                                                                                                                                                                                                                                                                                                                                                                                                                                                                                                                                                                                                                                                                                       [0.0, 0.45, 0.2, 0.8, 0.3, 0.5, 0.7, 0.6, 0.32, 0.1, 0.4, 0.15]  \n",
       "18                                                                                                                                                                                                                                                                                                                                                                                                                                                                                                                                                                                                                                                                                                                                                                                                                                                                                                                                                                     [41.9136, 219.582, 6.8714, -383.031, 2.5164, 14.1694, 1.9656, 90.7152, 5.7825, 34.47, 85.3092, 68.3568, 5.4432, 132.5922, -123.858, -3.816, 13.3176, 9.99, 2.4824, 16.011, 7.384, 5.0596, 15.6884, -1.0196, 240.2649, 4.2224, 11.7741, -1665.0522, -7.0532, 15.525, 1.1016, 9.7092, -5.715, 3.546, 9.9468, 123.4737, -147.963, 35.415, -46.9764, -15.147, 41.7564, 16.5564, 3.894, 9.5616, 19.7714, 8.2062, 8.4784, 4.95, 6.104, 17.9634, 35.3346, 2.9568, 17.0981, 6.2566, 298.6855, 52.14, 15.552, 7.098, 6.9888, 3.3, 16.362, 0.84, 6.1512, 9.3612, 68.9631, 22.3328, -15.2225, 111.3024, 62.988, 35.6636, 1.731, 8.763, -114.3912, 1.213, -18.196, -1.9344, -5.8248, 2.724, -14.475, 56.2032, 8.0352, 4.172, 6.2031, 62.8075, -48.9549, 33.2156, 6.7966, 13.8572, 6.633, 8.2782, 3.1104, 6.2208, 16.5354, 16.1504, -3.788, 40.5426, 17.9592, 22.5852, 22.6184, -10.7973, ...]  "
      ]
     },
     "metadata": {},
     "output_type": "display_data"
    }
   ],
   "source": [
    "check(data)"
   ]
  },
  {
   "cell_type": "markdown",
   "metadata": {},
   "source": [
    "**Mengecek apakah ada ```record``` yang ter```duplikat```. Jika ada maka akan dihapus, karena akan membuat data analysis kurang valid**"
   ]
  },
  {
   "cell_type": "code",
   "execution_count": 108,
   "metadata": {},
   "outputs": [
    {
     "data": {
      "text/html": [
       "<div>\n",
       "<style scoped>\n",
       "    .dataframe tbody tr th:only-of-type {\n",
       "        vertical-align: middle;\n",
       "    }\n",
       "\n",
       "    .dataframe tbody tr th {\n",
       "        vertical-align: top;\n",
       "    }\n",
       "\n",
       "    .dataframe thead th {\n",
       "        text-align: right;\n",
       "    }\n",
       "</style>\n",
       "<table border=\"1\" class=\"dataframe\">\n",
       "  <thead>\n",
       "    <tr style=\"text-align: right;\">\n",
       "      <th></th>\n",
       "      <th>Row ID</th>\n",
       "      <th>Order ID</th>\n",
       "      <th>Order Date</th>\n",
       "      <th>Date Key</th>\n",
       "      <th>Contact Name</th>\n",
       "      <th>Country</th>\n",
       "      <th>City</th>\n",
       "      <th>Region</th>\n",
       "      <th>Subregion</th>\n",
       "      <th>Customer</th>\n",
       "      <th>Customer ID</th>\n",
       "      <th>Industry</th>\n",
       "      <th>Segment</th>\n",
       "      <th>Product</th>\n",
       "      <th>License</th>\n",
       "      <th>Sales</th>\n",
       "      <th>Quantity</th>\n",
       "      <th>Discount</th>\n",
       "      <th>Profit</th>\n",
       "    </tr>\n",
       "  </thead>\n",
       "  <tbody>\n",
       "  </tbody>\n",
       "</table>\n",
       "</div>"
      ],
      "text/plain": [
       "Empty DataFrame\n",
       "Columns: [Row ID, Order ID, Order Date, Date Key, Contact Name, Country, City, Region, Subregion, Customer, Customer ID, Industry, Segment, Product, License, Sales, Quantity, Discount, Profit]\n",
       "Index: []"
      ]
     },
     "execution_count": 108,
     "metadata": {},
     "output_type": "execute_result"
    }
   ],
   "source": [
    "data[data.duplicated()]"
   ]
  },
  {
   "cell_type": "markdown",
   "metadata": {},
   "source": [
    "### **Drop Unnecessary Table**"
   ]
  },
  {
   "cell_type": "code",
   "execution_count": 109,
   "metadata": {},
   "outputs": [
    {
     "data": {
      "text/plain": [
       "Date Key  Order Date\n",
       "20220906  9/6/2022      38\n",
       "20230903  9/3/2023      36\n",
       "20221111  11/11/2022    35\n",
       "20231203  12/3/2023     34\n",
       "20231202  12/2/2023     34\n",
       "                        ..\n",
       "20220301  3/1/2022       1\n",
       "20220308  3/8/2022       1\n",
       "20220331  3/31/2022      1\n",
       "20220403  4/3/2022       1\n",
       "20220203  2/3/2022       1\n",
       "Name: count, Length: 1237, dtype: int64"
      ]
     },
     "metadata": {},
     "output_type": "display_data"
    },
    {
     "data": {
      "text/plain": [
       "License\n",
       "16GRM07R1K    1\n",
       "Y8TULY7XSD    1\n",
       "OL8LUB2422    1\n",
       "4YLZ318U2E    1\n",
       "NVAYXZ2NB5    1\n",
       "             ..\n",
       "4QCWULG76F    1\n",
       "OZFTJG725G    1\n",
       "R2G2Z3TP04    1\n",
       "415425LE8Q    1\n",
       "3NTBV9B3PS    1\n",
       "Name: count, Length: 9994, dtype: int64"
      ]
     },
     "metadata": {},
     "output_type": "display_data"
    },
    {
     "data": {
      "text/plain": [
       "Customer            Customer ID\n",
       "Allianz             1080           192\n",
       "Tyson Foods         1088           184\n",
       "Ford Motor          1009           176\n",
       "Siemens             1043           170\n",
       "Comcast             1022           161\n",
       "                                  ... \n",
       "Tesco               1059            48\n",
       "Alphabet            1053            44\n",
       "Berkshire Hathaway  1012            39\n",
       "Safeway             1079            39\n",
       "Citigroup           1020            22\n",
       "Name: count, Length: 99, dtype: int64"
      ]
     },
     "metadata": {},
     "output_type": "display_data"
    }
   ],
   "source": [
    "display(\n",
    "    data[['Date Key', 'Order Date']].value_counts(),\n",
    "    data['License'].value_counts(),\n",
    "    data[['Customer', 'Customer ID']].value_counts()\n",
    ")\n"
   ]
  },
  {
   "cell_type": "code",
   "execution_count": 110,
   "metadata": {},
   "outputs": [],
   "source": [
    "data.drop(['Row ID', 'Date Key', 'License', 'Customer ID'], axis = 1, inplace= True)"
   ]
  },
  {
   "cell_type": "markdown",
   "metadata": {},
   "source": [
    "Alasan hapus variable\n",
    "- `Row id`: karna unique value sebanyak jumlah row\n",
    "- `Date Key` : karna identik dengan `Order Date`\n",
    "- `License` : karna unique value sebanyak jumalh row\n",
    "- `Customer ID` : karna identik dengan `Customer`"
   ]
  },
  {
   "cell_type": "markdown",
   "metadata": {},
   "source": [
    "Mengecek ```perbedaan``` setelah melakukan drop table"
   ]
  },
  {
   "cell_type": "code",
   "execution_count": 111,
   "metadata": {},
   "outputs": [
    {
     "data": {
      "text/html": [
       "<div>\n",
       "<style scoped>\n",
       "    .dataframe tbody tr th:only-of-type {\n",
       "        vertical-align: middle;\n",
       "    }\n",
       "\n",
       "    .dataframe tbody tr th {\n",
       "        vertical-align: top;\n",
       "    }\n",
       "\n",
       "    .dataframe thead th {\n",
       "        text-align: right;\n",
       "    }\n",
       "</style>\n",
       "<table border=\"1\" class=\"dataframe\">\n",
       "  <thead>\n",
       "    <tr style=\"text-align: right;\">\n",
       "      <th></th>\n",
       "      <th>Order ID</th>\n",
       "      <th>Order Date</th>\n",
       "      <th>Contact Name</th>\n",
       "      <th>Country</th>\n",
       "      <th>City</th>\n",
       "      <th>Region</th>\n",
       "      <th>Subregion</th>\n",
       "      <th>Customer</th>\n",
       "      <th>Industry</th>\n",
       "      <th>Segment</th>\n",
       "      <th>Product</th>\n",
       "      <th>Sales</th>\n",
       "      <th>Quantity</th>\n",
       "      <th>Discount</th>\n",
       "      <th>Profit</th>\n",
       "    </tr>\n",
       "  </thead>\n",
       "  <tbody>\n",
       "    <tr>\n",
       "      <th>0</th>\n",
       "      <td>EMEA-2022-152156</td>\n",
       "      <td>11/9/2022</td>\n",
       "      <td>Nathan Bell</td>\n",
       "      <td>Ireland</td>\n",
       "      <td>Dublin</td>\n",
       "      <td>EMEA</td>\n",
       "      <td>UKIR</td>\n",
       "      <td>Chevron</td>\n",
       "      <td>Energy</td>\n",
       "      <td>SMB</td>\n",
       "      <td>Marketing Suite</td>\n",
       "      <td>261.9600</td>\n",
       "      <td>2</td>\n",
       "      <td>0.00</td>\n",
       "      <td>41.9136</td>\n",
       "    </tr>\n",
       "    <tr>\n",
       "      <th>1</th>\n",
       "      <td>EMEA-2022-152156</td>\n",
       "      <td>11/9/2022</td>\n",
       "      <td>Nathan Bell</td>\n",
       "      <td>Ireland</td>\n",
       "      <td>Dublin</td>\n",
       "      <td>EMEA</td>\n",
       "      <td>UKIR</td>\n",
       "      <td>Chevron</td>\n",
       "      <td>Energy</td>\n",
       "      <td>SMB</td>\n",
       "      <td>FinanceHub</td>\n",
       "      <td>731.9400</td>\n",
       "      <td>3</td>\n",
       "      <td>0.00</td>\n",
       "      <td>219.5820</td>\n",
       "    </tr>\n",
       "    <tr>\n",
       "      <th>2</th>\n",
       "      <td>AMER-2022-138688</td>\n",
       "      <td>6/13/2022</td>\n",
       "      <td>Deirdre Bailey</td>\n",
       "      <td>United States</td>\n",
       "      <td>New York City</td>\n",
       "      <td>AMER</td>\n",
       "      <td>NAMER</td>\n",
       "      <td>Phillips 66</td>\n",
       "      <td>Energy</td>\n",
       "      <td>Strategic</td>\n",
       "      <td>FinanceHub</td>\n",
       "      <td>14.6200</td>\n",
       "      <td>2</td>\n",
       "      <td>0.00</td>\n",
       "      <td>6.8714</td>\n",
       "    </tr>\n",
       "    <tr>\n",
       "      <th>3</th>\n",
       "      <td>EMEA-2021-108966</td>\n",
       "      <td>10/11/2021</td>\n",
       "      <td>Zoe Hodges</td>\n",
       "      <td>Germany</td>\n",
       "      <td>Stuttgart</td>\n",
       "      <td>EMEA</td>\n",
       "      <td>EU-WEST</td>\n",
       "      <td>Royal Dutch Shell</td>\n",
       "      <td>Energy</td>\n",
       "      <td>SMB</td>\n",
       "      <td>ContactMatcher</td>\n",
       "      <td>957.5775</td>\n",
       "      <td>5</td>\n",
       "      <td>0.45</td>\n",
       "      <td>-383.0310</td>\n",
       "    </tr>\n",
       "    <tr>\n",
       "      <th>4</th>\n",
       "      <td>EMEA-2021-108966</td>\n",
       "      <td>10/11/2021</td>\n",
       "      <td>Zoe Hodges</td>\n",
       "      <td>Germany</td>\n",
       "      <td>Stuttgart</td>\n",
       "      <td>EMEA</td>\n",
       "      <td>EU-WEST</td>\n",
       "      <td>Royal Dutch Shell</td>\n",
       "      <td>Energy</td>\n",
       "      <td>SMB</td>\n",
       "      <td>Marketing Suite - Gold</td>\n",
       "      <td>22.3680</td>\n",
       "      <td>2</td>\n",
       "      <td>0.20</td>\n",
       "      <td>2.5164</td>\n",
       "    </tr>\n",
       "  </tbody>\n",
       "</table>\n",
       "</div>"
      ],
      "text/plain": [
       "           Order ID  Order Date    Contact Name        Country           City  \\\n",
       "0  EMEA-2022-152156   11/9/2022     Nathan Bell        Ireland         Dublin   \n",
       "1  EMEA-2022-152156   11/9/2022     Nathan Bell        Ireland         Dublin   \n",
       "2  AMER-2022-138688   6/13/2022  Deirdre Bailey  United States  New York City   \n",
       "3  EMEA-2021-108966  10/11/2021      Zoe Hodges        Germany      Stuttgart   \n",
       "4  EMEA-2021-108966  10/11/2021      Zoe Hodges        Germany      Stuttgart   \n",
       "\n",
       "  Region Subregion           Customer Industry    Segment  \\\n",
       "0   EMEA      UKIR            Chevron   Energy        SMB   \n",
       "1   EMEA      UKIR            Chevron   Energy        SMB   \n",
       "2   AMER     NAMER        Phillips 66   Energy  Strategic   \n",
       "3   EMEA   EU-WEST  Royal Dutch Shell   Energy        SMB   \n",
       "4   EMEA   EU-WEST  Royal Dutch Shell   Energy        SMB   \n",
       "\n",
       "                  Product     Sales  Quantity  Discount    Profit  \n",
       "0         Marketing Suite  261.9600         2      0.00   41.9136  \n",
       "1              FinanceHub  731.9400         3      0.00  219.5820  \n",
       "2              FinanceHub   14.6200         2      0.00    6.8714  \n",
       "3          ContactMatcher  957.5775         5      0.45 -383.0310  \n",
       "4  Marketing Suite - Gold   22.3680         2      0.20    2.5164  "
      ]
     },
     "execution_count": 111,
     "metadata": {},
     "output_type": "execute_result"
    }
   ],
   "source": [
    "data.head()"
   ]
  },
  {
   "cell_type": "markdown",
   "metadata": {},
   "source": [
    "### **Mengecek unique value setiap variabel**"
   ]
  },
  {
   "cell_type": "markdown",
   "metadata": {},
   "source": [
    "Tujuan dari mengecek setiap value dalam setiap variabel adalah untuk mencari apakah ada `rare value` atau `inkonsisten value` disetiap variabelnya.\n",
    "\n",
    "Kita lihat dulu semua kolom (variabel) yang ada dalam dataset:"
   ]
  },
  {
   "cell_type": "code",
   "execution_count": 112,
   "metadata": {},
   "outputs": [
    {
     "data": {
      "text/plain": [
       "array(['Order ID', 'Order Date', 'Contact Name', 'Country', 'City',\n",
       "       'Region', 'Subregion', 'Customer', 'Industry', 'Segment',\n",
       "       'Product', 'Sales', 'Quantity', 'Discount', 'Profit'], dtype=object)"
      ]
     },
     "execution_count": 112,
     "metadata": {},
     "output_type": "execute_result"
    }
   ],
   "source": [
    "data.columns.values"
   ]
  },
  {
   "cell_type": "markdown",
   "metadata": {},
   "source": [
    "##### Mengecek Variabel `Order ID`"
   ]
  },
  {
   "cell_type": "code",
   "execution_count": 113,
   "metadata": {},
   "outputs": [
    {
     "data": {
      "text/plain": [
       "array(['AMER-2020-100090', 'AMER-2020-100279', 'AMER-2020-100363', ...,\n",
       "       'EMEA-2023-169929', 'EMEA-2023-169978', 'EMEA-2023-169999'],\n",
       "      dtype=object)"
      ]
     },
     "execution_count": 113,
     "metadata": {},
     "output_type": "execute_result"
    }
   ],
   "source": [
    "np.sort(data['Order ID'].unique())"
   ]
  },
  {
   "cell_type": "code",
   "execution_count": 114,
   "metadata": {},
   "outputs": [
    {
     "data": {
      "text/plain": [
       "Order ID\n",
       "EMEA-2023-100111    14\n",
       "EMEA-2023-157987    12\n",
       "AMER-2022-165330    11\n",
       "EMEA-2022-108504    11\n",
       "EMEA-2021-131338    10\n",
       "                    ..\n",
       "EMEA-2022-157259     1\n",
       "AMER-2023-107986     1\n",
       "EMEA-2021-112508     1\n",
       "APJ-2022-126844      1\n",
       "AMER-2023-119914     1\n",
       "Name: count, Length: 5009, dtype: int64"
      ]
     },
     "execution_count": 114,
     "metadata": {},
     "output_type": "execute_result"
    }
   ],
   "source": [
    "data['Order ID'].value_counts()"
   ]
  },
  {
   "cell_type": "markdown",
   "metadata": {},
   "source": [
    "##### Mengecek Variabel `Order Date`"
   ]
  },
  {
   "cell_type": "code",
   "execution_count": 115,
   "metadata": {},
   "outputs": [
    {
     "data": {
      "text/plain": [
       "array(['1/1/2023', '1/10/2020', '1/10/2021', ..., '9/9/2020', '9/9/2022',\n",
       "       '9/9/2023'], dtype=object)"
      ]
     },
     "execution_count": 115,
     "metadata": {},
     "output_type": "execute_result"
    }
   ],
   "source": [
    "np.sort(data['Order Date'].unique())"
   ]
  },
  {
   "cell_type": "code",
   "execution_count": 116,
   "metadata": {},
   "outputs": [
    {
     "data": {
      "text/plain": [
       "Order Date\n",
       "9/6/2022      38\n",
       "9/3/2023      36\n",
       "11/11/2022    35\n",
       "12/2/2023     34\n",
       "12/3/2023     34\n",
       "              ..\n",
       "2/25/2022      1\n",
       "10/26/2022     1\n",
       "2/22/2020      1\n",
       "10/19/2022     1\n",
       "1/22/2020      1\n",
       "Name: count, Length: 1237, dtype: int64"
      ]
     },
     "execution_count": 116,
     "metadata": {},
     "output_type": "execute_result"
    }
   ],
   "source": [
    "data['Order Date'].value_counts()"
   ]
  },
  {
   "cell_type": "markdown",
   "metadata": {},
   "source": [
    "Mengubah tipe Variable `Order Date` menjadi datetime"
   ]
  },
  {
   "cell_type": "code",
   "execution_count": 117,
   "metadata": {},
   "outputs": [
    {
     "name": "stdout",
     "output_type": "stream",
     "text": [
      "<class 'pandas.core.frame.DataFrame'>\n",
      "RangeIndex: 9994 entries, 0 to 9993\n",
      "Data columns (total 15 columns):\n",
      " #   Column        Non-Null Count  Dtype         \n",
      "---  ------        --------------  -----         \n",
      " 0   Order ID      9994 non-null   object        \n",
      " 1   Order Date    9994 non-null   datetime64[ns]\n",
      " 2   Contact Name  9994 non-null   object        \n",
      " 3   Country       9994 non-null   object        \n",
      " 4   City          9994 non-null   object        \n",
      " 5   Region        9994 non-null   object        \n",
      " 6   Subregion     9994 non-null   object        \n",
      " 7   Customer      9994 non-null   object        \n",
      " 8   Industry      9994 non-null   object        \n",
      " 9   Segment       9994 non-null   object        \n",
      " 10  Product       9994 non-null   object        \n",
      " 11  Sales         9994 non-null   float64       \n",
      " 12  Quantity      9994 non-null   int64         \n",
      " 13  Discount      9994 non-null   float64       \n",
      " 14  Profit        9994 non-null   float64       \n",
      "dtypes: datetime64[ns](1), float64(3), int64(1), object(10)\n",
      "memory usage: 1.1+ MB\n"
     ]
    }
   ],
   "source": [
    "data['Order Date'] = pd.to_datetime(data['Order Date'], format='%m/%d/%Y')\n",
    "data.info()"
   ]
  },
  {
   "cell_type": "markdown",
   "metadata": {},
   "source": [
    "##### Mengecek Variabel `Contact Name`"
   ]
  },
  {
   "cell_type": "code",
   "execution_count": 118,
   "metadata": {},
   "outputs": [
    {
     "data": {
      "text/plain": [
       "array(['Abigail Langdon', 'Adam Davidson', 'Adam James', 'Adam Manning',\n",
       "       'Adam Nash', 'Adrian Abraham', 'Adrian Clarkson', 'Adrian Hunter',\n",
       "       'Adrian Poole', 'Adrian Walker', 'Alan Bailey', 'Alan Berry',\n",
       "       'Alan Gill', 'Alan Graham', 'Alan Hudson', 'Alan White',\n",
       "       'Alexander Duncan', 'Alexander Hill', 'Alexander James',\n",
       "       'Alexander Langdon', 'Alexander Martin', 'Alexander Pullman',\n",
       "       'Alexander Wallace', 'Alexandra Dyer', 'Alexandra May',\n",
       "       'Alexandra Morrison', 'Alexandra Sharp', 'Alexandra Slater',\n",
       "       'Alison Coleman', 'Alison Davidson', 'Alison Fisher',\n",
       "       'Alison Howard', 'Alison Miller', 'Alison Mills',\n",
       "       'Amelia Campbell', 'Amelia Chapman', 'Amelia Kelly', 'Amelia Lee',\n",
       "       'Amelia Martin', 'Amy Edmunds', 'Amy Paterson', 'Amy Scott',\n",
       "       'Amy Simpson', 'Andrea Hill', 'Andrea Hughes', 'Andrea Hunter',\n",
       "       'Andrea Rampling', 'Andrea Reid', 'Andrew Lee', 'Andrew Lewis',\n",
       "       'Andrew Miller', 'Andrew Reid', 'Andrew Sanderson',\n",
       "       'Andrew Slater', 'Andrew Smith', 'Andrew Wilkins',\n",
       "       'Angela Churchill', 'Angela Davies', 'Angela Parsons',\n",
       "       'Anna Bower', 'Anna Clarkson', 'Anna Fisher', 'Anna Hemmings',\n",
       "       'Anna Reid', 'Anne Lee', 'Anne Rutherford', 'Anthony Clark',\n",
       "       'Anthony Mackay', 'Anthony Sanderson', 'Audrey Alsop',\n",
       "       'Audrey Bower', 'Audrey Hardacre', 'Audrey Wilkins',\n",
       "       'Audrey Young', 'Austin Newman', 'Austin Peters', 'Austin Randall',\n",
       "       'Austin Stewart', 'Ava Ellison', 'Ava Oliver', 'Bella Hodges',\n",
       "       'Bella Mackenzie', 'Bella Morgan', 'Bella Payne', 'Bella Powell',\n",
       "       'Bella Wallace', 'Benjamin Bailey', 'Benjamin Berry',\n",
       "       'Benjamin Bower', 'Benjamin Fisher', 'Benjamin Hughes',\n",
       "       'Bernadette Black', 'Bernadette Hill', 'Bernadette Hudson',\n",
       "       'Bernadette Nolan', 'Bernadette Scott', 'Blake Campbell',\n",
       "       'Blake Fraser', 'Blake Hart', 'Blake Hughes', 'Blake Jackson',\n",
       "       'Blake Reid', 'Blake Short', 'Boris Baker', 'Boris Coleman',\n",
       "       'Boris Hunter', 'Boris Reid', 'Boris Springer', 'Boris Underwood',\n",
       "       'Boris Vance', 'Boris Walsh', 'Brandon Kerr', 'Brandon Vaughan',\n",
       "       'Brian Campbell', 'Brian Dickens', 'Brian Hunter', 'Brian Peters',\n",
       "       'Brian Short', 'Cameron Bower', 'Cameron King', 'Cameron Lawrence',\n",
       "       'Cameron MacLeod', 'Cameron Miller', 'Cameron Oliver',\n",
       "       'Cameron Randall', 'Carl Avery', 'Carl Ince', 'Carl Jackson',\n",
       "       'Carl Langdon', 'Carl Miller', 'Carl Powell', 'Carol Ball',\n",
       "       'Carol Berry', 'Carol Campbell', 'Carol Edmunds', 'Carol Forsyth',\n",
       "       'Carol Greene', 'Carol James', 'Caroline Burgess',\n",
       "       'Caroline Gibson', 'Caroline Greene', 'Caroline Smith',\n",
       "       'Carolyn Dowd', 'Carolyn Metcalfe', 'Carolyn Murray',\n",
       "       'Carolyn Parr', 'Carolyn Ross', 'Charles Buckland',\n",
       "       'Charles Churchill', 'Charles Hart', 'Charles Lee', 'Charles Ross',\n",
       "       'Charles Wilkins', 'Chloe Campbell', 'Chloe May', 'Chloe Short',\n",
       "       'Chloe Underwood', 'Chloe Vance', 'Chloe White', 'Christian Gill',\n",
       "       'Christian Glover', 'Christian Kerr', 'Christian Lyman',\n",
       "       'Christopher Hodges', 'Christopher James', 'Claire Carr',\n",
       "       'Claire Henderson', 'Claire Springer', 'Claire Vance',\n",
       "       'Claire Welch', 'Colin Bell', 'Colin Glover', 'Colin Hamilton',\n",
       "       'Colin Morgan', 'Colin White', 'Connor McDonald',\n",
       "       'Connor Morrison', 'Connor Nolan', 'Connor Paige',\n",
       "       'Connor Roberts', 'Connor Watson', 'Dan Allan', 'Dan Davidson',\n",
       "       'Dan Hunter', 'Dan Rutherford', 'Dan Tucker', 'David Graham',\n",
       "       'David Lee', 'David McDonald', 'David Murray', 'Deirdre Bailey',\n",
       "       'Deirdre James', 'Deirdre McDonald', 'Deirdre Ogden',\n",
       "       'Deirdre Sharp', 'Diana Bell', 'Diana Black', 'Diana Ince',\n",
       "       'Diana Taylor', 'Diane Buckland', 'Diane Hart', 'Diane Metcalfe',\n",
       "       'Diane Mills', 'Diane Murray', 'Dominic Bell', 'Dominic Burgess',\n",
       "       'Dominic Duncan', 'Dominic Hill', 'Dominic Lawrence',\n",
       "       'Dominic Short', 'Donna Bailey', 'Donna Hemmings', 'Donna Scott',\n",
       "       'Dorothy Pullman', 'Dylan Anderson', 'Dylan Dickens', 'Dylan Dowd',\n",
       "       'Dylan Ince', 'Dylan Mills', 'Dylan Ogden', 'Dylan Terry',\n",
       "       'Edward Berry', 'Edward Hardacre', 'Edward Mathis',\n",
       "       'Edward Oliver', 'Edward Wilkins', 'Elizabeth Hughes',\n",
       "       'Elizabeth Young', 'Ella Clarkson', 'Ella Hart', 'Ella Henderson',\n",
       "       'Ella King', 'Ella Lawrence', 'Ella Paige', 'Ella Rees',\n",
       "       'Ella Simpson', 'Ella Springer', 'Ella Thomson', 'Emily Ball',\n",
       "       'Emily Blake', 'Emily Campbell', 'Emily Fisher', 'Emily Morrison',\n",
       "       'Emily Ogden', 'Emily Ross', 'Emma Baker', 'Emma Greene',\n",
       "       'Emma Langdon', 'Emma Stewart', 'Emma Thomson', 'Emma Watson',\n",
       "       'Emma Young', 'Eric Forsyth', 'Eric McLean', 'Eric Mills',\n",
       "       'Evan Ince', 'Evan Jackson', 'Evan Ogden', 'Evan Paige',\n",
       "       'Evan Ross', 'Evan Terry', 'Faith Blake', 'Faith Campbell',\n",
       "       'Faith Gray', 'Faith Harris', 'Faith Jones', 'Faith Robertson',\n",
       "       'Felicity Abraham', 'Felicity Henderson', 'Felicity King',\n",
       "       'Felicity Peake', 'Felicity Peters', 'Felicity Sutherland',\n",
       "       'Felicity Terry', 'Fiona Allan', 'Fiona Nolan', 'Fiona Peters',\n",
       "       'Fiona Piper', 'Frank Ball', 'Frank Davidson', 'Frank Ferguson',\n",
       "       'Frank Hart', 'Frank Metcalfe', 'Frank Newman', 'Frank Piper',\n",
       "       'Gabrielle Dowd', 'Gabrielle Ogden', 'Gabrielle Russell',\n",
       "       'Gavin Clark', 'Gavin Mitchell', 'Gavin Nash', 'Gavin Walker',\n",
       "       'Gavin Walsh', 'Gavin White', 'Gordon Baker', 'Gordon Bower',\n",
       "       'Gordon Burgess', 'Gordon Chapman', 'Gordon Dyer', 'Gordon Graham',\n",
       "       'Gordon Greene', 'Gordon Jackson', 'Gordon McLean', 'Gordon Parr',\n",
       "       'Gordon Sanderson', 'Grace Bell', 'Grace Butler', 'Grace Duncan',\n",
       "       'Grace Hodges', 'Hannah Hughes', 'Hannah Sanderson', 'Harry Brown',\n",
       "       'Harry Buckland', 'Harry McGrath', 'Harry McLean', 'Harry Mills',\n",
       "       'Harry Murray', 'Harry Sharp', 'Harry Vaughan', 'Heather Dyer',\n",
       "       'Ian Butler', 'Ian Jones', 'Ian McGrath', 'Ian Ross', 'Ian Sharp',\n",
       "       'Irene Clark', 'Irene Duncan', 'Irene Graham', 'Irene Johnston',\n",
       "       'Irene Lambert', 'Irene Smith', 'Irene Walsh', 'Irene Wright',\n",
       "       'Isaac Hart', 'Isaac Paterson', 'Isaac Robertson', 'Jack Graham',\n",
       "       'Jack Hodges', 'Jack Hughes', 'Jack Ince', 'Jacob Hart',\n",
       "       'Jacob Paterson', 'Jacob Vaughan', 'Jake Berry', 'Jake Mackenzie',\n",
       "       'Jake North', 'James Butler', 'James Fisher', 'James Harris',\n",
       "       'James Terry', 'Jan Baker', 'Jan Clark', 'Jan Hardacre',\n",
       "       'Jan Hemmings', 'Jan Vaughan', 'Jan Watson', 'Jan White',\n",
       "       'Jane Manning', 'Jane Pullman', 'Jane Stewart', 'Jasmine Greene',\n",
       "       'Jasmine MacDonald', 'Jasmine MacLeod', 'Jasmine McDonald',\n",
       "       'Jasmine Metcalfe', 'Jasmine Springer', 'Jason Arnold',\n",
       "       'Jennifer Avery', 'Jennifer Bailey', 'Jennifer Dowd',\n",
       "       'Jennifer Payne', 'Jennifer Roberts', 'Jennifer Watson',\n",
       "       'Jessica Buckland', 'Jessica Hughes', 'Jessica Langdon',\n",
       "       'Joan Ball', 'Joan Dickens', 'Joan Glover', 'Joan Watson',\n",
       "       'Joanne Blake', 'Joanne Carr', 'Joanne Davies', 'Joanne Forsyth',\n",
       "       'Joanne Harris', 'Joanne Hemmings', 'Joanne Robertson',\n",
       "       'Joanne Walsh', 'Joe Allan', 'Joe Davies', 'Joe Hughes', 'Joe Lee',\n",
       "       'Joe Ross', 'Joe Skinner', 'Joe Wallace', 'John Davies',\n",
       "       'John Dyer', 'John Jones', 'John MacDonald', 'Jonathan Ball',\n",
       "       'Jonathan Brown', 'Jonathan Clark', 'Jonathan Ferguson',\n",
       "       'Jonathan Gibson', 'Jonathan Grant', 'Jonathan Lawrence',\n",
       "       'Jonathan Marshall', 'Jonathan Thomson', 'Joseph Cameron',\n",
       "       'Joseph Duncan', 'Joseph Forsyth', 'Joseph Newman',\n",
       "       'Joseph Tucker', 'Joseph White', 'Joshua Gibson', 'Joshua Glover',\n",
       "       'Joshua Lyman', 'Joshua Short', 'Joshua Vaughan', 'Julia Ellison',\n",
       "       'Julian Glover', 'Julian Langdon', 'Julian Morrison',\n",
       "       'Julian Nash', 'Julian Newman', 'Julian Short', 'Justin Anderson',\n",
       "       'Justin Carr', 'Justin Pullman', 'Justin Randall', 'Justin Scott',\n",
       "       'Justin Turner', 'Justin Walker', 'Justin Walsh', 'Karen Edmunds',\n",
       "       'Karen Howard', 'Karen Langdon', 'Karen Mathis', 'Karen Taylor',\n",
       "       'Karen Vance', 'Karen Welch', 'Katherine Baker', 'Katherine Dowd',\n",
       "       'Katherine Graham', 'Katherine Manning', 'Katherine Rutherford',\n",
       "       'Katherine Watson', 'Keith Coleman', 'Keith Mills',\n",
       "       'Keith Morrison', 'Keith Paige', 'Keith Randall', 'Kevin Brown',\n",
       "       'Kevin Burgess', 'Kevin Jones', 'Kevin Mitchell', 'Kevin Morrison',\n",
       "       'Kevin Rampling', 'Kevin Vaughan', 'Kevin Welch', 'Kevin Wilkins',\n",
       "       'Kimberly Black', 'Kimberly Harris', 'Kimberly Langdon',\n",
       "       'Kimberly MacDonald', 'Kimberly Manning', 'Kimberly Newman',\n",
       "       'Kimberly North', 'Kimberly Oliver', 'Kimberly Short', 'Kylie Lee',\n",
       "       'Kylie Mackenzie', 'Kylie Poole', 'Lauren Ellison',\n",
       "       'Lauren Peters', 'Leah Clarkson', 'Leah MacLeod', 'Leah Murray',\n",
       "       'Leonard Cameron', 'Leonard Dyer', 'Leonard Kelly', 'Leonard Nash',\n",
       "       'Leonard Ogden', 'Leonard Parsons', 'Leonard Poole',\n",
       "       'Leonard Springer', 'Liam Abraham', 'Liam Burgess',\n",
       "       'Liam Churchill', 'Liam Clarkson', 'Liam Murray', 'Liam Paige',\n",
       "       'Liam Robertson', 'Liam Russell', 'Liam Young', 'Lillian Duncan',\n",
       "       'Lillian Hodges', 'Lily Blake', 'Lily Bond', 'Lily Hardacre',\n",
       "       'Lily Hart', 'Lily North', 'Lily Paterson', 'Lisa Edmunds',\n",
       "       'Lisa Lawrence', 'Lisa Lee', 'Lisa Oliver', 'Lisa Peake',\n",
       "       'Lisa Wilkins', 'Lucas Kerr', 'Lucas Mathis', 'Lucas Newman',\n",
       "       'Lucas Oliver', 'Lucas Taylor', 'Lucas Turner', 'Luke Bower',\n",
       "       'Luke Churchill', 'Luke Davidson', 'Luke Jones', 'Luke McDonald',\n",
       "       'Luke Mills', 'Luke Ross', 'Luke Rutherford', 'Luke Terry',\n",
       "       'Madeleine Cameron', 'Madeleine Howard', 'Madeleine Smith',\n",
       "       'Maria Bell', 'Maria Dyer', 'Maria Edmunds', 'Maria James',\n",
       "       'Matt Bell', 'Matt Berry', 'Matt Forsyth', 'Matt Kelly',\n",
       "       'Max Hardacre', 'Max James', 'Max Langdon', 'Max Marshall',\n",
       "       'Max McGrath', 'Max Morgan', 'Max Ross', 'Max Skinner',\n",
       "       'Megan Rampling', 'Megan Smith', 'Melanie Chapman',\n",
       "       'Melanie Davidson', 'Melanie Dowd', 'Melanie Sharp',\n",
       "       'Melanie Young', 'Michael Forsyth', 'Michael King',\n",
       "       'Michael Lewis', 'Michael Morgan', 'Michael Nolan',\n",
       "       'Michael Watson', 'Michelle Hemmings', 'Michelle Langdon',\n",
       "       'Michelle McLean', 'Michelle Thomson', 'Molly Grant',\n",
       "       'Molly MacDonald', 'Molly Martin', 'Molly Mitchell', 'Molly Rees',\n",
       "       'Molly Rutherford', 'Molly Scott', 'Molly Turner', 'Molly Vance',\n",
       "       'Molly Watson', 'Natalie Nash', 'Natalie Newman',\n",
       "       'Natalie Sanderson', 'Natalie Skinner', 'Nathan Bell',\n",
       "       'Nathan Hughes', 'Nathan Lambert', 'Nathan Marshall',\n",
       "       'Nathan McGrath', 'Nathan Young', 'Neil Gill', 'Neil Smith',\n",
       "       'Nicholas May', 'Nicholas Paterson', 'Nicholas Skinner',\n",
       "       'Nicola Butler', 'Nicola Howard', 'Nicola Pullman', 'Oliver Bond',\n",
       "       'Oliver Coleman', 'Oliver Cornish', 'Oliver King', 'Olivia Graham',\n",
       "       'Olivia Hamilton', 'Olivia Taylor', 'Owen Ellison',\n",
       "       'Owen Ferguson', 'Owen Hill', 'Owen Scott', 'Owen Watson',\n",
       "       'Paul Harris', 'Paul MacDonald', 'Paul Martin', 'Penelope Ball',\n",
       "       'Penelope Brown', 'Penelope Nash', 'Penelope Peake',\n",
       "       'Penelope Terry', 'Peter Ellison', 'Peter Hart', 'Peter Johnston',\n",
       "       'Peter Knox', 'Peter McLean', 'Peter Nolan', 'Peter Peake',\n",
       "       'Peter Quinn', 'Phil Dowd', 'Phil Mills', 'Phil Short',\n",
       "       'Phil Tucker', 'Phil Turner', 'Pippa Blake', 'Pippa Brown',\n",
       "       'Pippa Chapman', 'Pippa Edmunds', 'Pippa Hunter', 'Pippa Kerr',\n",
       "       'Pippa Morrison', 'Pippa Ross', 'Pippa Smith', 'Rachel Blake',\n",
       "       'Rachel Bond', 'Rachel Cornish', 'Rebecca Dickens',\n",
       "       'Rebecca Lambert', 'Rebecca Mackay', 'Rebecca May',\n",
       "       'Rebecca Wilson', 'Richard Carr', 'Richard Davidson',\n",
       "       'Richard Lyman', 'Robert Dyer', 'Robert McGrath', 'Rose Ball',\n",
       "       'Rose Dyer', 'Rose Hill', 'Rose James', 'Rose MacDonald',\n",
       "       'Rose Scott', 'Rose Smith', 'Ruth Kerr', 'Ruth McGrath',\n",
       "       'Ruth Tucker', 'Ruth Vaughan', 'Ryan Ellison', 'Ryan Jackson',\n",
       "       'Ryan Johnston', 'Ryan Kerr', 'Ryan Oliver', 'Ryan Thomson',\n",
       "       'Ryan Turner', 'Sally Berry', 'Sally Davidson', 'Sally Nolan',\n",
       "       'Sally Wallace', 'Sam Alsop', 'Sam Carr', 'Sam Gill',\n",
       "       'Sam Lawrence', 'Sam Parsons', 'Sam Rampling', 'Sam Randall',\n",
       "       'Samantha Hardacre', 'Samantha Ince', 'Samantha Lawrence',\n",
       "       'Samantha Murray', 'Samantha Paterson', 'Samantha Piper',\n",
       "       'Samantha Rampling', 'Samantha Walker', 'Sarah Alsop',\n",
       "       'Sarah Sanderson', 'Sean Bower', 'Sean Morrison', 'Sean Randall',\n",
       "       'Sean Rees', 'Sean Scott', 'Sean Taylor', 'Sebastian Abraham',\n",
       "       'Sebastian Brown', 'Sebastian Robertson', 'Sebastian Sharp',\n",
       "       'Sebastian Young', 'Simon Hart', 'Simon McDonald', 'Simon Payne',\n",
       "       'Simon Peters', 'Simon Taylor', 'Sonia Hardacre', 'Sonia Ince',\n",
       "       'Sonia Miller', 'Sonia Parsons', 'Sophie Cornish',\n",
       "       'Sophie Henderson', 'Sophie Hill', 'Sophie Lewis', 'Sophie Murray',\n",
       "       'Sophie Poole', 'Sophie Pullman', 'Sophie Vance',\n",
       "       'Stephanie Abraham', 'Stephanie Kelly', 'Stephen Dyer',\n",
       "       'Stephen Robertson', 'Steven Coleman', 'Steven Henderson',\n",
       "       'Steven Rees', 'Stewart Baker', 'Stewart Hart', 'Stewart Marshall',\n",
       "       'Stewart May', 'Stewart Vance', 'Stewart Wilson', 'Sue Anderson',\n",
       "       'Sue Ince', 'Sue Miller', 'Sue Parsons', 'Sue Wilson',\n",
       "       'Theresa Cameron', 'Theresa Henderson', 'Theresa McLean',\n",
       "       'Theresa Murray', 'Theresa Paige', 'Thomas Gibson',\n",
       "       'Thomas Hodges', 'Thomas Peters', 'Thomas Roberts', 'Thomas Ross',\n",
       "       'Thomas Watson', 'Tim Morrison', 'Tracey Dickens', 'Tracey Knox',\n",
       "       'Tracey Skinner', 'Trevor Clark', 'Trevor Jones', 'Trevor Langdon',\n",
       "       'Trevor Metcalfe', 'Trevor Rutherford', 'Trevor Simpson',\n",
       "       'Una Avery', 'Una Hudson', 'Una Knox', 'Una Mackay', 'Una Poole',\n",
       "       'Vanessa Davidson', 'Vanessa Metcalfe', 'Vanessa White',\n",
       "       'Victor Avery', 'Victor Gill', 'Victor Lewis', 'Victor Short',\n",
       "       'Victor Walsh', 'Victoria Ellison', 'Victoria Henderson',\n",
       "       'Victoria Nash', 'Victoria Poole', 'Victoria Roberts',\n",
       "       'Victoria Wilkins', 'Virginia Carr', 'Virginia Murray',\n",
       "       'Wanda Gill', 'Wanda Hardacre', 'Wanda Sharp', 'Wanda Simpson',\n",
       "       'Warren Abraham', 'Warren Butler', 'Warren Forsyth',\n",
       "       'Warren Hemmings', 'Warren McGrath', 'Warren Reid', 'Wendy Young',\n",
       "       'William Alsop', 'William Lawrence', 'William Lewis',\n",
       "       'William May', 'William Robertson', 'William Skinner', 'Zoe Avery',\n",
       "       'Zoe Bond', 'Zoe Edmunds', 'Zoe Ferguson', 'Zoe Hodges',\n",
       "       'Zoe Lyman'], dtype=object)"
      ]
     },
     "execution_count": 118,
     "metadata": {},
     "output_type": "execute_result"
    }
   ],
   "source": [
    "np.sort(data['Contact Name'].unique())"
   ]
  },
  {
   "cell_type": "code",
   "execution_count": 119,
   "metadata": {},
   "outputs": [
    {
     "data": {
      "text/plain": [
       "Contact Name\n",
       "Leonard Kelly       37\n",
       "Gordon Parr         34\n",
       "Amelia Campbell     34\n",
       "Tracey Dickens      34\n",
       "Evan Ince           32\n",
       "                    ..\n",
       "Joshua Gibson        1\n",
       "Brian Campbell       1\n",
       "Alexander Duncan     1\n",
       "Frank Ferguson       1\n",
       "Sam Randall          1\n",
       "Name: count, Length: 793, dtype: int64"
      ]
     },
     "execution_count": 119,
     "metadata": {},
     "output_type": "execute_result"
    }
   ],
   "source": [
    "data['Contact Name'].value_counts()"
   ]
  },
  {
   "cell_type": "markdown",
   "metadata": {},
   "source": [
    "##### Mengecek Variabel `Country`"
   ]
  },
  {
   "cell_type": "code",
   "execution_count": 120,
   "metadata": {},
   "outputs": [
    {
     "data": {
      "text/plain": [
       "array(['Argentina', 'Australia', 'Austria', 'Belgium', 'Brazil', 'Canada',\n",
       "       'Chile', 'China', 'Colombia', 'Costa Rica', 'Croatia',\n",
       "       'Czech Republic', 'Denmark', 'Egypt', 'Finland', 'France',\n",
       "       'Germany', 'Greece', 'Iceland', 'India', 'Indonesia', 'Ireland',\n",
       "       'Israel', 'Italy', 'Japan', 'Luxembourg', 'Mexico', 'Netherlands',\n",
       "       'New Zealand', 'Norway', 'Philippines', 'Poland', 'Portugal',\n",
       "       'Qatar', 'Russia', 'Saudi Arabia', 'Singapore', 'Slovenia',\n",
       "       'South Africa', 'South Korea', 'Spain', 'Sweden', 'Taiwan',\n",
       "       'Turkey', 'Ukraine', 'United Arab Emirates', 'United Kingdom',\n",
       "       'United States'], dtype=object)"
      ]
     },
     "execution_count": 120,
     "metadata": {},
     "output_type": "execute_result"
    }
   ],
   "source": [
    "np.sort(data['Country'].unique())"
   ]
  },
  {
   "cell_type": "code",
   "execution_count": 121,
   "metadata": {},
   "outputs": [
    {
     "data": {
      "text/plain": [
       "Country\n",
       "United States           2001\n",
       "United Kingdom          1141\n",
       "Japan                    985\n",
       "France                   587\n",
       "Canada                   506\n",
       "Australia                492\n",
       "Mexico                   469\n",
       "Germany                  383\n",
       "Brazil                   255\n",
       "Sweden                   249\n",
       "Chile                    224\n",
       "Spain                    224\n",
       "Finland                  184\n",
       "South Africa             183\n",
       "Russia                   182\n",
       "India                    149\n",
       "South Korea              135\n",
       "Argentina                130\n",
       "Ireland                  126\n",
       "Belgium                  124\n",
       "Italy                    110\n",
       "China                    105\n",
       "Philippines               96\n",
       "Luxembourg                89\n",
       "Saudi Arabia              82\n",
       "Poland                    66\n",
       "Singapore                 66\n",
       "Portugal                  61\n",
       "United Arab Emirates      60\n",
       "Norway                    56\n",
       "Ukraine                   53\n",
       "Turkey                    53\n",
       "Netherlands               45\n",
       "Czech Republic            42\n",
       "Colombia                  42\n",
       "Israel                    39\n",
       "Costa Rica                38\n",
       "New Zealand               37\n",
       "Greece                    27\n",
       "Indonesia                 24\n",
       "Taiwan                    21\n",
       "Croatia                   12\n",
       "Egypt                     11\n",
       "Austria                   10\n",
       "Denmark                    8\n",
       "Qatar                      7\n",
       "Iceland                    4\n",
       "Slovenia                   1\n",
       "Name: count, dtype: int64"
      ]
     },
     "execution_count": 121,
     "metadata": {},
     "output_type": "execute_result"
    }
   ],
   "source": [
    "data['Country'].value_counts()"
   ]
  },
  {
   "cell_type": "markdown",
   "metadata": {},
   "source": [
    "##### Mengecek Variabel `City`"
   ]
  },
  {
   "cell_type": "code",
   "execution_count": 122,
   "metadata": {},
   "outputs": [
    {
     "data": {
      "text/plain": [
       "array(['Abu Dhabi', 'Adelaide', 'Aichi', 'Alexandria', 'Alicante',\n",
       "       'Amsterdam', 'Anaheim', 'Ankara', 'Antofagasta', 'Antwerp',\n",
       "       'Arlington', 'Athens', 'Atlanta', 'Auckland', 'Aurora', 'Austin',\n",
       "       'Baltimore', 'Bandung', 'Bangalore', 'Barcelona', 'Bari',\n",
       "       'Beijing', 'Belfast', 'Belo Horizonte', 'Berlin', 'Birmingham',\n",
       "       'Bogotá', 'Bologna', 'Brasília', 'Brescia', 'Brighton', 'Brisbane',\n",
       "       'Bristol', 'Brno', 'Brussels', 'Buenos Aires', 'Buffalo',\n",
       "       'Burlington', 'Bursa', 'Busan', 'Cabo San Lucas', 'Cairo',\n",
       "       'Calgary', 'Cali', 'Canberra', 'Cancun', 'Cape Town', 'Cardiff',\n",
       "       'Catania', 'Charlotte', 'Chengdu', 'Chennai', 'Chiba', 'Chicago',\n",
       "       'Cleveland', 'Clinton', 'Cologne', 'Columbia', 'Columbus',\n",
       "       'Copenhagen', 'Cork', 'Córdoba', 'Daegu', 'Dallas', 'Davao City',\n",
       "       'Delhi', 'Denver', 'Detroit', 'Dhahran', 'Doha', 'Donetsk',\n",
       "       'Dresden', 'Dubai', 'Dublin', 'Edinburgh', 'Espoo', 'Everett',\n",
       "       'Florence', 'Fort Worth', 'Frankfurt', 'Franklin', 'Fresno',\n",
       "       'Fukuoka', 'Geelong', 'Genoa', 'Ghent', 'Glasgow', 'Gold Coast',\n",
       "       'Gothenburg', 'Granada', 'Guadalajara', 'Guangzhou', 'Gwangju',\n",
       "       'Hamburg', 'Hamilton', 'Hanover', 'Helsinki', 'Henderson',\n",
       "       'Hiroshima', 'Hobart', 'Hordaland', 'Houston', 'Huntsville',\n",
       "       'Hyderabad', 'Hyogo', 'Ibaraki', 'Incheon', 'Indianapolis',\n",
       "       'Istanbul', 'Izmir', 'Jackson', 'Jacksonville', 'Jakarta',\n",
       "       'Jeddah', 'Jerusalem', 'Johannesburg', 'Kanagawa', 'Kharkiv',\n",
       "       'Kolkata', 'Krakow', 'Kyiv', 'Kyoto', 'Lafayette', 'Lakeland',\n",
       "       'Lakewood', 'Lancaster', 'Las Vegas', 'Lawrence', 'Leeds',\n",
       "       'Leicester', 'Leipzig', 'Limerick', 'Lisboa', 'Liverpool',\n",
       "       'Ljubljana', 'London', 'Long Beach', 'Los Angeles', 'Louisville',\n",
       "       'Luxembourg', 'Lyon', 'Madrid', 'Malmö', 'Manaus', 'Manchester',\n",
       "       'Manila', 'Mannheim', 'Marseille', 'Medellín', 'Melbourne',\n",
       "       'Memphis', 'Mendoza', 'Mexico City', 'Miami', 'Milan', 'Milwaukee',\n",
       "       'Minneapolis', 'Monterrey', 'Montreal', 'Moscow', 'Mumbai',\n",
       "       'Munich', 'Murcia', 'Nantes', 'Naples', 'Nashville',\n",
       "       'New York City', 'Newark', 'Newcastle', 'Nice', 'Nizhny Novogorod',\n",
       "       'Novosibirsk', 'Nuremberg', 'Oakland', 'Odessa', 'Oklahoma City',\n",
       "       'Omaha', 'Osaka', 'Oslo', 'Ostrava', 'Ottawa', 'Palermo', 'Paris',\n",
       "       'Perth', 'Philadelphia', 'Phoenix', 'Porto', 'Prague',\n",
       "       'Providence', 'Puente Alto', 'Puerto Vallarta', 'Quebec',\n",
       "       'Quezon City', 'Raleigh', 'Regina', 'Reykjavík', 'Richmond',\n",
       "       'Rio de Janeiro', 'Riyadh', 'Rochester', 'Rome', 'Rosario',\n",
       "       'Roswell', 'Rotterdam', 'Sacramento', 'Saitama', 'Salvador',\n",
       "       'San Antonio', 'San Diego', 'San Francisco', 'San Jose',\n",
       "       'San José', 'Santiago', 'Sapporo', 'Seattle', 'Seoul', 'Seville',\n",
       "       'Shanghai', 'Shenzhen', 'Shizuoka', 'Singapore', 'Springfield',\n",
       "       'St Petersburg', 'Stockholm', 'Stuttgart', 'Surabaya', 'Suzhou',\n",
       "       'Sydney', 'São Paulo', 'Taipei', 'Tallahassee', 'Tampa', 'Tampere',\n",
       "       'Tel Aviv', 'The Hague', 'Thessaloniki', 'Tianjin', 'Tijuana',\n",
       "       'Tokyo', 'Toluca', 'Toronto', 'Tucson', 'Tulsa', 'Turin',\n",
       "       'Uppsala', 'Valencia', 'Vancouver', 'Vantaa', 'Venice', 'Victoria',\n",
       "       'Vienna', 'Virginia Beach', 'Warsaw', 'Wellington', 'Wilmington',\n",
       "       'Winnipeg', 'Woking', 'Wollongong', 'Yekaterinburg', 'Yonkers',\n",
       "       'Zagreb', 'Zaragoza'], dtype=object)"
      ]
     },
     "execution_count": 122,
     "metadata": {},
     "output_type": "execute_result"
    }
   ],
   "source": [
    "np.sort(data['City'].unique())"
   ]
  },
  {
   "cell_type": "code",
   "execution_count": 123,
   "metadata": {},
   "outputs": [
    {
     "data": {
      "text/plain": [
       "City\n",
       "London           922\n",
       "New York City    740\n",
       "Paris            537\n",
       "Los Angeles      510\n",
       "Toronto          431\n",
       "                ... \n",
       "Huntsville         1\n",
       "Chengdu            1\n",
       "Lawrence           1\n",
       "Clinton            1\n",
       "Ljubljana          1\n",
       "Name: count, Length: 262, dtype: int64"
      ]
     },
     "execution_count": 123,
     "metadata": {},
     "output_type": "execute_result"
    }
   ],
   "source": [
    "data['City'].value_counts()"
   ]
  },
  {
   "cell_type": "markdown",
   "metadata": {},
   "source": [
    "##### Mengecek Variabel `Region`"
   ]
  },
  {
   "cell_type": "code",
   "execution_count": 124,
   "metadata": {},
   "outputs": [
    {
     "data": {
      "text/plain": [
       "array(['AMER', 'APJ', 'EMEA'], dtype=object)"
      ]
     },
     "execution_count": 124,
     "metadata": {},
     "output_type": "execute_result"
    }
   ],
   "source": [
    "np.sort(data['Region'].unique())"
   ]
  },
  {
   "cell_type": "code",
   "execution_count": 125,
   "metadata": {},
   "outputs": [
    {
     "data": {
      "text/plain": [
       "Region\n",
       "EMEA    4219\n",
       "AMER    3665\n",
       "APJ     2110\n",
       "Name: count, dtype: int64"
      ]
     },
     "execution_count": 125,
     "metadata": {},
     "output_type": "execute_result"
    }
   ],
   "source": [
    "data['Region'].value_counts()"
   ]
  },
  {
   "cell_type": "markdown",
   "metadata": {},
   "source": [
    "#### *Mengecek Variabel ```Subregion```*"
   ]
  },
  {
   "cell_type": "code",
   "execution_count": 126,
   "metadata": {},
   "outputs": [
    {
     "data": {
      "text/plain": [
       "array(['ANZ', 'APAC', 'EU', 'EU-EAST', 'EU-WEST', 'IND', 'JAPN', 'LATAM',\n",
       "       'MEA', 'NAMER', 'NOR', 'UKIR'], dtype=object)"
      ]
     },
     "execution_count": 126,
     "metadata": {},
     "output_type": "execute_result"
    }
   ],
   "source": [
    "np.sort(data['Subregion'].unique())"
   ]
  },
  {
   "cell_type": "code",
   "execution_count": 127,
   "metadata": {},
   "outputs": [
    {
     "data": {
      "text/plain": [
       "Subregion\n",
       "NAMER      2507\n",
       "EU-WEST    1614\n",
       "UKIR       1267\n",
       "LATAM      1158\n",
       "JAPN        985\n",
       "ANZ         529\n",
       "NOR         489\n",
       "APAC        447\n",
       "MEA         396\n",
       "EU-EAST     343\n",
       "IND         149\n",
       "EU          110\n",
       "Name: count, dtype: int64"
      ]
     },
     "execution_count": 127,
     "metadata": {},
     "output_type": "execute_result"
    }
   ],
   "source": [
    "data['Subregion'].value_counts()"
   ]
  },
  {
   "cell_type": "markdown",
   "metadata": {},
   "source": [
    "#### *Mengecek Variabel ```Customer```*"
   ]
  },
  {
   "cell_type": "code",
   "execution_count": 128,
   "metadata": {},
   "outputs": [
    {
     "data": {
      "text/plain": [
       "array(['AT&T', 'Abbott Laboratories', 'Aetna', 'Airbus', 'Allianz',\n",
       "       'Allstate', 'Alphabet', 'Amazon', 'American Express',\n",
       "       'AmerisourceBergen', 'Anthem', 'Apple', 'Aviva', 'BMW',\n",
       "       'BNP Paribas', 'Banco Santander', 'Bank of America Corp.',\n",
       "       'Berkshire Hathaway', 'Boeing', 'Bosch', 'CVS Health', 'Carrefour',\n",
       "       'Caterpillar', 'Chevron', 'China National Petroleum', 'Cigna',\n",
       "       'Cisco Systems', 'Citigroup', 'Coca-Cola', 'Comcast',\n",
       "       'ConocoPhillips', 'Costco Wholesale', 'Daimler', 'Enel', 'Engie',\n",
       "       'Exxon Mobil', 'Fannie Mae', 'FedEx', 'Ford Motor', 'Gazprom',\n",
       "       'General Electric', 'General Motors', 'Glencore',\n",
       "       'Goldman Sachs Group', 'HSBC Holdings', 'Home Depot',\n",
       "       'HonHai Precision Industry', 'Honda Motor', 'Huawei', 'Humana',\n",
       "       'Intel', 'Itochu', 'J.P. Morgan Chase & Co.', 'Johnson & Johnson',\n",
       "       'Kroger', 'Lowes', 'Lukoil', 'Marathon Petroleum', 'McKesson',\n",
       "       'Merck', 'Microsoft', 'Mitsubishi', 'Mondelez International',\n",
       "       'Morgan Stanley', 'Nestle', 'News Corp.', 'Nissan Motor', 'Oracle',\n",
       "       'Panasonic', 'Pemex', 'PepsiCo', 'Petrobras', 'Pfizer',\n",
       "       'Philip Morris International', 'Phillips 66', 'Procter & Gamble',\n",
       "       'Prudential Financial', 'Royal Dutch Shell', 'Safeway',\n",
       "       'Samsung Electronics', 'Siemens', 'Sony', 'Sprint Nextel',\n",
       "       'State Farm Insurance Cos.', 'Sysco', 'Target', 'Tesco',\n",
       "       'Toyota Motor', 'Trafigura Group', 'Tyson Foods',\n",
       "       'United Parcel Service', 'UnitedHealth Group', 'Valero Energy',\n",
       "       'Verizon Communications', 'Volkswagen', 'Walgreens', 'Walmart',\n",
       "       'Walt Disney', 'Wells Fargo'], dtype=object)"
      ]
     },
     "execution_count": 128,
     "metadata": {},
     "output_type": "execute_result"
    }
   ],
   "source": [
    "np.sort(data['Customer'].unique())"
   ]
  },
  {
   "cell_type": "code",
   "execution_count": 129,
   "metadata": {},
   "outputs": [
    {
     "data": {
      "text/plain": [
       "Customer\n",
       "Allianz               192\n",
       "Tyson Foods           184\n",
       "Ford Motor            176\n",
       "Siemens               170\n",
       "Comcast               161\n",
       "                     ... \n",
       "Tesco                  48\n",
       "Alphabet               44\n",
       "Berkshire Hathaway     39\n",
       "Safeway                39\n",
       "Citigroup              22\n",
       "Name: count, Length: 99, dtype: int64"
      ]
     },
     "execution_count": 129,
     "metadata": {},
     "output_type": "execute_result"
    }
   ],
   "source": [
    "data['Customer'].value_counts()"
   ]
  },
  {
   "cell_type": "markdown",
   "metadata": {},
   "source": [
    "#### *Mengecek Variabel ```Industry```*"
   ]
  },
  {
   "cell_type": "code",
   "execution_count": 130,
   "metadata": {},
   "outputs": [
    {
     "data": {
      "text/plain": [
       "array(['Communications', 'Consumer Products', 'Energy', 'Finance',\n",
       "       'Healthcare', 'Manufacturing', 'Misc', 'Retail', 'Tech',\n",
       "       'Transportation'], dtype=object)"
      ]
     },
     "execution_count": 130,
     "metadata": {},
     "output_type": "execute_result"
    }
   ],
   "source": [
    "np.sort(data['Industry'].unique())"
   ]
  },
  {
   "cell_type": "code",
   "execution_count": 131,
   "metadata": {},
   "outputs": [
    {
     "data": {
      "text/plain": [
       "Industry\n",
       "Finance              2127\n",
       "Energy               1316\n",
       "Tech                 1236\n",
       "Manufacturing        1222\n",
       "Healthcare           1049\n",
       "Consumer Products    1021\n",
       "Retail                972\n",
       "Communications        593\n",
       "Transportation        351\n",
       "Misc                  107\n",
       "Name: count, dtype: int64"
      ]
     },
     "execution_count": 131,
     "metadata": {},
     "output_type": "execute_result"
    }
   ],
   "source": [
    "data['Industry'].value_counts()"
   ]
  },
  {
   "cell_type": "markdown",
   "metadata": {},
   "source": [
    "#### *Mengecek Variabel ```Segment```*"
   ]
  },
  {
   "cell_type": "code",
   "execution_count": 132,
   "metadata": {},
   "outputs": [
    {
     "data": {
      "text/plain": [
       "array(['Enterprise', 'SMB', 'Strategic'], dtype=object)"
      ]
     },
     "execution_count": 132,
     "metadata": {},
     "output_type": "execute_result"
    }
   ],
   "source": [
    "np.sort(data['Segment'].unique())"
   ]
  },
  {
   "cell_type": "code",
   "execution_count": 133,
   "metadata": {},
   "outputs": [
    {
     "data": {
      "text/plain": [
       "Segment\n",
       "SMB           5191\n",
       "Strategic     3020\n",
       "Enterprise    1783\n",
       "Name: count, dtype: int64"
      ]
     },
     "execution_count": 133,
     "metadata": {},
     "output_type": "execute_result"
    }
   ],
   "source": [
    "data['Segment'].value_counts()"
   ]
  },
  {
   "cell_type": "markdown",
   "metadata": {},
   "source": [
    "#### *Mengecek Variabel ```Product```*"
   ]
  },
  {
   "cell_type": "code",
   "execution_count": 134,
   "metadata": {},
   "outputs": [
    {
     "data": {
      "text/plain": [
       "array(['Alchemy', 'Big Ol Database', 'ChatBot Plugin', 'ContactMatcher',\n",
       "       'Data Smasher', 'FinanceHub', 'Marketing Suite',\n",
       "       'Marketing Suite - Gold', 'OneView', 'SaaS Connector Pack',\n",
       "       'SaaS Connector Pack - Gold', 'Site Analytics', 'Storage',\n",
       "       'Support'], dtype=object)"
      ]
     },
     "execution_count": 134,
     "metadata": {},
     "output_type": "execute_result"
    }
   ],
   "source": [
    "np.sort(data['Product'].unique())"
   ]
  },
  {
   "cell_type": "code",
   "execution_count": 135,
   "metadata": {},
   "outputs": [
    {
     "data": {
      "text/plain": [
       "Product\n",
       "ContactMatcher                1842\n",
       "Support                       1560\n",
       "FinanceHub                     981\n",
       "SaaS Connector Pack            957\n",
       "Site Analytics                 889\n",
       "Marketing Suite - Gold         846\n",
       "ChatBot Plugin                 796\n",
       "Data Smasher                   775\n",
       "OneView                        466\n",
       "SaaS Connector Pack - Gold     254\n",
       "Marketing Suite                228\n",
       "Storage                        217\n",
       "Big Ol Database                115\n",
       "Alchemy                         68\n",
       "Name: count, dtype: int64"
      ]
     },
     "execution_count": 135,
     "metadata": {},
     "output_type": "execute_result"
    }
   ],
   "source": [
    "data['Product'].value_counts()"
   ]
  },
  {
   "cell_type": "markdown",
   "metadata": {},
   "source": [
    "#### *Mengecek Variabel ```Sales```*"
   ]
  },
  {
   "cell_type": "markdown",
   "metadata": {},
   "source": [
    "mengecek unique value pada var sales"
   ]
  },
  {
   "cell_type": "code",
   "execution_count": 136,
   "metadata": {},
   "outputs": [
    {
     "data": {
      "text/plain": [
       "array([4.440000e-01, 5.560000e-01, 8.360000e-01, ..., 1.399996e+04,\n",
       "       1.749995e+04, 2.263848e+04])"
      ]
     },
     "execution_count": 136,
     "metadata": {},
     "output_type": "execute_result"
    }
   ],
   "source": [
    "np.sort(data['Sales'].unique())"
   ]
  },
  {
   "cell_type": "markdown",
   "metadata": {},
   "source": [
    "Dengan melihat data yang banyak dan continues, kita bisa memfilter data anomali dengan mengasumsikan anomali pada ```Sales``` adalah ketika bernilai ```Minus atau sangat tinggi menjauhi median dataset```. Berikut kita lakukan filter nilai minus:"
   ]
  },
  {
   "cell_type": "code",
   "execution_count": 137,
   "metadata": {},
   "outputs": [
    {
     "data": {
      "text/html": [
       "<div>\n",
       "<style scoped>\n",
       "    .dataframe tbody tr th:only-of-type {\n",
       "        vertical-align: middle;\n",
       "    }\n",
       "\n",
       "    .dataframe tbody tr th {\n",
       "        vertical-align: top;\n",
       "    }\n",
       "\n",
       "    .dataframe thead th {\n",
       "        text-align: right;\n",
       "    }\n",
       "</style>\n",
       "<table border=\"1\" class=\"dataframe\">\n",
       "  <thead>\n",
       "    <tr style=\"text-align: right;\">\n",
       "      <th></th>\n",
       "      <th>Order ID</th>\n",
       "      <th>Order Date</th>\n",
       "      <th>Contact Name</th>\n",
       "      <th>Country</th>\n",
       "      <th>City</th>\n",
       "      <th>Region</th>\n",
       "      <th>Subregion</th>\n",
       "      <th>Customer</th>\n",
       "      <th>Industry</th>\n",
       "      <th>Segment</th>\n",
       "      <th>Product</th>\n",
       "      <th>Sales</th>\n",
       "      <th>Quantity</th>\n",
       "      <th>Discount</th>\n",
       "      <th>Profit</th>\n",
       "    </tr>\n",
       "  </thead>\n",
       "  <tbody>\n",
       "  </tbody>\n",
       "</table>\n",
       "</div>"
      ],
      "text/plain": [
       "Empty DataFrame\n",
       "Columns: [Order ID, Order Date, Contact Name, Country, City, Region, Subregion, Customer, Industry, Segment, Product, Sales, Quantity, Discount, Profit]\n",
       "Index: []"
      ]
     },
     "execution_count": 137,
     "metadata": {},
     "output_type": "execute_result"
    }
   ],
   "source": [
    "data[data['Sales'] < 0]"
   ]
  },
  {
   "cell_type": "markdown",
   "metadata": {},
   "source": [
    "Tidak ditemukan nilai minus pada var ```Sales```. Selanjutnya kita akan mencari value yang ```memiliki rentang jauh dari mediannya```."
   ]
  },
  {
   "cell_type": "code",
   "execution_count": 138,
   "metadata": {},
   "outputs": [
    {
     "data": {
      "text/plain": [
       "([<matplotlib.axis.YTick at 0x1fc74ba6870>,\n",
       "  <matplotlib.axis.YTick at 0x1fc74afa180>,\n",
       "  <matplotlib.axis.YTick at 0x1fc74afb5c0>,\n",
       "  <matplotlib.axis.YTick at 0x1fc746dfc20>,\n",
       "  <matplotlib.axis.YTick at 0x1fc758c3a40>,\n",
       "  <matplotlib.axis.YTick at 0x1fc74ac66f0>,\n",
       "  <matplotlib.axis.YTick at 0x1fc758c3d10>,\n",
       "  <matplotlib.axis.YTick at 0x1fc74dce900>],\n",
       " [Text(0, 0, '0'),\n",
       "  Text(0, 3000, '3000'),\n",
       "  Text(0, 6000, '6000'),\n",
       "  Text(0, 9000, '9000'),\n",
       "  Text(0, 12000, '12000'),\n",
       "  Text(0, 15000, '15000'),\n",
       "  Text(0, 18000, '18000'),\n",
       "  Text(0, 21000, '21000')])"
      ]
     },
     "execution_count": 138,
     "metadata": {},
     "output_type": "execute_result"
    },
    {
     "data": {
      "image/png": "[encoded data removed]",
      "text/plain": [
       "<Figure size 640x480 with 1 Axes>"
      ]
     },
     "metadata": {},
     "output_type": "display_data"
    }
   ],
   "source": [
    "sns.boxplot(y=data['Sales'])\n",
    "plt.yticks(ticks = range(0, 24000, 3000))"
   ]
  },
  {
   "cell_type": "markdown",
   "metadata": {},
   "source": [
    "Kita bisa lihat ada 3 record yang diduga sebagai anomalies"
   ]
  },
  {
   "cell_type": "code",
   "execution_count": 139,
   "metadata": {},
   "outputs": [
    {
     "data": {
      "text/html": [
       "<div>\n",
       "<style scoped>\n",
       "    .dataframe tbody tr th:only-of-type {\n",
       "        vertical-align: middle;\n",
       "    }\n",
       "\n",
       "    .dataframe tbody tr th {\n",
       "        vertical-align: top;\n",
       "    }\n",
       "\n",
       "    .dataframe thead th {\n",
       "        text-align: right;\n",
       "    }\n",
       "</style>\n",
       "<table border=\"1\" class=\"dataframe\">\n",
       "  <thead>\n",
       "    <tr style=\"text-align: right;\">\n",
       "      <th></th>\n",
       "      <th>Order ID</th>\n",
       "      <th>Order Date</th>\n",
       "      <th>Contact Name</th>\n",
       "      <th>Country</th>\n",
       "      <th>City</th>\n",
       "      <th>Region</th>\n",
       "      <th>Subregion</th>\n",
       "      <th>Customer</th>\n",
       "      <th>Industry</th>\n",
       "      <th>Segment</th>\n",
       "      <th>Product</th>\n",
       "      <th>Sales</th>\n",
       "      <th>Quantity</th>\n",
       "      <th>Discount</th>\n",
       "      <th>Profit</th>\n",
       "    </tr>\n",
       "  </thead>\n",
       "  <tbody>\n",
       "    <tr>\n",
       "      <th>2697</th>\n",
       "      <td>EMEA-2020-145317</td>\n",
       "      <td>2020-03-18</td>\n",
       "      <td>Diane Murray</td>\n",
       "      <td>Germany</td>\n",
       "      <td>Berlin</td>\n",
       "      <td>EMEA</td>\n",
       "      <td>EU-WEST</td>\n",
       "      <td>Anthem</td>\n",
       "      <td>Healthcare</td>\n",
       "      <td>Enterprise</td>\n",
       "      <td>Big Ol Database</td>\n",
       "      <td>22638.48</td>\n",
       "      <td>6</td>\n",
       "      <td>0.5</td>\n",
       "      <td>-1811.0784</td>\n",
       "    </tr>\n",
       "    <tr>\n",
       "      <th>6826</th>\n",
       "      <td>APJ-2022-118689</td>\n",
       "      <td>2022-10-03</td>\n",
       "      <td>Nicholas Skinner</td>\n",
       "      <td>India</td>\n",
       "      <td>Mumbai</td>\n",
       "      <td>APJ</td>\n",
       "      <td>IND</td>\n",
       "      <td>Coca-Cola</td>\n",
       "      <td>Consumer Products</td>\n",
       "      <td>Strategic</td>\n",
       "      <td>Alchemy</td>\n",
       "      <td>17499.95</td>\n",
       "      <td>5</td>\n",
       "      <td>0.0</td>\n",
       "      <td>8399.9760</td>\n",
       "    </tr>\n",
       "    <tr>\n",
       "      <th>8153</th>\n",
       "      <td>AMER-2023-140151</td>\n",
       "      <td>2023-03-24</td>\n",
       "      <td>Cameron MacLeod</td>\n",
       "      <td>Canada</td>\n",
       "      <td>Toronto</td>\n",
       "      <td>AMER</td>\n",
       "      <td>NAMER</td>\n",
       "      <td>Mondelez International</td>\n",
       "      <td>Consumer Products</td>\n",
       "      <td>SMB</td>\n",
       "      <td>Alchemy</td>\n",
       "      <td>13999.96</td>\n",
       "      <td>4</td>\n",
       "      <td>0.0</td>\n",
       "      <td>6719.9808</td>\n",
       "    </tr>\n",
       "  </tbody>\n",
       "</table>\n",
       "</div>"
      ],
      "text/plain": [
       "              Order ID Order Date      Contact Name  Country     City Region  \\\n",
       "2697  EMEA-2020-145317 2020-03-18      Diane Murray  Germany   Berlin   EMEA   \n",
       "6826   APJ-2022-118689 2022-10-03  Nicholas Skinner    India   Mumbai    APJ   \n",
       "8153  AMER-2023-140151 2023-03-24   Cameron MacLeod   Canada  Toronto   AMER   \n",
       "\n",
       "     Subregion                Customer           Industry     Segment  \\\n",
       "2697   EU-WEST                  Anthem         Healthcare  Enterprise   \n",
       "6826       IND               Coca-Cola  Consumer Products   Strategic   \n",
       "8153     NAMER  Mondelez International  Consumer Products         SMB   \n",
       "\n",
       "              Product     Sales  Quantity  Discount     Profit  \n",
       "2697  Big Ol Database  22638.48         6       0.5 -1811.0784  \n",
       "6826          Alchemy  17499.95         5       0.0  8399.9760  \n",
       "8153          Alchemy  13999.96         4       0.0  6719.9808  "
      ]
     },
     "execution_count": 139,
     "metadata": {},
     "output_type": "execute_result"
    }
   ],
   "source": [
    "data[data['Sales'] > 12000]"
   ]
  },
  {
   "cell_type": "markdown",
   "metadata": {},
   "source": [
    "Pertama var ```Product``` dengan value ```Big Ol Database``` akan kita jabarkan untuk melihat penyebab nilainya sangat tinggi"
   ]
  },
  {
   "cell_type": "code",
   "execution_count": 140,
   "metadata": {},
   "outputs": [
    {
     "data": {
      "text/html": [
       "<div>\n",
       "<style scoped>\n",
       "    .dataframe tbody tr th:only-of-type {\n",
       "        vertical-align: middle;\n",
       "    }\n",
       "\n",
       "    .dataframe tbody tr th {\n",
       "        vertical-align: top;\n",
       "    }\n",
       "\n",
       "    .dataframe thead th {\n",
       "        text-align: right;\n",
       "    }\n",
       "</style>\n",
       "<table border=\"1\" class=\"dataframe\">\n",
       "  <thead>\n",
       "    <tr style=\"text-align: right;\">\n",
       "      <th></th>\n",
       "      <th>Customer</th>\n",
       "      <th>Country</th>\n",
       "      <th>Quantity</th>\n",
       "      <th>Sales</th>\n",
       "      <th>Profit</th>\n",
       "    </tr>\n",
       "  </thead>\n",
       "  <tbody>\n",
       "    <tr>\n",
       "      <th>2697</th>\n",
       "      <td>Anthem</td>\n",
       "      <td>Germany</td>\n",
       "      <td>6</td>\n",
       "      <td>22638.480</td>\n",
       "      <td>-1811.0784</td>\n",
       "    </tr>\n",
       "    <tr>\n",
       "      <th>4277</th>\n",
       "      <td>Lowes</td>\n",
       "      <td>Argentina</td>\n",
       "      <td>7</td>\n",
       "      <td>9099.930</td>\n",
       "      <td>2365.9818</td>\n",
       "    </tr>\n",
       "    <tr>\n",
       "      <th>8488</th>\n",
       "      <td>Honda Motor</td>\n",
       "      <td>Spain</td>\n",
       "      <td>5</td>\n",
       "      <td>8749.950</td>\n",
       "      <td>2799.9840</td>\n",
       "    </tr>\n",
       "    <tr>\n",
       "      <th>165</th>\n",
       "      <td>Nissan Motor</td>\n",
       "      <td>Japan</td>\n",
       "      <td>8</td>\n",
       "      <td>8159.952</td>\n",
       "      <td>-1359.9920</td>\n",
       "    </tr>\n",
       "    <tr>\n",
       "      <th>683</th>\n",
       "      <td>Costco Wholesale</td>\n",
       "      <td>Sweden</td>\n",
       "      <td>4</td>\n",
       "      <td>7999.980</td>\n",
       "      <td>-3839.9904</td>\n",
       "    </tr>\n",
       "    <tr>\n",
       "      <th>6626</th>\n",
       "      <td>Johnson &amp; Johnson</td>\n",
       "      <td>United Kingdom</td>\n",
       "      <td>4</td>\n",
       "      <td>6999.960</td>\n",
       "      <td>2239.9872</td>\n",
       "    </tr>\n",
       "    <tr>\n",
       "      <th>6340</th>\n",
       "      <td>Phillips 66</td>\n",
       "      <td>United Kingdom</td>\n",
       "      <td>4</td>\n",
       "      <td>5199.960</td>\n",
       "      <td>1351.9896</td>\n",
       "    </tr>\n",
       "    <tr>\n",
       "      <th>1085</th>\n",
       "      <td>Fannie Mae</td>\n",
       "      <td>United Kingdom</td>\n",
       "      <td>7</td>\n",
       "      <td>4899.930</td>\n",
       "      <td>2400.9657</td>\n",
       "    </tr>\n",
       "    <tr>\n",
       "      <th>4218</th>\n",
       "      <td>Ford Motor</td>\n",
       "      <td>United States</td>\n",
       "      <td>2</td>\n",
       "      <td>4799.984</td>\n",
       "      <td>359.9988</td>\n",
       "    </tr>\n",
       "    <tr>\n",
       "      <th>8204</th>\n",
       "      <td>AT&amp;T</td>\n",
       "      <td>United Kingdom</td>\n",
       "      <td>4</td>\n",
       "      <td>4643.800</td>\n",
       "      <td>2229.0240</td>\n",
       "    </tr>\n",
       "    <tr>\n",
       "      <th>7772</th>\n",
       "      <td>Allstate</td>\n",
       "      <td>Mexico</td>\n",
       "      <td>5</td>\n",
       "      <td>4499.985</td>\n",
       "      <td>-6599.9780</td>\n",
       "    </tr>\n",
       "    <tr>\n",
       "      <th>9165</th>\n",
       "      <td>Volkswagen</td>\n",
       "      <td>United States</td>\n",
       "      <td>4</td>\n",
       "      <td>4476.800</td>\n",
       "      <td>503.6400</td>\n",
       "    </tr>\n",
       "    <tr>\n",
       "      <th>2182</th>\n",
       "      <td>UnitedHealth Group</td>\n",
       "      <td>United Kingdom</td>\n",
       "      <td>5</td>\n",
       "      <td>3999.950</td>\n",
       "      <td>1159.9855</td>\n",
       "    </tr>\n",
       "    <tr>\n",
       "      <th>318</th>\n",
       "      <td>Itochu</td>\n",
       "      <td>United Kingdom</td>\n",
       "      <td>2</td>\n",
       "      <td>3991.980</td>\n",
       "      <td>1995.9900</td>\n",
       "    </tr>\n",
       "    <tr>\n",
       "      <th>7914</th>\n",
       "      <td>United Parcel Service</td>\n",
       "      <td>United Kingdom</td>\n",
       "      <td>5</td>\n",
       "      <td>3404.500</td>\n",
       "      <td>1668.2050</td>\n",
       "    </tr>\n",
       "    <tr>\n",
       "      <th>8100</th>\n",
       "      <td>Bank of America Corp.</td>\n",
       "      <td>United States</td>\n",
       "      <td>3</td>\n",
       "      <td>3357.600</td>\n",
       "      <td>377.7300</td>\n",
       "    </tr>\n",
       "    <tr>\n",
       "      <th>4093</th>\n",
       "      <td>Marathon Petroleum</td>\n",
       "      <td>Ireland</td>\n",
       "      <td>7</td>\n",
       "      <td>3080.000</td>\n",
       "      <td>1416.8000</td>\n",
       "    </tr>\n",
       "    <tr>\n",
       "      <th>262</th>\n",
       "      <td>HonHai Precision Industry</td>\n",
       "      <td>Japan</td>\n",
       "      <td>3</td>\n",
       "      <td>3059.982</td>\n",
       "      <td>-509.9970</td>\n",
       "    </tr>\n",
       "    <tr>\n",
       "      <th>977</th>\n",
       "      <td>China National Petroleum</td>\n",
       "      <td>Brazil</td>\n",
       "      <td>2</td>\n",
       "      <td>3059.982</td>\n",
       "      <td>679.9960</td>\n",
       "    </tr>\n",
       "    <tr>\n",
       "      <th>1454</th>\n",
       "      <td>AmerisourceBergen</td>\n",
       "      <td>Portugal</td>\n",
       "      <td>8</td>\n",
       "      <td>3040.000</td>\n",
       "      <td>1459.2000</td>\n",
       "    </tr>\n",
       "  </tbody>\n",
       "</table>\n",
       "</div>"
      ],
      "text/plain": [
       "                       Customer         Country  Quantity      Sales  \\\n",
       "2697                     Anthem         Germany         6  22638.480   \n",
       "4277                      Lowes       Argentina         7   9099.930   \n",
       "8488                Honda Motor           Spain         5   8749.950   \n",
       "165                Nissan Motor           Japan         8   8159.952   \n",
       "683            Costco Wholesale          Sweden         4   7999.980   \n",
       "6626          Johnson & Johnson  United Kingdom         4   6999.960   \n",
       "6340                Phillips 66  United Kingdom         4   5199.960   \n",
       "1085                 Fannie Mae  United Kingdom         7   4899.930   \n",
       "4218                 Ford Motor   United States         2   4799.984   \n",
       "8204                       AT&T  United Kingdom         4   4643.800   \n",
       "7772                   Allstate          Mexico         5   4499.985   \n",
       "9165                 Volkswagen   United States         4   4476.800   \n",
       "2182         UnitedHealth Group  United Kingdom         5   3999.950   \n",
       "318                      Itochu  United Kingdom         2   3991.980   \n",
       "7914      United Parcel Service  United Kingdom         5   3404.500   \n",
       "8100      Bank of America Corp.   United States         3   3357.600   \n",
       "4093         Marathon Petroleum         Ireland         7   3080.000   \n",
       "262   HonHai Precision Industry           Japan         3   3059.982   \n",
       "977    China National Petroleum          Brazil         2   3059.982   \n",
       "1454          AmerisourceBergen        Portugal         8   3040.000   \n",
       "\n",
       "         Profit  \n",
       "2697 -1811.0784  \n",
       "4277  2365.9818  \n",
       "8488  2799.9840  \n",
       "165  -1359.9920  \n",
       "683  -3839.9904  \n",
       "6626  2239.9872  \n",
       "6340  1351.9896  \n",
       "1085  2400.9657  \n",
       "4218   359.9988  \n",
       "8204  2229.0240  \n",
       "7772 -6599.9780  \n",
       "9165   503.6400  \n",
       "2182  1159.9855  \n",
       "318   1995.9900  \n",
       "7914  1668.2050  \n",
       "8100   377.7300  \n",
       "4093  1416.8000  \n",
       "262   -509.9970  \n",
       "977    679.9960  \n",
       "1454  1459.2000  "
      ]
     },
     "execution_count": 140,
     "metadata": {},
     "output_type": "execute_result"
    }
   ],
   "source": [
    "data[data['Product'] == 'Big Ol Database'][['Customer', 'Country', 'Quantity', 'Sales', 'Profit']].sort_values('Sales', ascending= False).head(20)"
   ]
  },
  {
   "cell_type": "markdown",
   "metadata": {},
   "source": [
    "Setelah melihat sebaran data dari product ```Big Ol Database``` kita akan mencoba berasumsi apakah penyebab tingginya harga disebabkan karena ```bukan customer yang loyal```, yaitu yang belum memiliki banyak transaksi terhadap SaaS"
   ]
  },
  {
   "cell_type": "code",
   "execution_count": 141,
   "metadata": {},
   "outputs": [
    {
     "data": {
      "text/plain": [
       "134"
      ]
     },
     "execution_count": 141,
     "metadata": {},
     "output_type": "execute_result"
    }
   ],
   "source": [
    "data[data['Customer'] == 'Anthem']['Order ID'].count()"
   ]
  },
  {
   "cell_type": "markdown",
   "metadata": {},
   "source": [
    "Ternyata ```Anthem``` sebagai customer yang dicurigai sebagai customer tidak loyal tidak valid karena justru telah melakukan cukup banyak transaksi"
   ]
  },
  {
   "cell_type": "code",
   "execution_count": 142,
   "metadata": {},
   "outputs": [
    {
     "data": {
      "text/plain": [
       "5953.203799999999"
      ]
     },
     "metadata": {},
     "output_type": "display_data"
    },
    {
     "data": {
      "text/plain": [
       "442528.3074"
      ]
     },
     "metadata": {},
     "output_type": "display_data"
    }
   ],
   "source": [
    "display(\n",
    "data[data['Customer'] == 'Anthem']['Profit'].sum(),\n",
    "data[data['Profit'] > 0]['Profit'].sum())\n"
   ]
  },
  {
   "cell_type": "markdown",
   "metadata": {},
   "source": [
    "Ditambah dengan keuntungan yang dihasilkan oleh customer  ```Anthem``` bisa dikatakan lumayan tinggi. Sedangkan pada record yang sama justru ```Profit``` yang dihasilkan bernilai ```minus``` berbanding terbalik dengan value ```Sales```nya. Maka record tersebut layak disebut sebagai anomali dan dihapus."
   ]
  },
  {
   "cell_type": "code",
   "execution_count": 143,
   "metadata": {},
   "outputs": [
    {
     "data": {
      "text/html": [
       "<div>\n",
       "<style scoped>\n",
       "    .dataframe tbody tr th:only-of-type {\n",
       "        vertical-align: middle;\n",
       "    }\n",
       "\n",
       "    .dataframe tbody tr th {\n",
       "        vertical-align: top;\n",
       "    }\n",
       "\n",
       "    .dataframe thead th {\n",
       "        text-align: right;\n",
       "    }\n",
       "</style>\n",
       "<table border=\"1\" class=\"dataframe\">\n",
       "  <thead>\n",
       "    <tr style=\"text-align: right;\">\n",
       "      <th></th>\n",
       "      <th>Order ID</th>\n",
       "      <th>Order Date</th>\n",
       "      <th>Contact Name</th>\n",
       "      <th>Country</th>\n",
       "      <th>City</th>\n",
       "      <th>Region</th>\n",
       "      <th>Subregion</th>\n",
       "      <th>Customer</th>\n",
       "      <th>Industry</th>\n",
       "      <th>Segment</th>\n",
       "      <th>Product</th>\n",
       "      <th>Sales</th>\n",
       "      <th>Quantity</th>\n",
       "      <th>Discount</th>\n",
       "      <th>Profit</th>\n",
       "    </tr>\n",
       "  </thead>\n",
       "  <tbody>\n",
       "    <tr>\n",
       "      <th>0</th>\n",
       "      <td>EMEA-2022-152156</td>\n",
       "      <td>2022-11-09</td>\n",
       "      <td>Nathan Bell</td>\n",
       "      <td>Ireland</td>\n",
       "      <td>Dublin</td>\n",
       "      <td>EMEA</td>\n",
       "      <td>UKIR</td>\n",
       "      <td>Chevron</td>\n",
       "      <td>Energy</td>\n",
       "      <td>SMB</td>\n",
       "      <td>Marketing Suite</td>\n",
       "      <td>261.9600</td>\n",
       "      <td>2</td>\n",
       "      <td>0.00</td>\n",
       "      <td>41.9136</td>\n",
       "    </tr>\n",
       "    <tr>\n",
       "      <th>1</th>\n",
       "      <td>EMEA-2022-152156</td>\n",
       "      <td>2022-11-09</td>\n",
       "      <td>Nathan Bell</td>\n",
       "      <td>Ireland</td>\n",
       "      <td>Dublin</td>\n",
       "      <td>EMEA</td>\n",
       "      <td>UKIR</td>\n",
       "      <td>Chevron</td>\n",
       "      <td>Energy</td>\n",
       "      <td>SMB</td>\n",
       "      <td>FinanceHub</td>\n",
       "      <td>731.9400</td>\n",
       "      <td>3</td>\n",
       "      <td>0.00</td>\n",
       "      <td>219.5820</td>\n",
       "    </tr>\n",
       "    <tr>\n",
       "      <th>2</th>\n",
       "      <td>AMER-2022-138688</td>\n",
       "      <td>2022-06-13</td>\n",
       "      <td>Deirdre Bailey</td>\n",
       "      <td>United States</td>\n",
       "      <td>New York City</td>\n",
       "      <td>AMER</td>\n",
       "      <td>NAMER</td>\n",
       "      <td>Phillips 66</td>\n",
       "      <td>Energy</td>\n",
       "      <td>Strategic</td>\n",
       "      <td>FinanceHub</td>\n",
       "      <td>14.6200</td>\n",
       "      <td>2</td>\n",
       "      <td>0.00</td>\n",
       "      <td>6.8714</td>\n",
       "    </tr>\n",
       "    <tr>\n",
       "      <th>3</th>\n",
       "      <td>EMEA-2021-108966</td>\n",
       "      <td>2021-10-11</td>\n",
       "      <td>Zoe Hodges</td>\n",
       "      <td>Germany</td>\n",
       "      <td>Stuttgart</td>\n",
       "      <td>EMEA</td>\n",
       "      <td>EU-WEST</td>\n",
       "      <td>Royal Dutch Shell</td>\n",
       "      <td>Energy</td>\n",
       "      <td>SMB</td>\n",
       "      <td>ContactMatcher</td>\n",
       "      <td>957.5775</td>\n",
       "      <td>5</td>\n",
       "      <td>0.45</td>\n",
       "      <td>-383.0310</td>\n",
       "    </tr>\n",
       "    <tr>\n",
       "      <th>4</th>\n",
       "      <td>EMEA-2021-108966</td>\n",
       "      <td>2021-10-11</td>\n",
       "      <td>Zoe Hodges</td>\n",
       "      <td>Germany</td>\n",
       "      <td>Stuttgart</td>\n",
       "      <td>EMEA</td>\n",
       "      <td>EU-WEST</td>\n",
       "      <td>Royal Dutch Shell</td>\n",
       "      <td>Energy</td>\n",
       "      <td>SMB</td>\n",
       "      <td>Marketing Suite - Gold</td>\n",
       "      <td>22.3680</td>\n",
       "      <td>2</td>\n",
       "      <td>0.20</td>\n",
       "      <td>2.5164</td>\n",
       "    </tr>\n",
       "    <tr>\n",
       "      <th>...</th>\n",
       "      <td>...</td>\n",
       "      <td>...</td>\n",
       "      <td>...</td>\n",
       "      <td>...</td>\n",
       "      <td>...</td>\n",
       "      <td>...</td>\n",
       "      <td>...</td>\n",
       "      <td>...</td>\n",
       "      <td>...</td>\n",
       "      <td>...</td>\n",
       "      <td>...</td>\n",
       "      <td>...</td>\n",
       "      <td>...</td>\n",
       "      <td>...</td>\n",
       "      <td>...</td>\n",
       "    </tr>\n",
       "    <tr>\n",
       "      <th>9989</th>\n",
       "      <td>EMEA-2020-110422</td>\n",
       "      <td>2020-01-22</td>\n",
       "      <td>Dan Allan</td>\n",
       "      <td>Germany</td>\n",
       "      <td>Hamburg</td>\n",
       "      <td>EMEA</td>\n",
       "      <td>EU-WEST</td>\n",
       "      <td>Johnson &amp; Johnson</td>\n",
       "      <td>Healthcare</td>\n",
       "      <td>SMB</td>\n",
       "      <td>SaaS Connector Pack</td>\n",
       "      <td>25.2480</td>\n",
       "      <td>3</td>\n",
       "      <td>0.20</td>\n",
       "      <td>4.1028</td>\n",
       "    </tr>\n",
       "    <tr>\n",
       "      <th>9990</th>\n",
       "      <td>AMER-2023-121258</td>\n",
       "      <td>2023-02-27</td>\n",
       "      <td>Anthony Sanderson</td>\n",
       "      <td>United States</td>\n",
       "      <td>Milwaukee</td>\n",
       "      <td>AMER</td>\n",
       "      <td>NAMER</td>\n",
       "      <td>American Express</td>\n",
       "      <td>Finance</td>\n",
       "      <td>SMB</td>\n",
       "      <td>SaaS Connector Pack</td>\n",
       "      <td>91.9600</td>\n",
       "      <td>2</td>\n",
       "      <td>0.00</td>\n",
       "      <td>15.6332</td>\n",
       "    </tr>\n",
       "    <tr>\n",
       "      <th>9991</th>\n",
       "      <td>AMER-2023-121258</td>\n",
       "      <td>2023-02-27</td>\n",
       "      <td>Anthony Sanderson</td>\n",
       "      <td>United States</td>\n",
       "      <td>Milwaukee</td>\n",
       "      <td>AMER</td>\n",
       "      <td>NAMER</td>\n",
       "      <td>American Express</td>\n",
       "      <td>Finance</td>\n",
       "      <td>SMB</td>\n",
       "      <td>Site Analytics</td>\n",
       "      <td>258.5760</td>\n",
       "      <td>2</td>\n",
       "      <td>0.20</td>\n",
       "      <td>19.3932</td>\n",
       "    </tr>\n",
       "    <tr>\n",
       "      <th>9992</th>\n",
       "      <td>AMER-2023-121258</td>\n",
       "      <td>2023-02-27</td>\n",
       "      <td>Anthony Sanderson</td>\n",
       "      <td>United States</td>\n",
       "      <td>Milwaukee</td>\n",
       "      <td>AMER</td>\n",
       "      <td>NAMER</td>\n",
       "      <td>American Express</td>\n",
       "      <td>Finance</td>\n",
       "      <td>SMB</td>\n",
       "      <td>Support</td>\n",
       "      <td>29.6000</td>\n",
       "      <td>4</td>\n",
       "      <td>0.00</td>\n",
       "      <td>13.3200</td>\n",
       "    </tr>\n",
       "    <tr>\n",
       "      <th>9993</th>\n",
       "      <td>AMER-2023-119914</td>\n",
       "      <td>2023-05-05</td>\n",
       "      <td>Jasmine Springer</td>\n",
       "      <td>United States</td>\n",
       "      <td>Dallas</td>\n",
       "      <td>AMER</td>\n",
       "      <td>NAMER</td>\n",
       "      <td>Comcast</td>\n",
       "      <td>Communications</td>\n",
       "      <td>SMB</td>\n",
       "      <td>OneView</td>\n",
       "      <td>243.1600</td>\n",
       "      <td>2</td>\n",
       "      <td>0.00</td>\n",
       "      <td>72.9480</td>\n",
       "    </tr>\n",
       "  </tbody>\n",
       "</table>\n",
       "<p>9993 rows × 15 columns</p>\n",
       "</div>"
      ],
      "text/plain": [
       "              Order ID Order Date       Contact Name        Country  \\\n",
       "0     EMEA-2022-152156 2022-11-09        Nathan Bell        Ireland   \n",
       "1     EMEA-2022-152156 2022-11-09        Nathan Bell        Ireland   \n",
       "2     AMER-2022-138688 2022-06-13     Deirdre Bailey  United States   \n",
       "3     EMEA-2021-108966 2021-10-11         Zoe Hodges        Germany   \n",
       "4     EMEA-2021-108966 2021-10-11         Zoe Hodges        Germany   \n",
       "...                ...        ...                ...            ...   \n",
       "9989  EMEA-2020-110422 2020-01-22          Dan Allan        Germany   \n",
       "9990  AMER-2023-121258 2023-02-27  Anthony Sanderson  United States   \n",
       "9991  AMER-2023-121258 2023-02-27  Anthony Sanderson  United States   \n",
       "9992  AMER-2023-121258 2023-02-27  Anthony Sanderson  United States   \n",
       "9993  AMER-2023-119914 2023-05-05   Jasmine Springer  United States   \n",
       "\n",
       "               City Region Subregion           Customer        Industry  \\\n",
       "0            Dublin   EMEA      UKIR            Chevron          Energy   \n",
       "1            Dublin   EMEA      UKIR            Chevron          Energy   \n",
       "2     New York City   AMER     NAMER        Phillips 66          Energy   \n",
       "3         Stuttgart   EMEA   EU-WEST  Royal Dutch Shell          Energy   \n",
       "4         Stuttgart   EMEA   EU-WEST  Royal Dutch Shell          Energy   \n",
       "...             ...    ...       ...                ...             ...   \n",
       "9989        Hamburg   EMEA   EU-WEST  Johnson & Johnson      Healthcare   \n",
       "9990      Milwaukee   AMER     NAMER   American Express         Finance   \n",
       "9991      Milwaukee   AMER     NAMER   American Express         Finance   \n",
       "9992      Milwaukee   AMER     NAMER   American Express         Finance   \n",
       "9993         Dallas   AMER     NAMER            Comcast  Communications   \n",
       "\n",
       "        Segment                 Product     Sales  Quantity  Discount  \\\n",
       "0           SMB         Marketing Suite  261.9600         2      0.00   \n",
       "1           SMB              FinanceHub  731.9400         3      0.00   \n",
       "2     Strategic              FinanceHub   14.6200         2      0.00   \n",
       "3           SMB          ContactMatcher  957.5775         5      0.45   \n",
       "4           SMB  Marketing Suite - Gold   22.3680         2      0.20   \n",
       "...         ...                     ...       ...       ...       ...   \n",
       "9989        SMB     SaaS Connector Pack   25.2480         3      0.20   \n",
       "9990        SMB     SaaS Connector Pack   91.9600         2      0.00   \n",
       "9991        SMB          Site Analytics  258.5760         2      0.20   \n",
       "9992        SMB                 Support   29.6000         4      0.00   \n",
       "9993        SMB                 OneView  243.1600         2      0.00   \n",
       "\n",
       "        Profit  \n",
       "0      41.9136  \n",
       "1     219.5820  \n",
       "2       6.8714  \n",
       "3    -383.0310  \n",
       "4       2.5164  \n",
       "...        ...  \n",
       "9989    4.1028  \n",
       "9990   15.6332  \n",
       "9991   19.3932  \n",
       "9992   13.3200  \n",
       "9993   72.9480  \n",
       "\n",
       "[9993 rows x 15 columns]"
      ]
     },
     "execution_count": 143,
     "metadata": {},
     "output_type": "execute_result"
    }
   ],
   "source": [
    "data.drop(2697)"
   ]
  },
  {
   "cell_type": "markdown",
   "metadata": {},
   "source": [
    "Selanjutnya kita akan melihat sebaran data dari product ```Alchemy```"
   ]
  },
  {
   "cell_type": "code",
   "execution_count": 144,
   "metadata": {},
   "outputs": [
    {
     "data": {
      "text/html": [
       "<div>\n",
       "<style scoped>\n",
       "    .dataframe tbody tr th:only-of-type {\n",
       "        vertical-align: middle;\n",
       "    }\n",
       "\n",
       "    .dataframe tbody tr th {\n",
       "        vertical-align: top;\n",
       "    }\n",
       "\n",
       "    .dataframe thead th {\n",
       "        text-align: right;\n",
       "    }\n",
       "</style>\n",
       "<table border=\"1\" class=\"dataframe\">\n",
       "  <thead>\n",
       "    <tr style=\"text-align: right;\">\n",
       "      <th></th>\n",
       "      <th>Customer</th>\n",
       "      <th>Country</th>\n",
       "      <th>Quantity</th>\n",
       "      <th>Sales</th>\n",
       "      <th>Profit</th>\n",
       "    </tr>\n",
       "  </thead>\n",
       "  <tbody>\n",
       "    <tr>\n",
       "      <th>6826</th>\n",
       "      <td>Coca-Cola</td>\n",
       "      <td>India</td>\n",
       "      <td>5</td>\n",
       "      <td>17499.950</td>\n",
       "      <td>8399.9760</td>\n",
       "    </tr>\n",
       "    <tr>\n",
       "      <th>8153</th>\n",
       "      <td>Mondelez International</td>\n",
       "      <td>Canada</td>\n",
       "      <td>4</td>\n",
       "      <td>13999.960</td>\n",
       "      <td>6719.9808</td>\n",
       "    </tr>\n",
       "    <tr>\n",
       "      <th>2623</th>\n",
       "      <td>Trafigura Group</td>\n",
       "      <td>United Kingdom</td>\n",
       "      <td>4</td>\n",
       "      <td>11199.968</td>\n",
       "      <td>3919.9888</td>\n",
       "    </tr>\n",
       "    <tr>\n",
       "      <th>4190</th>\n",
       "      <td>Lowes</td>\n",
       "      <td>Philippines</td>\n",
       "      <td>3</td>\n",
       "      <td>10499.970</td>\n",
       "      <td>5039.9856</td>\n",
       "    </tr>\n",
       "    <tr>\n",
       "      <th>6425</th>\n",
       "      <td>BMW</td>\n",
       "      <td>France</td>\n",
       "      <td>4</td>\n",
       "      <td>8399.976</td>\n",
       "      <td>1119.9968</td>\n",
       "    </tr>\n",
       "    <tr>\n",
       "      <th>7666</th>\n",
       "      <td>Glencore</td>\n",
       "      <td>Norway</td>\n",
       "      <td>9</td>\n",
       "      <td>5399.910</td>\n",
       "      <td>2591.9568</td>\n",
       "    </tr>\n",
       "    <tr>\n",
       "      <th>8990</th>\n",
       "      <td>BNP Paribas</td>\n",
       "      <td>Poland</td>\n",
       "      <td>7</td>\n",
       "      <td>4899.930</td>\n",
       "      <td>2302.9671</td>\n",
       "    </tr>\n",
       "    <tr>\n",
       "      <th>3273</th>\n",
       "      <td>Costco Wholesale</td>\n",
       "      <td>United States</td>\n",
       "      <td>6</td>\n",
       "      <td>3359.952</td>\n",
       "      <td>1049.9850</td>\n",
       "    </tr>\n",
       "    <tr>\n",
       "      <th>1644</th>\n",
       "      <td>Humana</td>\n",
       "      <td>Canada</td>\n",
       "      <td>7</td>\n",
       "      <td>3149.930</td>\n",
       "      <td>1480.4671</td>\n",
       "    </tr>\n",
       "    <tr>\n",
       "      <th>5562</th>\n",
       "      <td>American Express</td>\n",
       "      <td>Finland</td>\n",
       "      <td>5</td>\n",
       "      <td>2999.950</td>\n",
       "      <td>1439.9760</td>\n",
       "    </tr>\n",
       "    <tr>\n",
       "      <th>515</th>\n",
       "      <td>FedEx</td>\n",
       "      <td>Netherlands</td>\n",
       "      <td>5</td>\n",
       "      <td>2999.950</td>\n",
       "      <td>1379.9770</td>\n",
       "    </tr>\n",
       "    <tr>\n",
       "      <th>4619</th>\n",
       "      <td>Merck</td>\n",
       "      <td>United States</td>\n",
       "      <td>6</td>\n",
       "      <td>2879.952</td>\n",
       "      <td>1007.9832</td>\n",
       "    </tr>\n",
       "    <tr>\n",
       "      <th>3983</th>\n",
       "      <td>BMW</td>\n",
       "      <td>United States</td>\n",
       "      <td>5</td>\n",
       "      <td>2799.960</td>\n",
       "      <td>944.9865</td>\n",
       "    </tr>\n",
       "    <tr>\n",
       "      <th>3055</th>\n",
       "      <td>Phillips 66</td>\n",
       "      <td>Australia</td>\n",
       "      <td>5</td>\n",
       "      <td>2799.960</td>\n",
       "      <td>874.9875</td>\n",
       "    </tr>\n",
       "    <tr>\n",
       "      <th>9929</th>\n",
       "      <td>Huawei</td>\n",
       "      <td>United States</td>\n",
       "      <td>5</td>\n",
       "      <td>2799.960</td>\n",
       "      <td>944.9865</td>\n",
       "    </tr>\n",
       "    <tr>\n",
       "      <th>5710</th>\n",
       "      <td>Sysco</td>\n",
       "      <td>United Kingdom</td>\n",
       "      <td>7</td>\n",
       "      <td>2799.944</td>\n",
       "      <td>1014.9797</td>\n",
       "    </tr>\n",
       "    <tr>\n",
       "      <th>6901</th>\n",
       "      <td>ConocoPhillips</td>\n",
       "      <td>United States</td>\n",
       "      <td>5</td>\n",
       "      <td>2399.960</td>\n",
       "      <td>839.9860</td>\n",
       "    </tr>\n",
       "    <tr>\n",
       "      <th>7173</th>\n",
       "      <td>Samsung Electronics</td>\n",
       "      <td>Japan</td>\n",
       "      <td>5</td>\n",
       "      <td>2399.960</td>\n",
       "      <td>569.9905</td>\n",
       "    </tr>\n",
       "    <tr>\n",
       "      <th>5756</th>\n",
       "      <td>Philip Morris International</td>\n",
       "      <td>Japan</td>\n",
       "      <td>5</td>\n",
       "      <td>1999.960</td>\n",
       "      <td>624.9875</td>\n",
       "    </tr>\n",
       "    <tr>\n",
       "      <th>6527</th>\n",
       "      <td>Siemens</td>\n",
       "      <td>Norway</td>\n",
       "      <td>4</td>\n",
       "      <td>1999.960</td>\n",
       "      <td>899.9820</td>\n",
       "    </tr>\n",
       "  </tbody>\n",
       "</table>\n",
       "</div>"
      ],
      "text/plain": [
       "                         Customer         Country  Quantity      Sales  \\\n",
       "6826                    Coca-Cola           India         5  17499.950   \n",
       "8153       Mondelez International          Canada         4  13999.960   \n",
       "2623              Trafigura Group  United Kingdom         4  11199.968   \n",
       "4190                        Lowes     Philippines         3  10499.970   \n",
       "6425                          BMW          France         4   8399.976   \n",
       "7666                     Glencore          Norway         9   5399.910   \n",
       "8990                  BNP Paribas          Poland         7   4899.930   \n",
       "3273             Costco Wholesale   United States         6   3359.952   \n",
       "1644                       Humana          Canada         7   3149.930   \n",
       "5562             American Express         Finland         5   2999.950   \n",
       "515                         FedEx     Netherlands         5   2999.950   \n",
       "4619                        Merck   United States         6   2879.952   \n",
       "3983                          BMW   United States         5   2799.960   \n",
       "3055                  Phillips 66       Australia         5   2799.960   \n",
       "9929                       Huawei   United States         5   2799.960   \n",
       "5710                        Sysco  United Kingdom         7   2799.944   \n",
       "6901               ConocoPhillips   United States         5   2399.960   \n",
       "7173          Samsung Electronics           Japan         5   2399.960   \n",
       "5756  Philip Morris International           Japan         5   1999.960   \n",
       "6527                      Siemens          Norway         4   1999.960   \n",
       "\n",
       "         Profit  \n",
       "6826  8399.9760  \n",
       "8153  6719.9808  \n",
       "2623  3919.9888  \n",
       "4190  5039.9856  \n",
       "6425  1119.9968  \n",
       "7666  2591.9568  \n",
       "8990  2302.9671  \n",
       "3273  1049.9850  \n",
       "1644  1480.4671  \n",
       "5562  1439.9760  \n",
       "515   1379.9770  \n",
       "4619  1007.9832  \n",
       "3983   944.9865  \n",
       "3055   874.9875  \n",
       "9929   944.9865  \n",
       "5710  1014.9797  \n",
       "6901   839.9860  \n",
       "7173   569.9905  \n",
       "5756   624.9875  \n",
       "6527   899.9820  "
      ]
     },
     "execution_count": 144,
     "metadata": {},
     "output_type": "execute_result"
    }
   ],
   "source": [
    "data[data['Product'] == 'Alchemy'][['Customer', 'Country', 'Quantity', 'Sales', 'Profit']].sort_values('Sales', ascending= False).head(20)"
   ]
  },
  {
   "cell_type": "markdown",
   "metadata": {},
   "source": [
    "Setelah kita melakukan filter terhadap Product ```Alchemy``` dengan melihat record yang diasumsikan memiliki anomali pada variable ```Sales```, kita dapat menyimpulkan bahwa record ini tidak bersifat anomali karena profit yang dihasilkan merupakan profit paling tinggi dibanding lainnya. Ini menunjukkan bahwa tingginya harga ```Sales``` adalah sesuai dengan profitnya."
   ]
  },
  {
   "cell_type": "markdown",
   "metadata": {},
   "source": [
    "#### *Mengecek Variabel ```Quantity```*"
   ]
  },
  {
   "cell_type": "markdown",
   "metadata": {},
   "source": [
    "Dengan melihat Unique value pada var ```Quantity``` kita bisa melihat apakah ada value yang bernilai minus (imajinatif) dan yang bernilai cacah."
   ]
  },
  {
   "cell_type": "code",
   "execution_count": 145,
   "metadata": {},
   "outputs": [
    {
     "data": {
      "text/plain": [
       "array([ 1,  2,  3,  4,  5,  6,  7,  8,  9, 10, 11, 12, 13, 14],\n",
       "      dtype=int64)"
      ]
     },
     "execution_count": 145,
     "metadata": {},
     "output_type": "execute_result"
    }
   ],
   "source": [
    "np.sort(data['Quantity'].unique())"
   ]
  },
  {
   "cell_type": "markdown",
   "metadata": {},
   "source": [
    "Tidak terdapat data anomali pada ```Quantity```. Selanjutnya kita akan melihat frekuensi valuenya."
   ]
  },
  {
   "cell_type": "code",
   "execution_count": 146,
   "metadata": {},
   "outputs": [
    {
     "data": {
      "text/plain": [
       "Quantity\n",
       "3     2409\n",
       "2     2402\n",
       "5     1230\n",
       "4     1191\n",
       "1      899\n",
       "7      606\n",
       "6      572\n",
       "9      258\n",
       "8      257\n",
       "10      57\n",
       "11      34\n",
       "14      29\n",
       "13      27\n",
       "12      23\n",
       "Name: count, dtype: int64"
      ]
     },
     "execution_count": 146,
     "metadata": {},
     "output_type": "execute_result"
    }
   ],
   "source": [
    "data['Quantity'].value_counts()"
   ]
  },
  {
   "cell_type": "markdown",
   "metadata": {},
   "source": [
    "#### *Mengecek Variabel ```Discount```*"
   ]
  },
  {
   "cell_type": "code",
   "execution_count": 147,
   "metadata": {},
   "outputs": [
    {
     "data": {
      "text/plain": [
       "array([0.  , 0.1 , 0.15, 0.2 , 0.3 , 0.32, 0.4 , 0.45, 0.5 , 0.6 , 0.7 ,\n",
       "       0.8 ])"
      ]
     },
     "execution_count": 147,
     "metadata": {},
     "output_type": "execute_result"
    }
   ],
   "source": [
    "np.sort(data['Discount'].unique())"
   ]
  },
  {
   "cell_type": "markdown",
   "metadata": {},
   "source": [
    "Disini Kita Mengasumsikan secara common sence bahwa anomali pada diskon bisa terjadi ketika nilai diskon bernilai minus dan diskon lebih dari 100% (1.0). Namun tidak terdapat anomali pada diskon"
   ]
  },
  {
   "cell_type": "code",
   "execution_count": 148,
   "metadata": {},
   "outputs": [
    {
     "data": {
      "text/plain": [
       "Discount\n",
       "0.00    4798\n",
       "0.20    3657\n",
       "0.70     418\n",
       "0.80     300\n",
       "0.30     227\n",
       "0.40     206\n",
       "0.60     138\n",
       "0.10      94\n",
       "0.50      66\n",
       "0.15      52\n",
       "0.32      27\n",
       "0.45      11\n",
       "Name: count, dtype: int64"
      ]
     },
     "execution_count": 148,
     "metadata": {},
     "output_type": "execute_result"
    }
   ],
   "source": [
    "data['Discount'].value_counts()"
   ]
  },
  {
   "cell_type": "markdown",
   "metadata": {},
   "source": [
    "#### *Mengecek Variabel ```Profit```*"
   ]
  },
  {
   "cell_type": "code",
   "execution_count": 149,
   "metadata": {},
   "outputs": [
    {
     "data": {
      "text/plain": [
       "array([-6599.978 , -3839.9904, -3701.8928, ...,  5039.9856,  6719.9808,\n",
       "        8399.976 ])"
      ]
     },
     "execution_count": 149,
     "metadata": {},
     "output_type": "execute_result"
    }
   ],
   "source": [
    "np.sort(data['Profit'].unique())"
   ]
  },
  {
   "cell_type": "code",
   "execution_count": 150,
   "metadata": {},
   "outputs": [
    {
     "data": {
      "text/plain": [
       "Profit\n",
       "0.0000     65\n",
       "6.2208     43\n",
       "9.3312     38\n",
       "5.4432     32\n",
       "3.6288     32\n",
       "           ..\n",
       "83.2508     1\n",
       "16.1096     1\n",
       "7.1988      1\n",
       "1.6510      1\n",
       "72.9480     1\n",
       "Name: count, Length: 7287, dtype: int64"
      ]
     },
     "execution_count": 150,
     "metadata": {},
     "output_type": "execute_result"
    }
   ],
   "source": [
    "data['Profit'].value_counts()"
   ]
  },
  {
   "cell_type": "code",
   "execution_count": 151,
   "metadata": {},
   "outputs": [
    {
     "data": {
      "text/plain": [
       "([<matplotlib.axis.YTick at 0x1fc76a7a000>,\n",
       "  <matplotlib.axis.YTick at 0x1fc76a79cd0>,\n",
       "  <matplotlib.axis.YTick at 0x1fc74ba5070>,\n",
       "  <matplotlib.axis.YTick at 0x1fc76a8d700>,\n",
       "  <matplotlib.axis.YTick at 0x1fc76a8f1a0>,\n",
       "  <matplotlib.axis.YTick at 0x1fc76a8faa0>,\n",
       "  <matplotlib.axis.YTick at 0x1fc76a8e330>,\n",
       "  <matplotlib.axis.YTick at 0x1fc76ad45c0>,\n",
       "  <matplotlib.axis.YTick at 0x1fc76ad4ef0>,\n",
       "  <matplotlib.axis.YTick at 0x1fc76ad5820>,\n",
       "  <matplotlib.axis.YTick at 0x1fc76a79370>,\n",
       "  <matplotlib.axis.YTick at 0x1fc76a8ffb0>,\n",
       "  <matplotlib.axis.YTick at 0x1fc76ad52e0>,\n",
       "  <matplotlib.axis.YTick at 0x1fc76ad72f0>,\n",
       "  <matplotlib.axis.YTick at 0x1fc76ad7c80>,\n",
       "  <matplotlib.axis.YTick at 0x1fc76ab85f0>,\n",
       "  <matplotlib.axis.YTick at 0x1fc76ab8e90>,\n",
       "  <matplotlib.axis.YTick at 0x1fc76ad5dc0>,\n",
       "  <matplotlib.axis.YTick at 0x1fc76ab9370>,\n",
       "  <matplotlib.axis.YTick at 0x1fc76ab9d00>,\n",
       "  <matplotlib.axis.YTick at 0x1fc76aba660>,\n",
       "  <matplotlib.axis.YTick at 0x1fc76abaff0>,\n",
       "  <matplotlib.axis.YTick at 0x1fc76abaa50>,\n",
       "  <matplotlib.axis.YTick at 0x1fc76abb770>,\n",
       "  <matplotlib.axis.YTick at 0x1fc76abbce0>,\n",
       "  <matplotlib.axis.YTick at 0x1fc76aa0aa0>,\n",
       "  <matplotlib.axis.YTick at 0x1fc76aa1460>,\n",
       "  <matplotlib.axis.YTick at 0x1fc76abbd10>,\n",
       "  <matplotlib.axis.YTick at 0x1fc76aa0e90>,\n",
       "  <matplotlib.axis.YTick at 0x1fc76aa23f0>,\n",
       "  <matplotlib.axis.YTick at 0x1fc76aa2d20>,\n",
       "  <matplotlib.axis.YTick at 0x1fc76aa3620>],\n",
       " [Text(0, -7000, '−7000'),\n",
       "  Text(0, -6500, '−6500'),\n",
       "  Text(0, -6000, '−6000'),\n",
       "  Text(0, -5500, '−5500'),\n",
       "  Text(0, -5000, '−5000'),\n",
       "  Text(0, -4500, '−4500'),\n",
       "  Text(0, -4000, '−4000'),\n",
       "  Text(0, -3500, '−3500'),\n",
       "  Text(0, -3000, '−3000'),\n",
       "  Text(0, -2500, '−2500'),\n",
       "  Text(0, -2000, '−2000'),\n",
       "  Text(0, -1500, '−1500'),\n",
       "  Text(0, -1000, '−1000'),\n",
       "  Text(0, -500, '−500'),\n",
       "  Text(0, 0, '0'),\n",
       "  Text(0, 500, '500'),\n",
       "  Text(0, 1000, '1000'),\n",
       "  Text(0, 1500, '1500'),\n",
       "  Text(0, 2000, '2000'),\n",
       "  Text(0, 2500, '2500'),\n",
       "  Text(0, 3000, '3000'),\n",
       "  Text(0, 3500, '3500'),\n",
       "  Text(0, 4000, '4000'),\n",
       "  Text(0, 4500, '4500'),\n",
       "  Text(0, 5000, '5000'),\n",
       "  Text(0, 5500, '5500'),\n",
       "  Text(0, 6000, '6000'),\n",
       "  Text(0, 6500, '6500'),\n",
       "  Text(0, 7000, '7000'),\n",
       "  Text(0, 7500, '7500'),\n",
       "  Text(0, 8000, '8000'),\n",
       "  Text(0, 8500, '8500')])"
      ]
     },
     "execution_count": 151,
     "metadata": {},
     "output_type": "execute_result"
    },
    {
     "data": {
      "image/png": "[encoded data removed]",
      "text/plain": [
       "<Figure size 640x480 with 1 Axes>"
      ]
     },
     "metadata": {},
     "output_type": "display_data"
    }
   ],
   "source": [
    "sns.boxplot(y=data['Profit'])\n",
    "plt.yticks(ticks = range(-7000, 9000, 500))"
   ]
  },
  {
   "cell_type": "markdown",
   "metadata": {},
   "source": [
    "Kita bisa melihat ada terduga ```3 anomalis``` pada var ```Profit``` yaitu diatas 2 value 6000 dan 1 value dibawah -5000"
   ]
  },
  {
   "cell_type": "code",
   "execution_count": 152,
   "metadata": {},
   "outputs": [
    {
     "data": {
      "text/html": [
       "<div>\n",
       "<style scoped>\n",
       "    .dataframe tbody tr th:only-of-type {\n",
       "        vertical-align: middle;\n",
       "    }\n",
       "\n",
       "    .dataframe tbody tr th {\n",
       "        vertical-align: top;\n",
       "    }\n",
       "\n",
       "    .dataframe thead th {\n",
       "        text-align: right;\n",
       "    }\n",
       "</style>\n",
       "<table border=\"1\" class=\"dataframe\">\n",
       "  <thead>\n",
       "    <tr style=\"text-align: right;\">\n",
       "      <th></th>\n",
       "      <th>Order ID</th>\n",
       "      <th>Order Date</th>\n",
       "      <th>Contact Name</th>\n",
       "      <th>Country</th>\n",
       "      <th>City</th>\n",
       "      <th>Region</th>\n",
       "      <th>Subregion</th>\n",
       "      <th>Customer</th>\n",
       "      <th>Industry</th>\n",
       "      <th>Segment</th>\n",
       "      <th>Product</th>\n",
       "      <th>Sales</th>\n",
       "      <th>Quantity</th>\n",
       "      <th>Discount</th>\n",
       "      <th>Profit</th>\n",
       "    </tr>\n",
       "  </thead>\n",
       "  <tbody>\n",
       "    <tr>\n",
       "      <th>6826</th>\n",
       "      <td>APJ-2022-118689</td>\n",
       "      <td>2022-10-03</td>\n",
       "      <td>Nicholas Skinner</td>\n",
       "      <td>India</td>\n",
       "      <td>Mumbai</td>\n",
       "      <td>APJ</td>\n",
       "      <td>IND</td>\n",
       "      <td>Coca-Cola</td>\n",
       "      <td>Consumer Products</td>\n",
       "      <td>Strategic</td>\n",
       "      <td>Alchemy</td>\n",
       "      <td>17499.950</td>\n",
       "      <td>5</td>\n",
       "      <td>0.0</td>\n",
       "      <td>8399.9760</td>\n",
       "    </tr>\n",
       "    <tr>\n",
       "      <th>7772</th>\n",
       "      <td>AMER-2022-108196</td>\n",
       "      <td>2022-11-26</td>\n",
       "      <td>Faith Campbell</td>\n",
       "      <td>Mexico</td>\n",
       "      <td>Tijuana</td>\n",
       "      <td>AMER</td>\n",
       "      <td>LATAM</td>\n",
       "      <td>Allstate</td>\n",
       "      <td>Finance</td>\n",
       "      <td>SMB</td>\n",
       "      <td>Big Ol Database</td>\n",
       "      <td>4499.985</td>\n",
       "      <td>5</td>\n",
       "      <td>0.7</td>\n",
       "      <td>-6599.9780</td>\n",
       "    </tr>\n",
       "    <tr>\n",
       "      <th>8153</th>\n",
       "      <td>AMER-2023-140151</td>\n",
       "      <td>2023-03-24</td>\n",
       "      <td>Cameron MacLeod</td>\n",
       "      <td>Canada</td>\n",
       "      <td>Toronto</td>\n",
       "      <td>AMER</td>\n",
       "      <td>NAMER</td>\n",
       "      <td>Mondelez International</td>\n",
       "      <td>Consumer Products</td>\n",
       "      <td>SMB</td>\n",
       "      <td>Alchemy</td>\n",
       "      <td>13999.960</td>\n",
       "      <td>4</td>\n",
       "      <td>0.0</td>\n",
       "      <td>6719.9808</td>\n",
       "    </tr>\n",
       "  </tbody>\n",
       "</table>\n",
       "</div>"
      ],
      "text/plain": [
       "              Order ID Order Date      Contact Name Country     City Region  \\\n",
       "6826   APJ-2022-118689 2022-10-03  Nicholas Skinner   India   Mumbai    APJ   \n",
       "7772  AMER-2022-108196 2022-11-26    Faith Campbell  Mexico  Tijuana   AMER   \n",
       "8153  AMER-2023-140151 2023-03-24   Cameron MacLeod  Canada  Toronto   AMER   \n",
       "\n",
       "     Subregion                Customer           Industry    Segment  \\\n",
       "6826       IND               Coca-Cola  Consumer Products  Strategic   \n",
       "7772     LATAM                Allstate            Finance        SMB   \n",
       "8153     NAMER  Mondelez International  Consumer Products        SMB   \n",
       "\n",
       "              Product      Sales  Quantity  Discount     Profit  \n",
       "6826          Alchemy  17499.950         5       0.0  8399.9760  \n",
       "7772  Big Ol Database   4499.985         5       0.7 -6599.9780  \n",
       "8153          Alchemy  13999.960         4       0.0  6719.9808  "
      ]
     },
     "execution_count": 152,
     "metadata": {},
     "output_type": "execute_result"
    }
   ],
   "source": [
    "data[(data['Profit'] > 6000) | (data['Profit'] < -5000)]"
   ]
  },
  {
   "cell_type": "code",
   "execution_count": 153,
   "metadata": {},
   "outputs": [
    {
     "data": {
      "text/html": [
       "<div>\n",
       "<style scoped>\n",
       "    .dataframe tbody tr th:only-of-type {\n",
       "        vertical-align: middle;\n",
       "    }\n",
       "\n",
       "    .dataframe tbody tr th {\n",
       "        vertical-align: top;\n",
       "    }\n",
       "\n",
       "    .dataframe thead th {\n",
       "        text-align: right;\n",
       "    }\n",
       "</style>\n",
       "<table border=\"1\" class=\"dataframe\">\n",
       "  <thead>\n",
       "    <tr style=\"text-align: right;\">\n",
       "      <th></th>\n",
       "      <th>Customer</th>\n",
       "      <th>Country</th>\n",
       "      <th>Quantity</th>\n",
       "      <th>Sales</th>\n",
       "      <th>Profit</th>\n",
       "    </tr>\n",
       "  </thead>\n",
       "  <tbody>\n",
       "    <tr>\n",
       "      <th>6826</th>\n",
       "      <td>Coca-Cola</td>\n",
       "      <td>India</td>\n",
       "      <td>5</td>\n",
       "      <td>17499.950</td>\n",
       "      <td>8399.9760</td>\n",
       "    </tr>\n",
       "    <tr>\n",
       "      <th>8153</th>\n",
       "      <td>Mondelez International</td>\n",
       "      <td>Canada</td>\n",
       "      <td>4</td>\n",
       "      <td>13999.960</td>\n",
       "      <td>6719.9808</td>\n",
       "    </tr>\n",
       "    <tr>\n",
       "      <th>4190</th>\n",
       "      <td>Lowes</td>\n",
       "      <td>Philippines</td>\n",
       "      <td>3</td>\n",
       "      <td>10499.970</td>\n",
       "      <td>5039.9856</td>\n",
       "    </tr>\n",
       "    <tr>\n",
       "      <th>2623</th>\n",
       "      <td>Trafigura Group</td>\n",
       "      <td>United Kingdom</td>\n",
       "      <td>4</td>\n",
       "      <td>11199.968</td>\n",
       "      <td>3919.9888</td>\n",
       "    </tr>\n",
       "    <tr>\n",
       "      <th>7666</th>\n",
       "      <td>Glencore</td>\n",
       "      <td>Norway</td>\n",
       "      <td>9</td>\n",
       "      <td>5399.910</td>\n",
       "      <td>2591.9568</td>\n",
       "    </tr>\n",
       "    <tr>\n",
       "      <th>8990</th>\n",
       "      <td>BNP Paribas</td>\n",
       "      <td>Poland</td>\n",
       "      <td>7</td>\n",
       "      <td>4899.930</td>\n",
       "      <td>2302.9671</td>\n",
       "    </tr>\n",
       "    <tr>\n",
       "      <th>1644</th>\n",
       "      <td>Humana</td>\n",
       "      <td>Canada</td>\n",
       "      <td>7</td>\n",
       "      <td>3149.930</td>\n",
       "      <td>1480.4671</td>\n",
       "    </tr>\n",
       "    <tr>\n",
       "      <th>5562</th>\n",
       "      <td>American Express</td>\n",
       "      <td>Finland</td>\n",
       "      <td>5</td>\n",
       "      <td>2999.950</td>\n",
       "      <td>1439.9760</td>\n",
       "    </tr>\n",
       "    <tr>\n",
       "      <th>515</th>\n",
       "      <td>FedEx</td>\n",
       "      <td>Netherlands</td>\n",
       "      <td>5</td>\n",
       "      <td>2999.950</td>\n",
       "      <td>1379.9770</td>\n",
       "    </tr>\n",
       "    <tr>\n",
       "      <th>6425</th>\n",
       "      <td>BMW</td>\n",
       "      <td>France</td>\n",
       "      <td>4</td>\n",
       "      <td>8399.976</td>\n",
       "      <td>1119.9968</td>\n",
       "    </tr>\n",
       "    <tr>\n",
       "      <th>3273</th>\n",
       "      <td>Costco Wholesale</td>\n",
       "      <td>United States</td>\n",
       "      <td>6</td>\n",
       "      <td>3359.952</td>\n",
       "      <td>1049.9850</td>\n",
       "    </tr>\n",
       "    <tr>\n",
       "      <th>5710</th>\n",
       "      <td>Sysco</td>\n",
       "      <td>United Kingdom</td>\n",
       "      <td>7</td>\n",
       "      <td>2799.944</td>\n",
       "      <td>1014.9797</td>\n",
       "    </tr>\n",
       "    <tr>\n",
       "      <th>4619</th>\n",
       "      <td>Merck</td>\n",
       "      <td>United States</td>\n",
       "      <td>6</td>\n",
       "      <td>2879.952</td>\n",
       "      <td>1007.9832</td>\n",
       "    </tr>\n",
       "    <tr>\n",
       "      <th>9929</th>\n",
       "      <td>Huawei</td>\n",
       "      <td>United States</td>\n",
       "      <td>5</td>\n",
       "      <td>2799.960</td>\n",
       "      <td>944.9865</td>\n",
       "    </tr>\n",
       "    <tr>\n",
       "      <th>3983</th>\n",
       "      <td>BMW</td>\n",
       "      <td>United States</td>\n",
       "      <td>5</td>\n",
       "      <td>2799.960</td>\n",
       "      <td>944.9865</td>\n",
       "    </tr>\n",
       "    <tr>\n",
       "      <th>6527</th>\n",
       "      <td>Siemens</td>\n",
       "      <td>Norway</td>\n",
       "      <td>4</td>\n",
       "      <td>1999.960</td>\n",
       "      <td>899.9820</td>\n",
       "    </tr>\n",
       "    <tr>\n",
       "      <th>3055</th>\n",
       "      <td>Phillips 66</td>\n",
       "      <td>Australia</td>\n",
       "      <td>5</td>\n",
       "      <td>2799.960</td>\n",
       "      <td>874.9875</td>\n",
       "    </tr>\n",
       "    <tr>\n",
       "      <th>6901</th>\n",
       "      <td>ConocoPhillips</td>\n",
       "      <td>United States</td>\n",
       "      <td>5</td>\n",
       "      <td>2399.960</td>\n",
       "      <td>839.9860</td>\n",
       "    </tr>\n",
       "    <tr>\n",
       "      <th>4639</th>\n",
       "      <td>BMW</td>\n",
       "      <td>Spain</td>\n",
       "      <td>8</td>\n",
       "      <td>1599.920</td>\n",
       "      <td>751.9624</td>\n",
       "    </tr>\n",
       "    <tr>\n",
       "      <th>392</th>\n",
       "      <td>UnitedHealth Group</td>\n",
       "      <td>Canada</td>\n",
       "      <td>3</td>\n",
       "      <td>1799.970</td>\n",
       "      <td>701.9883</td>\n",
       "    </tr>\n",
       "  </tbody>\n",
       "</table>\n",
       "</div>"
      ],
      "text/plain": [
       "                    Customer         Country  Quantity      Sales     Profit\n",
       "6826               Coca-Cola           India         5  17499.950  8399.9760\n",
       "8153  Mondelez International          Canada         4  13999.960  6719.9808\n",
       "4190                   Lowes     Philippines         3  10499.970  5039.9856\n",
       "2623         Trafigura Group  United Kingdom         4  11199.968  3919.9888\n",
       "7666                Glencore          Norway         9   5399.910  2591.9568\n",
       "8990             BNP Paribas          Poland         7   4899.930  2302.9671\n",
       "1644                  Humana          Canada         7   3149.930  1480.4671\n",
       "5562        American Express         Finland         5   2999.950  1439.9760\n",
       "515                    FedEx     Netherlands         5   2999.950  1379.9770\n",
       "6425                     BMW          France         4   8399.976  1119.9968\n",
       "3273        Costco Wholesale   United States         6   3359.952  1049.9850\n",
       "5710                   Sysco  United Kingdom         7   2799.944  1014.9797\n",
       "4619                   Merck   United States         6   2879.952  1007.9832\n",
       "9929                  Huawei   United States         5   2799.960   944.9865\n",
       "3983                     BMW   United States         5   2799.960   944.9865\n",
       "6527                 Siemens          Norway         4   1999.960   899.9820\n",
       "3055             Phillips 66       Australia         5   2799.960   874.9875\n",
       "6901          ConocoPhillips   United States         5   2399.960   839.9860\n",
       "4639                     BMW           Spain         8   1599.920   751.9624\n",
       "392       UnitedHealth Group          Canada         3   1799.970   701.9883"
      ]
     },
     "execution_count": 153,
     "metadata": {},
     "output_type": "execute_result"
    }
   ],
   "source": [
    "data[data['Product'] == 'Alchemy'][['Customer', 'Country', 'Quantity', 'Sales', 'Profit']].sort_values('Profit', ascending= False).head(20)"
   ]
  },
  {
   "cell_type": "markdown",
   "metadata": {},
   "source": [
    "dengan melihat interval profit yang lumayan besar, kita akan melihat dataset pada transaksi yang dilakukan dengan customer ```Coca-Cola``` dan Country ```India```"
   ]
  },
  {
   "cell_type": "code",
   "execution_count": 154,
   "metadata": {},
   "outputs": [
    {
     "data": {
      "text/html": [
       "<div>\n",
       "<style scoped>\n",
       "    .dataframe tbody tr th:only-of-type {\n",
       "        vertical-align: middle;\n",
       "    }\n",
       "\n",
       "    .dataframe tbody tr th {\n",
       "        vertical-align: top;\n",
       "    }\n",
       "\n",
       "    .dataframe thead th {\n",
       "        text-align: right;\n",
       "    }\n",
       "</style>\n",
       "<table border=\"1\" class=\"dataframe\">\n",
       "  <thead>\n",
       "    <tr style=\"text-align: right;\">\n",
       "      <th></th>\n",
       "      <th>Order ID</th>\n",
       "      <th>Order Date</th>\n",
       "      <th>Contact Name</th>\n",
       "      <th>Country</th>\n",
       "      <th>City</th>\n",
       "      <th>Region</th>\n",
       "      <th>Subregion</th>\n",
       "      <th>Customer</th>\n",
       "      <th>Industry</th>\n",
       "      <th>Segment</th>\n",
       "      <th>Product</th>\n",
       "      <th>Sales</th>\n",
       "      <th>Quantity</th>\n",
       "      <th>Discount</th>\n",
       "      <th>Profit</th>\n",
       "    </tr>\n",
       "  </thead>\n",
       "  <tbody>\n",
       "    <tr>\n",
       "      <th>6826</th>\n",
       "      <td>APJ-2022-118689</td>\n",
       "      <td>2022-10-03</td>\n",
       "      <td>Nicholas Skinner</td>\n",
       "      <td>India</td>\n",
       "      <td>Mumbai</td>\n",
       "      <td>APJ</td>\n",
       "      <td>IND</td>\n",
       "      <td>Coca-Cola</td>\n",
       "      <td>Consumer Products</td>\n",
       "      <td>Strategic</td>\n",
       "      <td>Alchemy</td>\n",
       "      <td>17499.95</td>\n",
       "      <td>5</td>\n",
       "      <td>0.0</td>\n",
       "      <td>8399.976</td>\n",
       "    </tr>\n",
       "  </tbody>\n",
       "</table>\n",
       "</div>"
      ],
      "text/plain": [
       "             Order ID Order Date      Contact Name Country    City Region  \\\n",
       "6826  APJ-2022-118689 2022-10-03  Nicholas Skinner   India  Mumbai    APJ   \n",
       "\n",
       "     Subregion   Customer           Industry    Segment  Product     Sales  \\\n",
       "6826       IND  Coca-Cola  Consumer Products  Strategic  Alchemy  17499.95   \n",
       "\n",
       "      Quantity  Discount    Profit  \n",
       "6826         5       0.0  8399.976  "
      ]
     },
     "execution_count": 154,
     "metadata": {},
     "output_type": "execute_result"
    }
   ],
   "source": [
    "data[(data['Customer'] ==  'Coca-Cola')&(data['Product'] == 'Alchemy')].sort_values('Profit', ascending=False).head(20)"
   ]
  },
  {
   "cell_type": "code",
   "execution_count": 155,
   "metadata": {},
   "outputs": [
    {
     "data": {
      "text/html": [
       "<div>\n",
       "<style scoped>\n",
       "    .dataframe tbody tr th:only-of-type {\n",
       "        vertical-align: middle;\n",
       "    }\n",
       "\n",
       "    .dataframe tbody tr th {\n",
       "        vertical-align: top;\n",
       "    }\n",
       "\n",
       "    .dataframe thead th {\n",
       "        text-align: right;\n",
       "    }\n",
       "</style>\n",
       "<table border=\"1\" class=\"dataframe\">\n",
       "  <thead>\n",
       "    <tr style=\"text-align: right;\">\n",
       "      <th></th>\n",
       "      <th>Order ID</th>\n",
       "      <th>Order Date</th>\n",
       "      <th>Contact Name</th>\n",
       "      <th>Country</th>\n",
       "      <th>City</th>\n",
       "      <th>Region</th>\n",
       "      <th>Subregion</th>\n",
       "      <th>Customer</th>\n",
       "      <th>Industry</th>\n",
       "      <th>Segment</th>\n",
       "      <th>Product</th>\n",
       "      <th>Sales</th>\n",
       "      <th>Quantity</th>\n",
       "      <th>Discount</th>\n",
       "      <th>Profit</th>\n",
       "    </tr>\n",
       "  </thead>\n",
       "  <tbody>\n",
       "    <tr>\n",
       "      <th>6826</th>\n",
       "      <td>APJ-2022-118689</td>\n",
       "      <td>2022-10-03</td>\n",
       "      <td>Nicholas Skinner</td>\n",
       "      <td>India</td>\n",
       "      <td>Mumbai</td>\n",
       "      <td>APJ</td>\n",
       "      <td>IND</td>\n",
       "      <td>Coca-Cola</td>\n",
       "      <td>Consumer Products</td>\n",
       "      <td>Strategic</td>\n",
       "      <td>Alchemy</td>\n",
       "      <td>17499.95</td>\n",
       "      <td>5</td>\n",
       "      <td>0.0</td>\n",
       "      <td>8399.9760</td>\n",
       "    </tr>\n",
       "    <tr>\n",
       "      <th>6827</th>\n",
       "      <td>APJ-2022-118689</td>\n",
       "      <td>2022-10-03</td>\n",
       "      <td>Nicholas Skinner</td>\n",
       "      <td>India</td>\n",
       "      <td>Mumbai</td>\n",
       "      <td>APJ</td>\n",
       "      <td>IND</td>\n",
       "      <td>Coca-Cola</td>\n",
       "      <td>Consumer Products</td>\n",
       "      <td>Strategic</td>\n",
       "      <td>ContactMatcher</td>\n",
       "      <td>735.98</td>\n",
       "      <td>2</td>\n",
       "      <td>0.0</td>\n",
       "      <td>331.1910</td>\n",
       "    </tr>\n",
       "    <tr>\n",
       "      <th>4943</th>\n",
       "      <td>APJ-2023-106782</td>\n",
       "      <td>2023-12-22</td>\n",
       "      <td>Ryan Ellison</td>\n",
       "      <td>India</td>\n",
       "      <td>Mumbai</td>\n",
       "      <td>APJ</td>\n",
       "      <td>IND</td>\n",
       "      <td>Coca-Cola</td>\n",
       "      <td>Consumer Products</td>\n",
       "      <td>SMB</td>\n",
       "      <td>Marketing Suite - Gold</td>\n",
       "      <td>375.34</td>\n",
       "      <td>1</td>\n",
       "      <td>0.0</td>\n",
       "      <td>18.7670</td>\n",
       "    </tr>\n",
       "    <tr>\n",
       "      <th>6828</th>\n",
       "      <td>APJ-2022-118689</td>\n",
       "      <td>2022-10-03</td>\n",
       "      <td>Nicholas Skinner</td>\n",
       "      <td>India</td>\n",
       "      <td>Mumbai</td>\n",
       "      <td>APJ</td>\n",
       "      <td>IND</td>\n",
       "      <td>Coca-Cola</td>\n",
       "      <td>Consumer Products</td>\n",
       "      <td>Strategic</td>\n",
       "      <td>ContactMatcher</td>\n",
       "      <td>34.37</td>\n",
       "      <td>7</td>\n",
       "      <td>0.0</td>\n",
       "      <td>16.8413</td>\n",
       "    </tr>\n",
       "    <tr>\n",
       "      <th>6829</th>\n",
       "      <td>APJ-2022-118689</td>\n",
       "      <td>2022-10-03</td>\n",
       "      <td>Nicholas Skinner</td>\n",
       "      <td>India</td>\n",
       "      <td>Mumbai</td>\n",
       "      <td>APJ</td>\n",
       "      <td>IND</td>\n",
       "      <td>Coca-Cola</td>\n",
       "      <td>Consumer Products</td>\n",
       "      <td>Strategic</td>\n",
       "      <td>ChatBot Plugin</td>\n",
       "      <td>33.96</td>\n",
       "      <td>2</td>\n",
       "      <td>0.0</td>\n",
       "      <td>9.5088</td>\n",
       "    </tr>\n",
       "    <tr>\n",
       "      <th>6825</th>\n",
       "      <td>APJ-2022-118689</td>\n",
       "      <td>2022-10-03</td>\n",
       "      <td>Nicholas Skinner</td>\n",
       "      <td>India</td>\n",
       "      <td>Mumbai</td>\n",
       "      <td>APJ</td>\n",
       "      <td>IND</td>\n",
       "      <td>Coca-Cola</td>\n",
       "      <td>Consumer Products</td>\n",
       "      <td>Strategic</td>\n",
       "      <td>Marketing Suite - Gold</td>\n",
       "      <td>32.48</td>\n",
       "      <td>2</td>\n",
       "      <td>0.0</td>\n",
       "      <td>4.8720</td>\n",
       "    </tr>\n",
       "  </tbody>\n",
       "</table>\n",
       "</div>"
      ],
      "text/plain": [
       "             Order ID Order Date      Contact Name Country    City Region  \\\n",
       "6826  APJ-2022-118689 2022-10-03  Nicholas Skinner   India  Mumbai    APJ   \n",
       "6827  APJ-2022-118689 2022-10-03  Nicholas Skinner   India  Mumbai    APJ   \n",
       "4943  APJ-2023-106782 2023-12-22      Ryan Ellison   India  Mumbai    APJ   \n",
       "6828  APJ-2022-118689 2022-10-03  Nicholas Skinner   India  Mumbai    APJ   \n",
       "6829  APJ-2022-118689 2022-10-03  Nicholas Skinner   India  Mumbai    APJ   \n",
       "6825  APJ-2022-118689 2022-10-03  Nicholas Skinner   India  Mumbai    APJ   \n",
       "\n",
       "     Subregion   Customer           Industry    Segment  \\\n",
       "6826       IND  Coca-Cola  Consumer Products  Strategic   \n",
       "6827       IND  Coca-Cola  Consumer Products  Strategic   \n",
       "4943       IND  Coca-Cola  Consumer Products        SMB   \n",
       "6828       IND  Coca-Cola  Consumer Products  Strategic   \n",
       "6829       IND  Coca-Cola  Consumer Products  Strategic   \n",
       "6825       IND  Coca-Cola  Consumer Products  Strategic   \n",
       "\n",
       "                     Product     Sales  Quantity  Discount     Profit  \n",
       "6826                 Alchemy  17499.95         5       0.0  8399.9760  \n",
       "6827          ContactMatcher    735.98         2       0.0   331.1910  \n",
       "4943  Marketing Suite - Gold    375.34         1       0.0    18.7670  \n",
       "6828          ContactMatcher     34.37         7       0.0    16.8413  \n",
       "6829          ChatBot Plugin     33.96         2       0.0     9.5088  \n",
       "6825  Marketing Suite - Gold     32.48         2       0.0     4.8720  "
      ]
     },
     "execution_count": 155,
     "metadata": {},
     "output_type": "execute_result"
    }
   ],
   "source": [
    "data[(data['Customer'] == 'Coca-Cola')&(data['Country'] == 'India')].sort_values('Profit', ascending=False).head(20)"
   ]
  },
  {
   "cell_type": "markdown",
   "metadata": {},
   "source": [
    "dengan melihat filter dataset diatas dapat disimpulkan data terduga anomalies bukan merupakan anomalies karena pada dasarnya product yang dipesan berbeda dan tidak ada ketidaksesuaian Profit dengan sales. selanjutnya kita akan mengecek value terdua anomalies yang ke 2"
   ]
  },
  {
   "cell_type": "code",
   "execution_count": null,
   "metadata": {},
   "outputs": [],
   "source": []
  },
  {
   "cell_type": "markdown",
   "metadata": {},
   "source": [
    "### **Add Usable Variable**"
   ]
  },
  {
   "cell_type": "markdown",
   "metadata": {},
   "source": [
    "Menambah variable Harga satuan setiap Product dengan membagi Sales dengan Quantity"
   ]
  },
  {
   "cell_type": "code",
   "execution_count": 156,
   "metadata": {},
   "outputs": [],
   "source": [
    "data['Price'] = (data['Sales'] / (1-data['Discount']))/data['Quantity']"
   ]
  },
  {
   "cell_type": "markdown",
   "metadata": {},
   "source": [
    "Memisahkan ketegori bulan dan tahun sebagai variabel tersendiri"
   ]
  },
  {
   "cell_type": "code",
   "execution_count": 157,
   "metadata": {},
   "outputs": [],
   "source": [
    "data['Year'] = data['Order Date'].dt.year\n",
    "data['Month'] = data['Order Date'].dt.month"
   ]
  },
  {
   "cell_type": "code",
   "execution_count": 158,
   "metadata": {},
   "outputs": [
    {
     "data": {
      "text/plain": [
       "Year\n",
       "2023    3319\n",
       "2022    2580\n",
       "2021    2102\n",
       "2020    1993\n",
       "Name: count, dtype: int64"
      ]
     },
     "metadata": {},
     "output_type": "display_data"
    },
    {
     "data": {
      "text/plain": [
       "Month\n",
       "11    1462\n",
       "12    1421\n",
       "9     1386\n",
       "10     817\n",
       "5      750\n",
       "8      710\n",
       "6      709\n",
       "7      708\n",
       "3      683\n",
       "4      663\n",
       "1      387\n",
       "2      298\n",
       "Name: count, dtype: int64"
      ]
     },
     "metadata": {},
     "output_type": "display_data"
    }
   ],
   "source": [
    "display(data['Year'].value_counts(), data['Month'].value_counts())"
   ]
  },
  {
   "cell_type": "code",
   "execution_count": 159,
   "metadata": {},
   "outputs": [],
   "source": [
    "data.to_csv('cleanedSaaS.csv')"
   ]
  },
  {
   "cell_type": "code",
   "execution_count": 160,
   "metadata": {},
   "outputs": [
    {
     "data": {
      "text/plain": [
       "'(9994, 18) Raw'"
      ]
     },
     "metadata": {},
     "output_type": "display_data"
    },
    {
     "data": {
      "text/plain": [
       "'(9994, 18) Cleaned'"
      ]
     },
     "metadata": {},
     "output_type": "display_data"
    },
    {
     "data": {
      "text/html": [
       "<div>\n",
       "<style scoped>\n",
       "    .dataframe tbody tr th:only-of-type {\n",
       "        vertical-align: middle;\n",
       "    }\n",
       "\n",
       "    .dataframe tbody tr th {\n",
       "        vertical-align: top;\n",
       "    }\n",
       "\n",
       "    .dataframe thead th {\n",
       "        text-align: right;\n",
       "    }\n",
       "</style>\n",
       "<table border=\"1\" class=\"dataframe\">\n",
       "  <thead>\n",
       "    <tr style=\"text-align: right;\">\n",
       "      <th></th>\n",
       "      <th>feature</th>\n",
       "      <th>data_type</th>\n",
       "      <th>null_value</th>\n",
       "      <th>%null_value</th>\n",
       "      <th>n_unique</th>\n",
       "      <th>unique</th>\n",
       "    </tr>\n",
       "  </thead>\n",
       "  <tbody>\n",
       "    <tr>\n",
       "      <th>0</th>\n",
       "      <td>Order ID</td>\n",
       "      <td>object</td>\n",
       "      <td>0</td>\n",
       "      <td>0.0 %</td>\n",
       "      <td>5009</td>\n",
       "      <td>[EMEA-2022-152156, AMER-2022-138688, EMEA-2021-108966, AMER-2020-115812, EMEA-2023-114412, AMER-2022-161389, APJ-2021-118983, EMEA-2020-105893, EMEA-2020-167164, AMER-2020-143336, AMER-2022-137330, EMEA-2023-156909, EMEA-2021-106320, AMER-2022-121755, EMEA-2021-150630, APJ-2023-107727, APJ-2022-117590, APJ-2021-117415, APJ-2023-120999, AMER-2022-101343, EMEA-2023-139619, EMEA-2022-118255, AMER-2020-146703, APJ-2022-169194, APJ-2021-115742, EMEA-2022-105816, EMEA-2022-111682, AMER-2021-135545, APJ-2021-164175, AMER-2020-106376, EMEA-2022-119823, EMEA-2022-106075, AMER-2023-114440, EMEA-2021-134026, APJ-2023-118038, APJ-2020-147606, EMEA-2022-127208, AMER-2020-139451, EMEA-2021-149734, APJ-2023-119662, AMER-2023-140088, EMEA-2023-155558, APJ-2022-159695, AMER-2022-109806, EMEA-2021-149587, EMEA-2023-109484, EMEA-2023-161018, AMER-2023-157833, EMEA-2022-149223, APJ-2022-158568, EMEA-2022-129903, EMEA-2021-156867, EMEA-2023-119004, APJ-2021-129476, EMEA-2023-146780, EMEA-2022-128867, AMER-2020-115259, AMER-2021-110457, EMEA-2021-136476, APJ-2022-103730, APJ-2020-152030, APJ-2020-134614, AMER-2023-107272, AMER-2022-125969, AMER-2023-164147, AMER-2022-145583, EMEA-2022-110366, AMER-2023-106180, EMEA-2023-155376, AMER-2021-110744, AMER-2020-110072, EMEA-2022-114489, AMER-2022-158834, AMER-2021-124919, AMER-2021-118948, AMER-2020-104269, APJ-2022-114104, AMER-2022-162733, EMEA-2021-119697, APJ-2022-154508, AMER-2022-113817, APJ-2020-139892, AMER-2020-118962, APJ-2020-100853, APJ-2023-152366, AMER-2021-101511, EMEA-2021-137225, APJ-2020-166191, EMEA-2020-158274, EMEA-2022-105018, AMER-2020-123260, APJ-2022-157000, EMEA-2021-102281, AMER-2021-131457, AMER-2020-140004, AMER-2023-107720, EMEA-2023-124303, AMER-2023-105074, EMEA-2020-133690, APJ-2023-116701, ...]</td>\n",
       "    </tr>\n",
       "    <tr>\n",
       "      <th>1</th>\n",
       "      <td>Order Date</td>\n",
       "      <td>datetime64[ns]</td>\n",
       "      <td>0</td>\n",
       "      <td>0.0 %</td>\n",
       "      <td>1237</td>\n",
       "      <td>[2022-11-09 00:00:00, 2022-06-13 00:00:00, 2021-10-11 00:00:00, 2020-06-09 00:00:00, 2023-04-16 00:00:00, 2022-12-06 00:00:00, 2021-11-22 00:00:00, 2020-11-11 00:00:00, 2020-05-13 00:00:00, 2020-08-27 00:00:00, 2022-12-10 00:00:00, 2023-07-17 00:00:00, 2021-09-25 00:00:00, 2022-01-16 00:00:00, 2021-09-17 00:00:00, 2023-10-20 00:00:00, 2022-12-09 00:00:00, 2021-12-27 00:00:00, 2023-09-11 00:00:00, 2022-07-18 00:00:00, 2023-09-20 00:00:00, 2022-03-12 00:00:00, 2020-10-20 00:00:00, 2022-06-21 00:00:00, 2021-04-18 00:00:00, 2022-12-12 00:00:00, 2022-06-18 00:00:00, 2021-11-24 00:00:00, 2021-04-30 00:00:00, 2020-12-05 00:00:00, 2022-06-05 00:00:00, 2022-09-19 00:00:00, 2023-09-15 00:00:00, 2021-04-26 00:00:00, 2023-12-10 00:00:00, 2020-11-26 00:00:00, 2020-10-12 00:00:00, 2021-09-03 00:00:00, 2023-11-14 00:00:00, 2023-05-29 00:00:00, 2023-10-27 00:00:00, 2022-04-06 00:00:00, 2022-09-18 00:00:00, 2021-01-31 00:00:00, 2023-11-07 00:00:00, 2023-11-10 00:00:00, 2023-06-18 00:00:00, 2022-09-07 00:00:00, 2022-08-30 00:00:00, 2022-12-02 00:00:00, 2021-11-13 00:00:00, 2023-11-24 00:00:00, 2021-10-15 00:00:00, 2023-12-26 00:00:00, 2022-11-04 00:00:00, 2020-08-25 00:00:00, 2021-03-02 00:00:00, 2021-04-05 00:00:00, 2020-12-26 00:00:00, 2020-09-20 00:00:00, 2023-11-06 00:00:00, 2022-11-07 00:00:00, 2023-02-03 00:00:00, 2022-10-14 00:00:00, 2022-09-06 00:00:00, 2023-09-19 00:00:00, 2023-12-23 00:00:00, 2021-09-07 00:00:00, 2020-10-22 00:00:00, 2022-03-14 00:00:00, 2021-05-31 00:00:00, 2021-05-28 00:00:00, 2020-03-01 00:00:00, 2022-11-21 00:00:00, 2022-05-12 00:00:00, 2021-12-28 00:00:00, 2022-11-17 00:00:00, 2022-11-08 00:00:00, 2020-09-08 00:00:00, 2020-08-05 00:00:00, 2020-09-14 00:00:00, 2023-04-22 00:00:00, 2021-11-21 00:00:00, 2021-12-15 00:00:00, 2020-11-19 00:00:00, 2022-11-29 00:00:00, 2020-08-26 00:00:00, 2022-07-17 00:00:00, 2021-10-12 00:00:00, 2021-10-31 00:00:00, 2020-03-21 00:00:00, 2023-07-07 00:00:00, 2023-06-25 00:00:00, 2020-08-03 00:00:00, 2023-12-18 00:00:00, 2023-06-04 00:00:00, 2023-12-02 00:00:00, 2021-02-09 00:00:00, 2021-01-02 00:00:00, 2022-10-29 00:00:00, ...]</td>\n",
       "    </tr>\n",
       "    <tr>\n",
       "      <th>2</th>\n",
       "      <td>Contact Name</td>\n",
       "      <td>object</td>\n",
       "      <td>0</td>\n",
       "      <td>0.0 %</td>\n",
       "      <td>793</td>\n",
       "      <td>[Nathan Bell, Deirdre Bailey, Zoe Hodges, Thomas Hodges, Adrian Hunter, Adrian Abraham, Emily Morrison, Claire Welch, Carol Campbell, Blake Hughes, Melanie Sharp, Luke Bower, Jonathan Ferguson, Sam Parsons, Neil Gill, Amelia Campbell, Chloe Short, Jasmine Metcalfe, Karen Mathis, Dylan Dickens, Sophie Lewis, Gavin Mitchell, Katherine Dowd, Harry Brown, Brian Dickens, Joseph Newman, Nicola Howard, Stewart Wilson, Eric McLean, Leah Clarkson, Alison Davidson, Sophie Vance, Anne Lee, Maria Dyer, Julia Ellison, Gordon McLean, Jessica Buckland, Bernadette Nolan, Sonia Ince, William Lewis, Melanie Young, Edward Oliver, Peter Quinn, Max Marshall, Jan Watson, Carol Ball, Gavin Walsh, Penelope Peake, Amy Scott, Carl Jackson, Joe Wallace, Luke Mills, Alexandra Dyer, Rebecca Dickens, Audrey Hardacre, Jennifer Dowd, Natalie Sanderson, Samantha Rampling, Sally Berry, Anthony Clark, Victor Short, Austin Newman, Rose Scott, Tim Morrison, Harry Murray, Dylan Dowd, Angela Parsons, Lisa Oliver, Joseph Duncan, Paul MacDonald, Gordon Graham, Sean Bower, Anthony Sanderson, Stewart Marshall, Joanne Carr, Angela Davies, William Alsop, Owen Watson, Melanie Davidson, Warren Forsyth, Gabrielle Ogden, Justin Randall, Jack Graham, Sophie Henderson, Brian Short, Samantha Lawrence, Una Hudson, Kimberly North, Dylan Ogden, Jonathan Clark, Kevin Vaughan, Madeleine Smith, Diana Ince, Tracey Knox, Michelle McLean, Diana Bell, Jan Clark, Pippa Smith, Rebecca Wilson, Irene Smith, ...]</td>\n",
       "    </tr>\n",
       "    <tr>\n",
       "      <th>3</th>\n",
       "      <td>Country</td>\n",
       "      <td>object</td>\n",
       "      <td>0</td>\n",
       "      <td>0.0 %</td>\n",
       "      <td>48</td>\n",
       "      <td>[Ireland, United States, Germany, Sweden, Canada, Japan, Italy, Turkey, Costa Rica, France, Australia, Luxembourg, Brazil, Philippines, India, United Kingdom, Chile, Spain, South Africa, Portugal, Colombia, Belgium, Russia, Netherlands, Mexico, Poland, Singapore, New Zealand, Czech Republic, Saudi Arabia, Argentina, South Korea, Finland, Israel, Norway, Ukraine, United Arab Emirates, Greece, China, Austria, Indonesia, Egypt, Denmark, Croatia, Taiwan, Qatar, Slovenia, Iceland]</td>\n",
       "    </tr>\n",
       "    <tr>\n",
       "      <th>4</th>\n",
       "      <td>City</td>\n",
       "      <td>object</td>\n",
       "      <td>0</td>\n",
       "      <td>0.0 %</td>\n",
       "      <td>262</td>\n",
       "      <td>[Dublin, New York City, Stuttgart, Stockholm, Toronto, Saitama, Naples, Ankara, Los Angeles, San José, Paris, Istanbul, Tokyo, Aichi, Wollongong, Hanover, Luxembourg, Salvador, Davao City, Kolkata, London, Brighton, Sydney, Puente Alto, Madrid, Rio de Janeiro, Cape Town, Lisboa, Uppsala, Bogotá, Brussels, Moscow, Canberra, The Hague, Mexico City, Manila, Geelong, Santiago, Aurora, Warsaw, Newark, Monterrey, Rome, Chicago, Singapore, Wellington, Osaka, Melbourne, Prague, Riyadh, Raleigh, Providence, Córdoba, Guadalajara, Oklahoma City, Puerto Vallarta, São Paulo, Johannesburg, Cologne, Rochester, Seattle, Detroit, Lafayette, Munich, St Petersburg, Buenos Aires, Mendoza, Leipzig, Jacksonville, Long Beach, Chiba, Incheon, Helsinki, Dhahran, Seoul, Dresden, Vancouver, Adelaide, Tel Aviv, Hordaland, Hamburg, Henderson, Kyiv, Leicester, Malmö, Berlin, Mumbai, Cardiff, Columbus, Fukuoka, Birmingham, Kanagawa, Liverpool, Abu Dhabi, Milwaukee, Yekaterinburg, Krakow, Frankfurt, Porto, Antofagasta, ...]</td>\n",
       "    </tr>\n",
       "    <tr>\n",
       "      <th>5</th>\n",
       "      <td>Region</td>\n",
       "      <td>object</td>\n",
       "      <td>0</td>\n",
       "      <td>0.0 %</td>\n",
       "      <td>3</td>\n",
       "      <td>[EMEA, AMER, APJ]</td>\n",
       "    </tr>\n",
       "    <tr>\n",
       "      <th>6</th>\n",
       "      <td>Subregion</td>\n",
       "      <td>object</td>\n",
       "      <td>0</td>\n",
       "      <td>0.0 %</td>\n",
       "      <td>12</td>\n",
       "      <td>[UKIR, NAMER, EU-WEST, NOR, JAPN, EU, MEA, LATAM, ANZ, APAC, IND, EU-EAST]</td>\n",
       "    </tr>\n",
       "    <tr>\n",
       "      <th>7</th>\n",
       "      <td>Customer</td>\n",
       "      <td>object</td>\n",
       "      <td>0</td>\n",
       "      <td>0.0 %</td>\n",
       "      <td>99</td>\n",
       "      <td>[Chevron, Phillips 66, Royal Dutch Shell, BNP Paribas, Engie, Microsoft, Pfizer, Toyota Motor, Home Depot, Wells Fargo, Carrefour, Costco Wholesale, McKesson, Siemens, Intel, Glencore, Procter &amp; Gamble, Banco Santander, Pemex, Samsung Electronics, Sony, Morgan Stanley, Bank of America Corp., Tesco, Aviva, Mondelez International, Abbott Laboratories, Fannie Mae, Aetna, Oracle, Nissan Motor, Tyson Foods, Verizon Communications, Itochu, Daimler, Walgreens, Boeing, Valero Energy, Nestle, Philip Morris International, Trafigura Group, Walmart, Cisco Systems, Prudential Financial, Amazon, Gazprom, FedEx, Honda Motor, CVS Health, General Motors, State Farm Insurance Cos., Comcast, AmerisourceBergen, Johnson &amp; Johnson, HonHai Precision Industry, American Express, J.P. Morgan Chase &amp; Co., Kroger, Volkswagen, Merck, AT&amp;T, Allstate, BMW, Humana, Sprint Nextel, Allianz, United Parcel Service, Target, Airbus, Cigna, Goldman Sachs Group, Lowes, Ford Motor, Apple, China National Petroleum, ConocoPhillips, Bosch, HSBC Holdings, Enel, Sysco, Marathon Petroleum, UnitedHealth Group, Mitsubishi, Exxon Mobil, Anthem, Petrobras, Lukoil, Coca-Cola, PepsiCo, General Electric, Berkshire Hathaway, Walt Disney, Alphabet, Huawei, News Corp., Caterpillar, Citigroup, Panasonic, Safeway]</td>\n",
       "    </tr>\n",
       "    <tr>\n",
       "      <th>8</th>\n",
       "      <td>Industry</td>\n",
       "      <td>object</td>\n",
       "      <td>0</td>\n",
       "      <td>0.0 %</td>\n",
       "      <td>10</td>\n",
       "      <td>[Energy, Finance, Tech, Healthcare, Manufacturing, Retail, Consumer Products, Misc, Transportation, Communications]</td>\n",
       "    </tr>\n",
       "    <tr>\n",
       "      <th>9</th>\n",
       "      <td>Segment</td>\n",
       "      <td>object</td>\n",
       "      <td>0</td>\n",
       "      <td>0.0 %</td>\n",
       "      <td>3</td>\n",
       "      <td>[SMB, Strategic, Enterprise]</td>\n",
       "    </tr>\n",
       "    <tr>\n",
       "      <th>10</th>\n",
       "      <td>Product</td>\n",
       "      <td>object</td>\n",
       "      <td>0</td>\n",
       "      <td>0.0 %</td>\n",
       "      <td>14</td>\n",
       "      <td>[Marketing Suite, FinanceHub, ContactMatcher, Marketing Suite - Gold, SaaS Connector Pack, ChatBot Plugin, Site Analytics, OneView, Support, Data Smasher, SaaS Connector Pack - Gold, Storage, Big Ol Database, Alchemy]</td>\n",
       "    </tr>\n",
       "    <tr>\n",
       "      <th>11</th>\n",
       "      <td>Sales</td>\n",
       "      <td>float64</td>\n",
       "      <td>0</td>\n",
       "      <td>0.0 %</td>\n",
       "      <td>5825</td>\n",
       "      <td>[261.96, 731.94, 14.62, 957.5775, 22.368, 48.86, 7.28, 907.152, 18.504, 114.9, 1706.184, 911.424, 15.552, 407.976, 68.81, 2.544, 665.88, 55.5, 8.56, 213.48, 22.72, 19.46, 60.34, 71.372, 1044.63, 11.648, 90.57, 3083.43, 9.618, 124.2, 3.264, 86.304, 6.858, 15.76, 29.472, 1097.544, 190.92, 113.328, 532.3992, 212.058, 371.168, 147.168, 77.88, 95.616, 45.98, 17.46, 211.96, 45.0, 21.8, 38.22, 75.18, 6.16, 89.99, 15.26, 1029.95, 208.56, 32.4, 319.41, 14.56, 30.0, 48.48, 1.68, 13.98, 25.824, 146.73, 79.76, 213.115, 1113.024, 167.968, 75.88, 4.616, 19.05, 831.936, 97.04, 72.784, 1.248, 9.708, 27.24, 19.3, 208.16, 16.74, 14.9, 21.39, 200.984, 230.376, 301.96, 19.99, 158.368, 20.1, 73.584, 6.48, 12.96, 53.34, 32.96, 5.682, 96.53, 51.312, 64.624, 95.976, 1.788, ...]</td>\n",
       "    </tr>\n",
       "    <tr>\n",
       "      <th>12</th>\n",
       "      <td>Quantity</td>\n",
       "      <td>int64</td>\n",
       "      <td>0</td>\n",
       "      <td>0.0 %</td>\n",
       "      <td>14</td>\n",
       "      <td>[2, 3, 5, 7, 4, 6, 9, 1, 8, 14, 11, 13, 10, 12]</td>\n",
       "    </tr>\n",
       "    <tr>\n",
       "      <th>13</th>\n",
       "      <td>Discount</td>\n",
       "      <td>float64</td>\n",
       "      <td>0</td>\n",
       "      <td>0.0 %</td>\n",
       "      <td>12</td>\n",
       "      <td>[0.0, 0.45, 0.2, 0.8, 0.3, 0.5, 0.7, 0.6, 0.32, 0.1, 0.4, 0.15]</td>\n",
       "    </tr>\n",
       "    <tr>\n",
       "      <th>14</th>\n",
       "      <td>Profit</td>\n",
       "      <td>float64</td>\n",
       "      <td>0</td>\n",
       "      <td>0.0 %</td>\n",
       "      <td>7287</td>\n",
       "      <td>[41.9136, 219.582, 6.8714, -383.031, 2.5164, 14.1694, 1.9656, 90.7152, 5.7825, 34.47, 85.3092, 68.3568, 5.4432, 132.5922, -123.858, -3.816, 13.3176, 9.99, 2.4824, 16.011, 7.384, 5.0596, 15.6884, -1.0196, 240.2649, 4.2224, 11.7741, -1665.0522, -7.0532, 15.525, 1.1016, 9.7092, -5.715, 3.546, 9.9468, 123.4737, -147.963, 35.415, -46.9764, -15.147, 41.7564, 16.5564, 3.894, 9.5616, 19.7714, 8.2062, 8.4784, 4.95, 6.104, 17.9634, 35.3346, 2.9568, 17.0981, 6.2566, 298.6855, 52.14, 15.552, 7.098, 6.9888, 3.3, 16.362, 0.84, 6.1512, 9.3612, 68.9631, 22.3328, -15.2225, 111.3024, 62.988, 35.6636, 1.731, 8.763, -114.3912, 1.213, -18.196, -1.9344, -5.8248, 2.724, -14.475, 56.2032, 8.0352, 4.172, 6.2031, 62.8075, -48.9549, 33.2156, 6.7966, 13.8572, 6.633, 8.2782, 3.1104, 6.2208, 16.5354, 16.1504, -3.788, 40.5426, 17.9592, 22.5852, 22.6184, -10.7973, ...]</td>\n",
       "    </tr>\n",
       "    <tr>\n",
       "      <th>15</th>\n",
       "      <td>Price</td>\n",
       "      <td>float64</td>\n",
       "      <td>0</td>\n",
       "      <td>0.0 %</td>\n",
       "      <td>2196</td>\n",
       "      <td>[130.98, 243.98000000000002, 7.31, 348.2099999999999, 13.979999999999999, 6.9799999999999995, 1.82, 188.99, 7.71, 22.98, 236.97, 284.82, 6.4799999999999995, 169.98999999999998, 68.81000000000002, 4.240000000000001, 110.98, 27.75, 4.28, 88.94999999999999, 7.1, 2.7800000000000002, 8.620000000000001, 50.980000000000004, 348.21000000000004, 7.279999999999999, 30.189999999999998, 880.9799999999999, 16.029999999999998, 51.75, 2.0399999999999996, 17.98, 3.809999999999999, 9.85, 12.28, 195.99, 95.46, 15.74, 260.98, 100.98, 115.99, 45.99, 38.94, 59.76, 22.99, 8.73, 52.99, 15.0, 10.9, 6.37, 12.530000000000001, 3.08, 89.99, 2.18, 205.99, 34.76, 70.98, 7.28, 15.149999999999999, 1.68, 6.99, 5.38, 48.91, 19.94, 60.89000000000001, 173.90999999999997, 52.489999999999995, 37.94, 5.77, 6.3500000000000005, 129.99, 60.65, 90.98, 2.0800000000000005, 8.09, 11.35, 9.65, 208.16, 5.579999999999999, 2.98, 21.39, 35.89, 95.99, 150.98, 19.99, 28.279999999999998, 6.7, 6.48, 17.78, 16.48, 18.939999999999998, 13.790000000000001, 21.379999999999995, 12.979999999999999, 11.539999999999997, 39.99, 2.9800000000000004, 5.98, 49.76999999999999, 42.65, ...]</td>\n",
       "    </tr>\n",
       "    <tr>\n",
       "      <th>16</th>\n",
       "      <td>Year</td>\n",
       "      <td>int32</td>\n",
       "      <td>0</td>\n",
       "      <td>0.0 %</td>\n",
       "      <td>4</td>\n",
       "      <td>[2022, 2021, 2020, 2023]</td>\n",
       "    </tr>\n",
       "    <tr>\n",
       "      <th>17</th>\n",
       "      <td>Month</td>\n",
       "      <td>int32</td>\n",
       "      <td>0</td>\n",
       "      <td>0.0 %</td>\n",
       "      <td>12</td>\n",
       "      <td>[11, 6, 10, 4, 12, 5, 8, 7, 9, 1, 3, 2]</td>\n",
       "    </tr>\n",
       "  </tbody>\n",
       "</table>\n",
       "</div>"
      ],
      "text/plain": [
       "         feature       data_type  null_value %null_value  n_unique  \\\n",
       "0       Order ID          object           0       0.0 %      5009   \n",
       "1     Order Date  datetime64[ns]           0       0.0 %      1237   \n",
       "2   Contact Name          object           0       0.0 %       793   \n",
       "3        Country          object           0       0.0 %        48   \n",
       "4           City          object           0       0.0 %       262   \n",
       "5         Region          object           0       0.0 %         3   \n",
       "6      Subregion          object           0       0.0 %        12   \n",
       "7       Customer          object           0       0.0 %        99   \n",
       "8       Industry          object           0       0.0 %        10   \n",
       "9        Segment          object           0       0.0 %         3   \n",
       "10       Product          object           0       0.0 %        14   \n",
       "11         Sales         float64           0       0.0 %      5825   \n",
       "12      Quantity           int64           0       0.0 %        14   \n",
       "13      Discount         float64           0       0.0 %        12   \n",
       "14        Profit         float64           0       0.0 %      7287   \n",
       "15         Price         float64           0       0.0 %      2196   \n",
       "16          Year           int32           0       0.0 %         4   \n",
       "17         Month           int32           0       0.0 %        12   \n",
       "\n",
       "                                                                                                                                                                                                                                                                                                                                                                                                                                                                                                                                                                                                                                                                                                                                                                                                                                                                                                                                                                                                                                                                                                                                                                                                                                                                                                                                                                                                                                                                                                                                                                                                                                                                                                                                                                                                                                                                                                                                                                                                                                                                                                                                                                                       unique  \n",
       "0                                                                                                                                                                                                                                                                                                                                        [EMEA-2022-152156, AMER-2022-138688, EMEA-2021-108966, AMER-2020-115812, EMEA-2023-114412, AMER-2022-161389, APJ-2021-118983, EMEA-2020-105893, EMEA-2020-167164, AMER-2020-143336, AMER-2022-137330, EMEA-2023-156909, EMEA-2021-106320, AMER-2022-121755, EMEA-2021-150630, APJ-2023-107727, APJ-2022-117590, APJ-2021-117415, APJ-2023-120999, AMER-2022-101343, EMEA-2023-139619, EMEA-2022-118255, AMER-2020-146703, APJ-2022-169194, APJ-2021-115742, EMEA-2022-105816, EMEA-2022-111682, AMER-2021-135545, APJ-2021-164175, AMER-2020-106376, EMEA-2022-119823, EMEA-2022-106075, AMER-2023-114440, EMEA-2021-134026, APJ-2023-118038, APJ-2020-147606, EMEA-2022-127208, AMER-2020-139451, EMEA-2021-149734, APJ-2023-119662, AMER-2023-140088, EMEA-2023-155558, APJ-2022-159695, AMER-2022-109806, EMEA-2021-149587, EMEA-2023-109484, EMEA-2023-161018, AMER-2023-157833, EMEA-2022-149223, APJ-2022-158568, EMEA-2022-129903, EMEA-2021-156867, EMEA-2023-119004, APJ-2021-129476, EMEA-2023-146780, EMEA-2022-128867, AMER-2020-115259, AMER-2021-110457, EMEA-2021-136476, APJ-2022-103730, APJ-2020-152030, APJ-2020-134614, AMER-2023-107272, AMER-2022-125969, AMER-2023-164147, AMER-2022-145583, EMEA-2022-110366, AMER-2023-106180, EMEA-2023-155376, AMER-2021-110744, AMER-2020-110072, EMEA-2022-114489, AMER-2022-158834, AMER-2021-124919, AMER-2021-118948, AMER-2020-104269, APJ-2022-114104, AMER-2022-162733, EMEA-2021-119697, APJ-2022-154508, AMER-2022-113817, APJ-2020-139892, AMER-2020-118962, APJ-2020-100853, APJ-2023-152366, AMER-2021-101511, EMEA-2021-137225, APJ-2020-166191, EMEA-2020-158274, EMEA-2022-105018, AMER-2020-123260, APJ-2022-157000, EMEA-2021-102281, AMER-2021-131457, AMER-2020-140004, AMER-2023-107720, EMEA-2023-124303, AMER-2023-105074, EMEA-2020-133690, APJ-2023-116701, ...]  \n",
       "1   [2022-11-09 00:00:00, 2022-06-13 00:00:00, 2021-10-11 00:00:00, 2020-06-09 00:00:00, 2023-04-16 00:00:00, 2022-12-06 00:00:00, 2021-11-22 00:00:00, 2020-11-11 00:00:00, 2020-05-13 00:00:00, 2020-08-27 00:00:00, 2022-12-10 00:00:00, 2023-07-17 00:00:00, 2021-09-25 00:00:00, 2022-01-16 00:00:00, 2021-09-17 00:00:00, 2023-10-20 00:00:00, 2022-12-09 00:00:00, 2021-12-27 00:00:00, 2023-09-11 00:00:00, 2022-07-18 00:00:00, 2023-09-20 00:00:00, 2022-03-12 00:00:00, 2020-10-20 00:00:00, 2022-06-21 00:00:00, 2021-04-18 00:00:00, 2022-12-12 00:00:00, 2022-06-18 00:00:00, 2021-11-24 00:00:00, 2021-04-30 00:00:00, 2020-12-05 00:00:00, 2022-06-05 00:00:00, 2022-09-19 00:00:00, 2023-09-15 00:00:00, 2021-04-26 00:00:00, 2023-12-10 00:00:00, 2020-11-26 00:00:00, 2020-10-12 00:00:00, 2021-09-03 00:00:00, 2023-11-14 00:00:00, 2023-05-29 00:00:00, 2023-10-27 00:00:00, 2022-04-06 00:00:00, 2022-09-18 00:00:00, 2021-01-31 00:00:00, 2023-11-07 00:00:00, 2023-11-10 00:00:00, 2023-06-18 00:00:00, 2022-09-07 00:00:00, 2022-08-30 00:00:00, 2022-12-02 00:00:00, 2021-11-13 00:00:00, 2023-11-24 00:00:00, 2021-10-15 00:00:00, 2023-12-26 00:00:00, 2022-11-04 00:00:00, 2020-08-25 00:00:00, 2021-03-02 00:00:00, 2021-04-05 00:00:00, 2020-12-26 00:00:00, 2020-09-20 00:00:00, 2023-11-06 00:00:00, 2022-11-07 00:00:00, 2023-02-03 00:00:00, 2022-10-14 00:00:00, 2022-09-06 00:00:00, 2023-09-19 00:00:00, 2023-12-23 00:00:00, 2021-09-07 00:00:00, 2020-10-22 00:00:00, 2022-03-14 00:00:00, 2021-05-31 00:00:00, 2021-05-28 00:00:00, 2020-03-01 00:00:00, 2022-11-21 00:00:00, 2022-05-12 00:00:00, 2021-12-28 00:00:00, 2022-11-17 00:00:00, 2022-11-08 00:00:00, 2020-09-08 00:00:00, 2020-08-05 00:00:00, 2020-09-14 00:00:00, 2023-04-22 00:00:00, 2021-11-21 00:00:00, 2021-12-15 00:00:00, 2020-11-19 00:00:00, 2022-11-29 00:00:00, 2020-08-26 00:00:00, 2022-07-17 00:00:00, 2021-10-12 00:00:00, 2021-10-31 00:00:00, 2020-03-21 00:00:00, 2023-07-07 00:00:00, 2023-06-25 00:00:00, 2020-08-03 00:00:00, 2023-12-18 00:00:00, 2023-06-04 00:00:00, 2023-12-02 00:00:00, 2021-02-09 00:00:00, 2021-01-02 00:00:00, 2022-10-29 00:00:00, ...]  \n",
       "2                                                                                                                                                                                                                                                                                                                                                                                                                                                                                                                                                                                                                                                             [Nathan Bell, Deirdre Bailey, Zoe Hodges, Thomas Hodges, Adrian Hunter, Adrian Abraham, Emily Morrison, Claire Welch, Carol Campbell, Blake Hughes, Melanie Sharp, Luke Bower, Jonathan Ferguson, Sam Parsons, Neil Gill, Amelia Campbell, Chloe Short, Jasmine Metcalfe, Karen Mathis, Dylan Dickens, Sophie Lewis, Gavin Mitchell, Katherine Dowd, Harry Brown, Brian Dickens, Joseph Newman, Nicola Howard, Stewart Wilson, Eric McLean, Leah Clarkson, Alison Davidson, Sophie Vance, Anne Lee, Maria Dyer, Julia Ellison, Gordon McLean, Jessica Buckland, Bernadette Nolan, Sonia Ince, William Lewis, Melanie Young, Edward Oliver, Peter Quinn, Max Marshall, Jan Watson, Carol Ball, Gavin Walsh, Penelope Peake, Amy Scott, Carl Jackson, Joe Wallace, Luke Mills, Alexandra Dyer, Rebecca Dickens, Audrey Hardacre, Jennifer Dowd, Natalie Sanderson, Samantha Rampling, Sally Berry, Anthony Clark, Victor Short, Austin Newman, Rose Scott, Tim Morrison, Harry Murray, Dylan Dowd, Angela Parsons, Lisa Oliver, Joseph Duncan, Paul MacDonald, Gordon Graham, Sean Bower, Anthony Sanderson, Stewart Marshall, Joanne Carr, Angela Davies, William Alsop, Owen Watson, Melanie Davidson, Warren Forsyth, Gabrielle Ogden, Justin Randall, Jack Graham, Sophie Henderson, Brian Short, Samantha Lawrence, Una Hudson, Kimberly North, Dylan Ogden, Jonathan Clark, Kevin Vaughan, Madeleine Smith, Diana Ince, Tracey Knox, Michelle McLean, Diana Bell, Jan Clark, Pippa Smith, Rebecca Wilson, Irene Smith, ...]  \n",
       "3                                                                                                                                                                                                                                                                                                                                                                                                                                                                                                                                                                                                                                                                                                                                                                                                                                                                                                                                                                                                                                                                                                                                                                                                                                                                                                                                                                                                                                                                                                                                                                                                                                                                                            [Ireland, United States, Germany, Sweden, Canada, Japan, Italy, Turkey, Costa Rica, France, Australia, Luxembourg, Brazil, Philippines, India, United Kingdom, Chile, Spain, South Africa, Portugal, Colombia, Belgium, Russia, Netherlands, Mexico, Poland, Singapore, New Zealand, Czech Republic, Saudi Arabia, Argentina, South Korea, Finland, Israel, Norway, Ukraine, United Arab Emirates, Greece, China, Austria, Indonesia, Egypt, Denmark, Croatia, Taiwan, Qatar, Slovenia, Iceland]  \n",
       "4                                                                                                                                                                                                                                                                                                                                                                                                                                                                                                                                                                                                                                                                                                                                                                                                                                                                                                                                                                                                                                                                                                                                             [Dublin, New York City, Stuttgart, Stockholm, Toronto, Saitama, Naples, Ankara, Los Angeles, San José, Paris, Istanbul, Tokyo, Aichi, Wollongong, Hanover, Luxembourg, Salvador, Davao City, Kolkata, London, Brighton, Sydney, Puente Alto, Madrid, Rio de Janeiro, Cape Town, Lisboa, Uppsala, Bogotá, Brussels, Moscow, Canberra, The Hague, Mexico City, Manila, Geelong, Santiago, Aurora, Warsaw, Newark, Monterrey, Rome, Chicago, Singapore, Wellington, Osaka, Melbourne, Prague, Riyadh, Raleigh, Providence, Córdoba, Guadalajara, Oklahoma City, Puerto Vallarta, São Paulo, Johannesburg, Cologne, Rochester, Seattle, Detroit, Lafayette, Munich, St Petersburg, Buenos Aires, Mendoza, Leipzig, Jacksonville, Long Beach, Chiba, Incheon, Helsinki, Dhahran, Seoul, Dresden, Vancouver, Adelaide, Tel Aviv, Hordaland, Hamburg, Henderson, Kyiv, Leicester, Malmö, Berlin, Mumbai, Cardiff, Columbus, Fukuoka, Birmingham, Kanagawa, Liverpool, Abu Dhabi, Milwaukee, Yekaterinburg, Krakow, Frankfurt, Porto, Antofagasta, ...]  \n",
       "5                                                                                                                                                                                                                                                                                                                                                                                                                                                                                                                                                                                                                                                                                                                                                                                                                                                                                                                                                                                                                                                                                                                                                                                                                                                                                                                                                                                                                                                                                                                                                                                                                                                                                                                                                                                                                                                                                                                                                                                                                                                                                                                                                                           [EMEA, AMER, APJ]  \n",
       "6                                                                                                                                                                                                                                                                                                                                                                                                                                                                                                                                                                                                                                                                                                                                                                                                                                                                                                                                                                                                                                                                                                                                                                                                                                                                                                                                                                                                                                                                                                                                                                                                                                                                                                                                                                                                                                                                                                                                                                                                                                                                                                                  [UKIR, NAMER, EU-WEST, NOR, JAPN, EU, MEA, LATAM, ANZ, APAC, IND, EU-EAST]  \n",
       "7                                                                                                                                                                                                                                                                                                                                                                                                                                                                                                                                                                                                                                                                                                                                                                                                                                                                [Chevron, Phillips 66, Royal Dutch Shell, BNP Paribas, Engie, Microsoft, Pfizer, Toyota Motor, Home Depot, Wells Fargo, Carrefour, Costco Wholesale, McKesson, Siemens, Intel, Glencore, Procter & Gamble, Banco Santander, Pemex, Samsung Electronics, Sony, Morgan Stanley, Bank of America Corp., Tesco, Aviva, Mondelez International, Abbott Laboratories, Fannie Mae, Aetna, Oracle, Nissan Motor, Tyson Foods, Verizon Communications, Itochu, Daimler, Walgreens, Boeing, Valero Energy, Nestle, Philip Morris International, Trafigura Group, Walmart, Cisco Systems, Prudential Financial, Amazon, Gazprom, FedEx, Honda Motor, CVS Health, General Motors, State Farm Insurance Cos., Comcast, AmerisourceBergen, Johnson & Johnson, HonHai Precision Industry, American Express, J.P. Morgan Chase & Co., Kroger, Volkswagen, Merck, AT&T, Allstate, BMW, Humana, Sprint Nextel, Allianz, United Parcel Service, Target, Airbus, Cigna, Goldman Sachs Group, Lowes, Ford Motor, Apple, China National Petroleum, ConocoPhillips, Bosch, HSBC Holdings, Enel, Sysco, Marathon Petroleum, UnitedHealth Group, Mitsubishi, Exxon Mobil, Anthem, Petrobras, Lukoil, Coca-Cola, PepsiCo, General Electric, Berkshire Hathaway, Walt Disney, Alphabet, Huawei, News Corp., Caterpillar, Citigroup, Panasonic, Safeway]  \n",
       "8                                                                                                                                                                                                                                                                                                                                                                                                                                                                                                                                                                                                                                                                                                                                                                                                                                                                                                                                                                                                                                                                                                                                                                                                                                                                                                                                                                                                                                                                                                                                                                                                                                                                                                                                                                                                                                                                                                                                                                                                                                                                         [Energy, Finance, Tech, Healthcare, Manufacturing, Retail, Consumer Products, Misc, Transportation, Communications]  \n",
       "9                                                                                                                                                                                                                                                                                                                                                                                                                                                                                                                                                                                                                                                                                                                                                                                                                                                                                                                                                                                                                                                                                                                                                                                                                                                                                                                                                                                                                                                                                                                                                                                                                                                                                                                                                                                                                                                                                                                                                                                                                                                                                                                                                                [SMB, Strategic, Enterprise]  \n",
       "10                                                                                                                                                                                                                                                                                                                                                                                                                                                                                                                                                                                                                                                                                                                                                                                                                                                                                                                                                                                                                                                                                                                                                                                                                                                                                                                                                                                                                                                                                                                                                                                                                                                                                                                                                                                                                                                                                                                                                                  [Marketing Suite, FinanceHub, ContactMatcher, Marketing Suite - Gold, SaaS Connector Pack, ChatBot Plugin, Site Analytics, OneView, Support, Data Smasher, SaaS Connector Pack - Gold, Storage, Big Ol Database, Alchemy]  \n",
       "11                                                                                                                                                                                                                                                                                                                                                                                                                                                                                                                                                                                                                                                                                                                                                                                                                                                                                                                                                                                                                                                                                                                                                                                                                                                                                                                                                                                               [261.96, 731.94, 14.62, 957.5775, 22.368, 48.86, 7.28, 907.152, 18.504, 114.9, 1706.184, 911.424, 15.552, 407.976, 68.81, 2.544, 665.88, 55.5, 8.56, 213.48, 22.72, 19.46, 60.34, 71.372, 1044.63, 11.648, 90.57, 3083.43, 9.618, 124.2, 3.264, 86.304, 6.858, 15.76, 29.472, 1097.544, 190.92, 113.328, 532.3992, 212.058, 371.168, 147.168, 77.88, 95.616, 45.98, 17.46, 211.96, 45.0, 21.8, 38.22, 75.18, 6.16, 89.99, 15.26, 1029.95, 208.56, 32.4, 319.41, 14.56, 30.0, 48.48, 1.68, 13.98, 25.824, 146.73, 79.76, 213.115, 1113.024, 167.968, 75.88, 4.616, 19.05, 831.936, 97.04, 72.784, 1.248, 9.708, 27.24, 19.3, 208.16, 16.74, 14.9, 21.39, 200.984, 230.376, 301.96, 19.99, 158.368, 20.1, 73.584, 6.48, 12.96, 53.34, 32.96, 5.682, 96.53, 51.312, 64.624, 95.976, 1.788, ...]  \n",
       "12                                                                                                                                                                                                                                                                                                                                                                                                                                                                                                                                                                                                                                                                                                                                                                                                                                                                                                                                                                                                                                                                                                                                                                                                                                                                                                                                                                                                                                                                                                                                                                                                                                                                                                                                                                                                                                                                                                                                                                                                                                                                                                                                            [2, 3, 5, 7, 4, 6, 9, 1, 8, 14, 11, 13, 10, 12]  \n",
       "13                                                                                                                                                                                                                                                                                                                                                                                                                                                                                                                                                                                                                                                                                                                                                                                                                                                                                                                                                                                                                                                                                                                                                                                                                                                                                                                                                                                                                                                                                                                                                                                                                                                                                                                                                                                                                                                                                                                                                                                                                                                                                                                            [0.0, 0.45, 0.2, 0.8, 0.3, 0.5, 0.7, 0.6, 0.32, 0.1, 0.4, 0.15]  \n",
       "14                                                                                                                                                                                                                                                                                                                                                                                                                                                                                                                                                                                                                                                                                                                                                                                                                                                                                                                                                                                                                                                                                                                                                                                                                                                                                                          [41.9136, 219.582, 6.8714, -383.031, 2.5164, 14.1694, 1.9656, 90.7152, 5.7825, 34.47, 85.3092, 68.3568, 5.4432, 132.5922, -123.858, -3.816, 13.3176, 9.99, 2.4824, 16.011, 7.384, 5.0596, 15.6884, -1.0196, 240.2649, 4.2224, 11.7741, -1665.0522, -7.0532, 15.525, 1.1016, 9.7092, -5.715, 3.546, 9.9468, 123.4737, -147.963, 35.415, -46.9764, -15.147, 41.7564, 16.5564, 3.894, 9.5616, 19.7714, 8.2062, 8.4784, 4.95, 6.104, 17.9634, 35.3346, 2.9568, 17.0981, 6.2566, 298.6855, 52.14, 15.552, 7.098, 6.9888, 3.3, 16.362, 0.84, 6.1512, 9.3612, 68.9631, 22.3328, -15.2225, 111.3024, 62.988, 35.6636, 1.731, 8.763, -114.3912, 1.213, -18.196, -1.9344, -5.8248, 2.724, -14.475, 56.2032, 8.0352, 4.172, 6.2031, 62.8075, -48.9549, 33.2156, 6.7966, 13.8572, 6.633, 8.2782, 3.1104, 6.2208, 16.5354, 16.1504, -3.788, 40.5426, 17.9592, 22.5852, 22.6184, -10.7973, ...]  \n",
       "15                                                                                                                                                                                                                                                                                                                                                                                                                                                                                                                                                                                                                                                                                                                                                                                                                                                                                                                                                                                                          [130.98, 243.98000000000002, 7.31, 348.2099999999999, 13.979999999999999, 6.9799999999999995, 1.82, 188.99, 7.71, 22.98, 236.97, 284.82, 6.4799999999999995, 169.98999999999998, 68.81000000000002, 4.240000000000001, 110.98, 27.75, 4.28, 88.94999999999999, 7.1, 2.7800000000000002, 8.620000000000001, 50.980000000000004, 348.21000000000004, 7.279999999999999, 30.189999999999998, 880.9799999999999, 16.029999999999998, 51.75, 2.0399999999999996, 17.98, 3.809999999999999, 9.85, 12.28, 195.99, 95.46, 15.74, 260.98, 100.98, 115.99, 45.99, 38.94, 59.76, 22.99, 8.73, 52.99, 15.0, 10.9, 6.37, 12.530000000000001, 3.08, 89.99, 2.18, 205.99, 34.76, 70.98, 7.28, 15.149999999999999, 1.68, 6.99, 5.38, 48.91, 19.94, 60.89000000000001, 173.90999999999997, 52.489999999999995, 37.94, 5.77, 6.3500000000000005, 129.99, 60.65, 90.98, 2.0800000000000005, 8.09, 11.35, 9.65, 208.16, 5.579999999999999, 2.98, 21.39, 35.89, 95.99, 150.98, 19.99, 28.279999999999998, 6.7, 6.48, 17.78, 16.48, 18.939999999999998, 13.790000000000001, 21.379999999999995, 12.979999999999999, 11.539999999999997, 39.99, 2.9800000000000004, 5.98, 49.76999999999999, 42.65, ...]  \n",
       "16                                                                                                                                                                                                                                                                                                                                                                                                                                                                                                                                                                                                                                                                                                                                                                                                                                                                                                                                                                                                                                                                                                                                                                                                                                                                                                                                                                                                                                                                                                                                                                                                                                                                                                                                                                                                                                                                                                                                                                                                                                                                                                                                                                   [2022, 2021, 2020, 2023]  \n",
       "17                                                                                                                                                                                                                                                                                                                                                                                                                                                                                                                                                                                                                                                                                                                                                                                                                                                                                                                                                                                                                                                                                                                                                                                                                                                                                                                                                                                                                                                                                                                                                                                                                                                                                                                                                                                                                                                                                                                                                                                                                                                                                                                                                    [11, 6, 10, 4, 12, 5, 8, 7, 9, 1, 3, 2]  "
      ]
     },
     "metadata": {},
     "output_type": "display_data"
    }
   ],
   "source": [
    "check(data)"
   ]
  },
  {
   "cell_type": "markdown",
   "metadata": {},
   "source": [
    "# **Analysis**"
   ]
  },
  {
   "cell_type": "markdown",
   "metadata": {},
   "source": [
    "## **1. Korelasi Antar Variabel**"
   ]
  },
  {
   "cell_type": "markdown",
   "metadata": {},
   "source": [
    "Pertama kita akan melakukan `korelasi` terhadap fitur numerical, sekaligus sebagai faktor utama dalam transaksi. Tujuan melakukan korelasi adalah untuk mengetahui `pengaruh satu variabel terhadap variabel lainnya`, sehingga dapat memberi arah analisis selanjutnya."
   ]
  },
  {
   "cell_type": "code",
   "execution_count": 161,
   "metadata": {},
   "outputs": [
    {
     "data": {
      "text/plain": [
       "Index(['Order ID', 'Order Date', 'Contact Name', 'Country', 'City', 'Region',\n",
       "       'Subregion', 'Customer', 'Industry', 'Segment', 'Product', 'Sales',\n",
       "       'Quantity', 'Discount', 'Profit', 'Price', 'Year', 'Month'],\n",
       "      dtype='object')"
      ]
     },
     "execution_count": 161,
     "metadata": {},
     "output_type": "execute_result"
    }
   ],
   "source": [
    "data.columns"
   ]
  },
  {
   "cell_type": "code",
   "execution_count": 162,
   "metadata": {},
   "outputs": [
    {
     "data": {
      "text/html": [
       "<div>\n",
       "<style scoped>\n",
       "    .dataframe tbody tr th:only-of-type {\n",
       "        vertical-align: middle;\n",
       "    }\n",
       "\n",
       "    .dataframe tbody tr th {\n",
       "        vertical-align: top;\n",
       "    }\n",
       "\n",
       "    .dataframe thead th {\n",
       "        text-align: right;\n",
       "    }\n",
       "</style>\n",
       "<table border=\"1\" class=\"dataframe\">\n",
       "  <thead>\n",
       "    <tr style=\"text-align: right;\">\n",
       "      <th></th>\n",
       "      <th>Sales</th>\n",
       "      <th>Quantity</th>\n",
       "      <th>Discount</th>\n",
       "      <th>Profit</th>\n",
       "      <th>Price</th>\n",
       "    </tr>\n",
       "  </thead>\n",
       "  <tbody>\n",
       "    <tr>\n",
       "      <th>Sales</th>\n",
       "      <td>1.000000</td>\n",
       "      <td>0.200795</td>\n",
       "      <td>-0.028190</td>\n",
       "      <td>0.479064</td>\n",
       "      <td>0.856567</td>\n",
       "    </tr>\n",
       "    <tr>\n",
       "      <th>Quantity</th>\n",
       "      <td>0.200795</td>\n",
       "      <td>1.000000</td>\n",
       "      <td>0.008623</td>\n",
       "      <td>0.066253</td>\n",
       "      <td>0.000435</td>\n",
       "    </tr>\n",
       "    <tr>\n",
       "      <th>Discount</th>\n",
       "      <td>-0.028190</td>\n",
       "      <td>0.008623</td>\n",
       "      <td>1.000000</td>\n",
       "      <td>-0.219487</td>\n",
       "      <td>0.072989</td>\n",
       "    </tr>\n",
       "    <tr>\n",
       "      <th>Profit</th>\n",
       "      <td>0.479064</td>\n",
       "      <td>0.066253</td>\n",
       "      <td>-0.219487</td>\n",
       "      <td>1.000000</td>\n",
       "      <td>0.204591</td>\n",
       "    </tr>\n",
       "    <tr>\n",
       "      <th>Price</th>\n",
       "      <td>0.856567</td>\n",
       "      <td>0.000435</td>\n",
       "      <td>0.072989</td>\n",
       "      <td>0.204591</td>\n",
       "      <td>1.000000</td>\n",
       "    </tr>\n",
       "  </tbody>\n",
       "</table>\n",
       "</div>"
      ],
      "text/plain": [
       "             Sales  Quantity  Discount    Profit     Price\n",
       "Sales     1.000000  0.200795 -0.028190  0.479064  0.856567\n",
       "Quantity  0.200795  1.000000  0.008623  0.066253  0.000435\n",
       "Discount -0.028190  0.008623  1.000000 -0.219487  0.072989\n",
       "Profit    0.479064  0.066253 -0.219487  1.000000  0.204591\n",
       "Price     0.856567  0.000435  0.072989  0.204591  1.000000"
      ]
     },
     "execution_count": 162,
     "metadata": {},
     "output_type": "execute_result"
    }
   ],
   "source": [
    "num = data[['Sales', 'Quantity', 'Discount', 'Profit', 'Price']].corr()\n",
    "num"
   ]
  },
  {
   "cell_type": "code",
   "execution_count": 163,
   "metadata": {},
   "outputs": [
    {
     "data": {
      "text/plain": [
       "Text(0.5, 1.0, 'matrik korelasi fitur numerikal')"
      ]
     },
     "execution_count": 163,
     "metadata": {},
     "output_type": "execute_result"
    },
    {
     "data": {
      "image/png": "[encoded data removed]",
      "text/plain": [
       "<Figure size 1200x800 with 2 Axes>"
      ]
     },
     "metadata": {},
     "output_type": "display_data"
    }
   ],
   "source": [
    "plt.figure(figsize=(12, 8))\n",
    "sns.heatmap(num, annot=True)\n",
    "plt.xticks(range(num.shape[1]), num.columns, fontsize=14) # label x\n",
    "plt.yticks(range(num.shape[1]), num.columns, fontsize=14) # label y\n",
    "plt.title('matrik korelasi fitur numerikal', fontsize=14)"
   ]
  },
  {
   "cell_type": "markdown",
   "metadata": {},
   "source": [
    "| Nilai Korelasi | Kekuatan Hubungan |\n",
    "|----------------|-------------------|\n",
    "| 0.00 - 0.19    | Sangat Lemah      |\n",
    "| 0.20 - 0.39    | Lemah             |\n",
    "| 0.40 - 0.59    | Sedang            |\n",
    "| 0.60 - 0.79    | Kuat              |\n",
    "| 0.80 - 1.00    | Sangat Kuat       |\n",
    "\n",
    "Berdasarkan tabel kekuatan hubungan diatas dapat disimpulkan:\n",
    "\n",
    "1. Sales & Quantity (0.2) : memiliki hubungan positif yang `lemah`\n",
    "    - jika nilai Quantity naik, maka nilai Sales juga naik. Begitupun sebaliknya\n",
    "1. Sales & Diskon (-0.028) : memiliki hubungan negatif yang `sangat lemah`\n",
    "    - jika nilai Diskon naik, maka nilai Sales menjadi turun. Begitupun sebaliknya\n",
    "1. Sales & Profit (0.48) : memiliki hubungan positif yang `sedang`\n",
    "    - jika nilai Sales naik, maka nilai Profit juga naik. Begitupun sebaliknya\n",
    "1. Sales & Price (0.86) : memiliki hubungan positif yang `sangat kuat`\n",
    "    - jika nilai Price naik, maka nilai Sales juga naik. Begitupun sebaliknya\n",
    "1. Quantity & Diskon (0.0086) : memiliki hubungan positif yang `sangat lemah`\n",
    "    - jika nilai Quantity naik, maka nilai Diskon juga naik. Begitupun sebaliknya\n",
    "1. Quantity & Profit (0.066) : memiliki hubungan positif yang `sangat lemah`\n",
    "    - jika nilai Quantity naik, maka nilai Profit juga naik. Begitupun sebaliknya\n",
    "1. Quantity & Price (0.00044) : memiliki hubungan positif yang `sangat lemah`\n",
    "    - jika nilai Quantity naik, maka nilai Price juga naik. Begitupun sebaliknya\n",
    "1. Diskon & Profit (-0.22) : memiliki hubungan negatif yang `lemah`\n",
    "    - jika nilai Diskon naik, maka nilai Profit menjadi turun. Begitupun sebaliknya\n",
    "1. Diskon & Price (0.073) : memiliki hubungan negatif yang `sangat lemah`\n",
    "    - jika nilai Price naik, maka nilai Diskon juga naik. Begitupun sebaliknya\n",
    "1. Profit & Price (0.2) : memiliki hubungan positif yang `lemah`\n",
    "    - jika nilai Price naik, maka nilai Profit juga naik. Begitupun sebaliknya"
   ]
  },
  {
   "cell_type": "markdown",
   "metadata": {},
   "source": [
    "## **2. Pengaruh Product**"
   ]
  },
  {
   "cell_type": "markdown",
   "metadata": {},
   "source": [
    "#### Jumlah Product"
   ]
  },
  {
   "cell_type": "markdown",
   "metadata": {},
   "source": [
    "Pertama kita akan melihat jumlah product yang ada dalam dataset ini"
   ]
  },
  {
   "cell_type": "code",
   "execution_count": 164,
   "metadata": {},
   "outputs": [
    {
     "data": {
      "text/plain": [
       "'Jumlah Product dalam Dataset ini sebanyak 14 Product'"
      ]
     },
     "metadata": {},
     "output_type": "display_data"
    },
    {
     "data": {
      "text/html": [
       "<div>\n",
       "<style scoped>\n",
       "    .dataframe tbody tr th:only-of-type {\n",
       "        vertical-align: middle;\n",
       "    }\n",
       "\n",
       "    .dataframe tbody tr th {\n",
       "        vertical-align: top;\n",
       "    }\n",
       "\n",
       "    .dataframe thead th {\n",
       "        text-align: right;\n",
       "    }\n",
       "</style>\n",
       "<table border=\"1\" class=\"dataframe\">\n",
       "  <thead>\n",
       "    <tr style=\"text-align: right;\">\n",
       "      <th></th>\n",
       "      <th>Product</th>\n",
       "      <th>Jumlah Transaksi</th>\n",
       "    </tr>\n",
       "  </thead>\n",
       "  <tbody>\n",
       "    <tr>\n",
       "      <th>0</th>\n",
       "      <td>ContactMatcher</td>\n",
       "      <td>1842</td>\n",
       "    </tr>\n",
       "    <tr>\n",
       "      <th>1</th>\n",
       "      <td>Support</td>\n",
       "      <td>1560</td>\n",
       "    </tr>\n",
       "    <tr>\n",
       "      <th>2</th>\n",
       "      <td>FinanceHub</td>\n",
       "      <td>981</td>\n",
       "    </tr>\n",
       "    <tr>\n",
       "      <th>3</th>\n",
       "      <td>SaaS Connector Pack</td>\n",
       "      <td>957</td>\n",
       "    </tr>\n",
       "    <tr>\n",
       "      <th>4</th>\n",
       "      <td>Site Analytics</td>\n",
       "      <td>889</td>\n",
       "    </tr>\n",
       "    <tr>\n",
       "      <th>5</th>\n",
       "      <td>Marketing Suite - Gold</td>\n",
       "      <td>846</td>\n",
       "    </tr>\n",
       "    <tr>\n",
       "      <th>6</th>\n",
       "      <td>ChatBot Plugin</td>\n",
       "      <td>796</td>\n",
       "    </tr>\n",
       "    <tr>\n",
       "      <th>7</th>\n",
       "      <td>Data Smasher</td>\n",
       "      <td>775</td>\n",
       "    </tr>\n",
       "    <tr>\n",
       "      <th>8</th>\n",
       "      <td>OneView</td>\n",
       "      <td>466</td>\n",
       "    </tr>\n",
       "    <tr>\n",
       "      <th>9</th>\n",
       "      <td>SaaS Connector Pack - Gold</td>\n",
       "      <td>254</td>\n",
       "    </tr>\n",
       "    <tr>\n",
       "      <th>10</th>\n",
       "      <td>Marketing Suite</td>\n",
       "      <td>228</td>\n",
       "    </tr>\n",
       "    <tr>\n",
       "      <th>11</th>\n",
       "      <td>Storage</td>\n",
       "      <td>217</td>\n",
       "    </tr>\n",
       "    <tr>\n",
       "      <th>12</th>\n",
       "      <td>Big Ol Database</td>\n",
       "      <td>115</td>\n",
       "    </tr>\n",
       "    <tr>\n",
       "      <th>13</th>\n",
       "      <td>Alchemy</td>\n",
       "      <td>68</td>\n",
       "    </tr>\n",
       "  </tbody>\n",
       "</table>\n",
       "</div>"
      ],
      "text/plain": [
       "                       Product  Jumlah Transaksi\n",
       "0               ContactMatcher              1842\n",
       "1                      Support              1560\n",
       "2                   FinanceHub               981\n",
       "3          SaaS Connector Pack               957\n",
       "4               Site Analytics               889\n",
       "5       Marketing Suite - Gold               846\n",
       "6               ChatBot Plugin               796\n",
       "7                 Data Smasher               775\n",
       "8                      OneView               466\n",
       "9   SaaS Connector Pack - Gold               254\n",
       "10             Marketing Suite               228\n",
       "11                     Storage               217\n",
       "12             Big Ol Database               115\n",
       "13                     Alchemy                68"
      ]
     },
     "metadata": {},
     "output_type": "display_data"
    }
   ],
   "source": [
    "jumlahproduct = data['Product'].value_counts().reset_index(name='Jumlah Transaksi')\n",
    "display(f'Jumlah Product dalam Dataset ini sebanyak {len(jumlahproduct)} Product', jumlahproduct)"
   ]
  },
  {
   "cell_type": "markdown",
   "metadata": {},
   "source": [
    "#### Jumlah Transaksi setiap Product"
   ]
  },
  {
   "cell_type": "code",
   "execution_count": 165,
   "metadata": {},
   "outputs": [
    {
     "data": {
      "image/png": "[encoded data removed]",
      "text/plain": [
       "<Figure size 640x480 with 1 Axes>"
      ]
     },
     "metadata": {},
     "output_type": "display_data"
    }
   ],
   "source": [
    "jumlahtransaksi = sns.barplot(y = jumlahproduct['Product'], x = jumlahproduct['Jumlah Transaksi'])\n",
    "jumlahtransaksi.bar_label(jumlahtransaksi.containers[0])\n",
    "plt.show()"
   ]
  },
  {
   "cell_type": "markdown",
   "metadata": {},
   "source": [
    "Insight:\n",
    "- Terdapat 14 product dalam dataset ini\n",
    "- `ContactMatcher` merupakan produk paling laku berdasarkan jumlah transaksi\n",
    "- `Alchemy` merupakan produck paling tidak laku berdasarkan jumlah transaksi\n",
    "- rentang Total transaksi antar produk bisa dikatakan sangat jauh, yaitu terpaut 1842 - 68 = 1774 transaksi\n",
    "- Kita dapat membagi ke dalam 3 kategori berdasarkan jumlah transaksi:\n",
    "    - High sales product: ContactMatcher & Support.\n",
    "    - Medium sales product: FinanceHub, SaaS Connector Pack, Site Analytics, Marketing Suite - Gold, ChatBot Plugin dan Data Smasher.\n",
    "    - Low sales product: SaaS Connector Pack - Gold, Marketing Suite, Storage, Big OL Database, Alchemy\n",
    "\n",
    "Kesimpulan:\n",
    "- Product dengan prospek pertumbuhan tinggi berdasarkan jumlah transaksi adalah `ContactMatcher`\n",
    "- Product yang rendah berdasarkan jumlah transaksi adalah `Alchemy`\n",
    "\n",
    "Selanjutny kita akan cari most benefit product berdasarkan profit sekaligus menampilkan sales setiap transaksi."
   ]
  },
  {
   "cell_type": "markdown",
   "metadata": {},
   "source": [
    "#### Total Keuntungan Setiap Product"
   ]
  },
  {
   "cell_type": "markdown",
   "metadata": {},
   "source": [
    "Kita akan melihat `total keuntungan` setiap product lalu diiringi dengan `total salesnya` dengan tujuan untuk mengecek korelasi yang sudak dilakukan sebelumnya"
   ]
  },
  {
   "cell_type": "code",
   "execution_count": 166,
   "metadata": {},
   "outputs": [
    {
     "data": {
      "text/html": [
       "<div>\n",
       "<style scoped>\n",
       "    .dataframe tbody tr th:only-of-type {\n",
       "        vertical-align: middle;\n",
       "    }\n",
       "\n",
       "    .dataframe tbody tr th {\n",
       "        vertical-align: top;\n",
       "    }\n",
       "\n",
       "    .dataframe thead th {\n",
       "        text-align: right;\n",
       "    }\n",
       "</style>\n",
       "<table border=\"1\" class=\"dataframe\">\n",
       "  <thead>\n",
       "    <tr style=\"text-align: right;\">\n",
       "      <th></th>\n",
       "      <th>Product</th>\n",
       "      <th>Sales</th>\n",
       "      <th>Profit</th>\n",
       "    </tr>\n",
       "  </thead>\n",
       "  <tbody>\n",
       "    <tr>\n",
       "      <th>0</th>\n",
       "      <td>Alchemy</td>\n",
       "      <td>149528.0300</td>\n",
       "      <td>55617.8249</td>\n",
       "    </tr>\n",
       "    <tr>\n",
       "      <th>1</th>\n",
       "      <td>Site Analytics</td>\n",
       "      <td>330007.0540</td>\n",
       "      <td>44515.7306</td>\n",
       "    </tr>\n",
       "    <tr>\n",
       "      <th>2</th>\n",
       "      <td>Data Smasher</td>\n",
       "      <td>167380.3180</td>\n",
       "      <td>41936.6357</td>\n",
       "    </tr>\n",
       "    <tr>\n",
       "      <th>3</th>\n",
       "      <td>Support</td>\n",
       "      <td>125152.7440</td>\n",
       "      <td>32864.4698</td>\n",
       "    </tr>\n",
       "    <tr>\n",
       "      <th>4</th>\n",
       "      <td>FinanceHub</td>\n",
       "      <td>340935.4150</td>\n",
       "      <td>32136.4203</td>\n",
       "    </tr>\n",
       "    <tr>\n",
       "      <th>5</th>\n",
       "      <td>Marketing Suite - Gold</td>\n",
       "      <td>223843.6080</td>\n",
       "      <td>21278.8264</td>\n",
       "    </tr>\n",
       "    <tr>\n",
       "      <th>6</th>\n",
       "      <td>OneView</td>\n",
       "      <td>107532.1610</td>\n",
       "      <td>18138.0054</td>\n",
       "    </tr>\n",
       "    <tr>\n",
       "      <th>7</th>\n",
       "      <td>SaaS Connector Pack</td>\n",
       "      <td>91705.1640</td>\n",
       "      <td>13059.1436</td>\n",
       "    </tr>\n",
       "    <tr>\n",
       "      <th>8</th>\n",
       "      <td>ContactMatcher</td>\n",
       "      <td>410378.2650</td>\n",
       "      <td>12496.2822</td>\n",
       "    </tr>\n",
       "    <tr>\n",
       "      <th>9</th>\n",
       "      <td>SaaS Connector Pack - Gold</td>\n",
       "      <td>16476.4020</td>\n",
       "      <td>6964.1767</td>\n",
       "    </tr>\n",
       "    <tr>\n",
       "      <th>10</th>\n",
       "      <td>ChatBot Plugin</td>\n",
       "      <td>27118.7920</td>\n",
       "      <td>6527.7870</td>\n",
       "    </tr>\n",
       "    <tr>\n",
       "      <th>11</th>\n",
       "      <td>Big Ol Database</td>\n",
       "      <td>189238.6310</td>\n",
       "      <td>3384.7569</td>\n",
       "    </tr>\n",
       "    <tr>\n",
       "      <th>12</th>\n",
       "      <td>Storage</td>\n",
       "      <td>3024.2800</td>\n",
       "      <td>949.5182</td>\n",
       "    </tr>\n",
       "    <tr>\n",
       "      <th>13</th>\n",
       "      <td>Marketing Suite</td>\n",
       "      <td>114879.9963</td>\n",
       "      <td>-3472.5560</td>\n",
       "    </tr>\n",
       "  </tbody>\n",
       "</table>\n",
       "</div>"
      ],
      "text/plain": [
       "                       Product        Sales      Profit\n",
       "0                      Alchemy  149528.0300  55617.8249\n",
       "1               Site Analytics  330007.0540  44515.7306\n",
       "2                 Data Smasher  167380.3180  41936.6357\n",
       "3                      Support  125152.7440  32864.4698\n",
       "4                   FinanceHub  340935.4150  32136.4203\n",
       "5       Marketing Suite - Gold  223843.6080  21278.8264\n",
       "6                      OneView  107532.1610  18138.0054\n",
       "7          SaaS Connector Pack   91705.1640  13059.1436\n",
       "8               ContactMatcher  410378.2650  12496.2822\n",
       "9   SaaS Connector Pack - Gold   16476.4020   6964.1767\n",
       "10              ChatBot Plugin   27118.7920   6527.7870\n",
       "11             Big Ol Database  189238.6310   3384.7569\n",
       "12                     Storage    3024.2800    949.5182\n",
       "13             Marketing Suite  114879.9963  -3472.5560"
      ]
     },
     "execution_count": 166,
     "metadata": {},
     "output_type": "execute_result"
    }
   ],
   "source": [
    "mostbenefit_product = data.groupby('Product').agg({'Sales': 'sum', 'Profit': 'sum'}).sort_values('Profit', ascending=False).reset_index()\n",
    "mostbenefit_product"
   ]
  },
  {
   "cell_type": "code",
   "execution_count": 167,
   "metadata": {},
   "outputs": [
    {
     "data": {
      "image/png": "[encoded data removed]",
      "text/plain": [
       "<Figure size 1500x800 with 1 Axes>"
      ]
     },
     "metadata": {},
     "output_type": "display_data"
    }
   ],
   "source": [
    "plt.figure(figsize=(15, 8))\n",
    "sales = sns.barplot(x= 'Sales', y= 'Product', data = mostbenefit_product, color= 'blue', label= 'Sales', dodge= False)\n",
    "sales.bar_label(sales.containers[0], padding= 20)\n",
    "\n",
    "profit = sns.barplot(x= 'Profit', y= 'Product', data = mostbenefit_product, color= 'Orange', label= 'Profit', dodge= False)\n",
    "profit.bar_label(profit.containers[1], label_type='center')\n",
    "plt.legend()\n",
    "\n",
    "plt.show()"
   ]
  },
  {
   "cell_type": "markdown",
   "metadata": {},
   "source": [
    "Insights:\n",
    "\n",
    "- Sesuai dengan korelasi yang dilakukan sebelumnya, bahwa Sales dan Profit memiliki hubungan positif (satu arah) yang menengah. karena tidak sepenuhnya ketika Sales naik, Profit juga naik\n",
    "- Alchemy merupakan product yang paling berkontribusi terhadap total keuntungan. Terlebih lagi bahwa sesuai analisis sebelumnya Alchemy merupakan product dengan `jumlah transaksi paling sedikit` namun dapat mencapai `profit tertinggi`.\n",
    "- ContactMather yang memiliki sales tertinggi sesuai dengan jumlah transaksinya yang juga sebagai product paling banyak ditransaksikan. Namun ContactMatcher memiliki profit yang sangat rendah walaupun Salenya merupakan yang paling tinggi\n",
    "- Marketing Suite merupakan product yang memiliki profit minus. namun, dalam sales tidak merupakan yang terendah\n",
    "- Storage merupakan product yang memiliki sales paling sedikit sekaligus profit paling sedikit yang tidak minus\n",
    "\n",
    "Kesimpulan:\n",
    "- Product dengan prospek pertumbuhan tinggi berdasarkan Sales adalah `ContactMatcher`\n",
    "- Product dengan prospek pertumbuhan tinggi berdasarkan Profit adalah `Alchemy`\n",
    "- Product dengan keuntungan Minus adalah `Marketing Suite`\n",
    "- Product dengan keuntungan terendah adalah `Storage`\n",
    "\n",
    "Selanjutnya kita akan melihat keuntungan berdasarkan perbandingan `total keuntungan` dan `total penjualan`"
   ]
  },
  {
   "cell_type": "markdown",
   "metadata": {},
   "source": [
    "#### Ratio Total Keuntungan dan Total Penjualan setiap Product"
   ]
  },
  {
   "cell_type": "code",
   "execution_count": 168,
   "metadata": {},
   "outputs": [
    {
     "data": {
      "text/html": [
       "<div>\n",
       "<style scoped>\n",
       "    .dataframe tbody tr th:only-of-type {\n",
       "        vertical-align: middle;\n",
       "    }\n",
       "\n",
       "    .dataframe tbody tr th {\n",
       "        vertical-align: top;\n",
       "    }\n",
       "\n",
       "    .dataframe thead th {\n",
       "        text-align: right;\n",
       "    }\n",
       "</style>\n",
       "<table border=\"1\" class=\"dataframe\">\n",
       "  <thead>\n",
       "    <tr style=\"text-align: right;\">\n",
       "      <th></th>\n",
       "      <th>Product</th>\n",
       "      <th>profitSales_ratio</th>\n",
       "    </tr>\n",
       "  </thead>\n",
       "  <tbody>\n",
       "    <tr>\n",
       "      <th>9</th>\n",
       "      <td>SaaS Connector Pack - Gold</td>\n",
       "      <td>42.267582</td>\n",
       "    </tr>\n",
       "    <tr>\n",
       "      <th>0</th>\n",
       "      <td>Alchemy</td>\n",
       "      <td>37.195585</td>\n",
       "    </tr>\n",
       "    <tr>\n",
       "      <th>12</th>\n",
       "      <td>Storage</td>\n",
       "      <td>31.396504</td>\n",
       "    </tr>\n",
       "    <tr>\n",
       "      <th>3</th>\n",
       "      <td>Support</td>\n",
       "      <td>26.259488</td>\n",
       "    </tr>\n",
       "    <tr>\n",
       "      <th>2</th>\n",
       "      <td>Data Smasher</td>\n",
       "      <td>25.054700</td>\n",
       "    </tr>\n",
       "    <tr>\n",
       "      <th>10</th>\n",
       "      <td>ChatBot Plugin</td>\n",
       "      <td>24.071083</td>\n",
       "    </tr>\n",
       "    <tr>\n",
       "      <th>6</th>\n",
       "      <td>OneView</td>\n",
       "      <td>16.867517</td>\n",
       "    </tr>\n",
       "    <tr>\n",
       "      <th>7</th>\n",
       "      <td>SaaS Connector Pack</td>\n",
       "      <td>14.240358</td>\n",
       "    </tr>\n",
       "    <tr>\n",
       "      <th>1</th>\n",
       "      <td>Site Analytics</td>\n",
       "      <td>13.489327</td>\n",
       "    </tr>\n",
       "    <tr>\n",
       "      <th>5</th>\n",
       "      <td>Marketing Suite - Gold</td>\n",
       "      <td>9.506113</td>\n",
       "    </tr>\n",
       "    <tr>\n",
       "      <th>4</th>\n",
       "      <td>FinanceHub</td>\n",
       "      <td>9.425955</td>\n",
       "    </tr>\n",
       "    <tr>\n",
       "      <th>8</th>\n",
       "      <td>ContactMatcher</td>\n",
       "      <td>3.045064</td>\n",
       "    </tr>\n",
       "    <tr>\n",
       "      <th>11</th>\n",
       "      <td>Big Ol Database</td>\n",
       "      <td>1.788618</td>\n",
       "    </tr>\n",
       "    <tr>\n",
       "      <th>13</th>\n",
       "      <td>Marketing Suite</td>\n",
       "      <td>0.000000</td>\n",
       "    </tr>\n",
       "  </tbody>\n",
       "</table>\n",
       "</div>"
      ],
      "text/plain": [
       "                       Product  profitSales_ratio\n",
       "9   SaaS Connector Pack - Gold          42.267582\n",
       "0                      Alchemy          37.195585\n",
       "12                     Storage          31.396504\n",
       "3                      Support          26.259488\n",
       "2                 Data Smasher          25.054700\n",
       "10              ChatBot Plugin          24.071083\n",
       "6                      OneView          16.867517\n",
       "7          SaaS Connector Pack          14.240358\n",
       "1               Site Analytics          13.489327\n",
       "5       Marketing Suite - Gold           9.506113\n",
       "4                   FinanceHub           9.425955\n",
       "8               ContactMatcher           3.045064\n",
       "11             Big Ol Database           1.788618\n",
       "13             Marketing Suite           0.000000"
      ]
     },
     "execution_count": 168,
     "metadata": {},
     "output_type": "execute_result"
    }
   ],
   "source": [
    "mostbenefit_product['profitSales_ratio'] = 100* (mostbenefit_product['Profit']/mostbenefit_product['Sales']).apply(lambda x: x if x > 0 else 0)\n",
    "profitSales_ratio = mostbenefit_product[['Product', 'profitSales_ratio']].sort_values('profitSales_ratio', ascending=False)\n",
    "profitSales_ratio"
   ]
  },
  {
   "cell_type": "code",
   "execution_count": 169,
   "metadata": {},
   "outputs": [
    {
     "data": {
      "image/png": "[encoded data removed]",
      "text/plain": [
       "<Figure size 1500x800 with 1 Axes>"
      ]
     },
     "metadata": {},
     "output_type": "display_data"
    }
   ],
   "source": [
    "plt.figure(figsize=(15, 8))\n",
    "ratio = sns.barplot(x= 'profitSales_ratio', y= 'Product', data = profitSales_ratio, color= 'blue')\n",
    "plt.xlabel('Profit-Sales Ratio')\n",
    "ratio.bar_label(ratio.containers[0])\n",
    "plt.show()"
   ]
  },
  {
   "cell_type": "markdown",
   "metadata": {},
   "source": [
    "Insight:\n",
    "\n",
    "Kesimpulan:\n",
    "- Product dengan prospek pertumbuhan tinggi berdasarkan `ratio Profit-Salesnya` yaitu `SaaS Connector Pack - Gold`\n",
    "- Product Alchemy sebagai prospek product berdasarkan profit, juga menjadi prospek berdasarkan `ratio Profit-Salesnya` pada urutan kedua.\n",
    "\n",
    "Selanjutnya kita akan melihat product yang laku berdasarkan `Quantity` dalam 1 transaksi"
   ]
  },
  {
   "cell_type": "markdown",
   "metadata": {},
   "source": [
    "#### Jumlah Quantity setiap product"
   ]
  },
  {
   "cell_type": "code",
   "execution_count": 170,
   "metadata": {},
   "outputs": [
    {
     "data": {
      "text/html": [
       "<div>\n",
       "<style scoped>\n",
       "    .dataframe tbody tr th:only-of-type {\n",
       "        vertical-align: middle;\n",
       "    }\n",
       "\n",
       "    .dataframe tbody tr th {\n",
       "        vertical-align: top;\n",
       "    }\n",
       "\n",
       "    .dataframe thead th {\n",
       "        text-align: right;\n",
       "    }\n",
       "</style>\n",
       "<table border=\"1\" class=\"dataframe\">\n",
       "  <thead>\n",
       "    <tr style=\"text-align: right;\">\n",
       "      <th></th>\n",
       "      <th>Product</th>\n",
       "      <th>Profit</th>\n",
       "      <th>Quantity</th>\n",
       "    </tr>\n",
       "  </thead>\n",
       "  <tbody>\n",
       "    <tr>\n",
       "      <th>3</th>\n",
       "      <td>ContactMatcher</td>\n",
       "      <td>12496.2822</td>\n",
       "      <td>7215</td>\n",
       "    </tr>\n",
       "    <tr>\n",
       "      <th>13</th>\n",
       "      <td>Support</td>\n",
       "      <td>32864.4698</td>\n",
       "      <td>5825</td>\n",
       "    </tr>\n",
       "    <tr>\n",
       "      <th>5</th>\n",
       "      <td>FinanceHub</td>\n",
       "      <td>32136.4203</td>\n",
       "      <td>3756</td>\n",
       "    </tr>\n",
       "    <tr>\n",
       "      <th>9</th>\n",
       "      <td>SaaS Connector Pack</td>\n",
       "      <td>13059.1436</td>\n",
       "      <td>3563</td>\n",
       "    </tr>\n",
       "    <tr>\n",
       "      <th>11</th>\n",
       "      <td>Site Analytics</td>\n",
       "      <td>44515.7306</td>\n",
       "      <td>3289</td>\n",
       "    </tr>\n",
       "    <tr>\n",
       "      <th>7</th>\n",
       "      <td>Marketing Suite - Gold</td>\n",
       "      <td>21278.8264</td>\n",
       "      <td>3158</td>\n",
       "    </tr>\n",
       "    <tr>\n",
       "      <th>2</th>\n",
       "      <td>ChatBot Plugin</td>\n",
       "      <td>6527.7870</td>\n",
       "      <td>3000</td>\n",
       "    </tr>\n",
       "    <tr>\n",
       "      <th>4</th>\n",
       "      <td>Data Smasher</td>\n",
       "      <td>41936.6357</td>\n",
       "      <td>2976</td>\n",
       "    </tr>\n",
       "    <tr>\n",
       "      <th>8</th>\n",
       "      <td>OneView</td>\n",
       "      <td>18138.0054</td>\n",
       "      <td>1729</td>\n",
       "    </tr>\n",
       "    <tr>\n",
       "      <th>12</th>\n",
       "      <td>Storage</td>\n",
       "      <td>949.5182</td>\n",
       "      <td>914</td>\n",
       "    </tr>\n",
       "    <tr>\n",
       "      <th>10</th>\n",
       "      <td>SaaS Connector Pack - Gold</td>\n",
       "      <td>6964.1767</td>\n",
       "      <td>906</td>\n",
       "    </tr>\n",
       "    <tr>\n",
       "      <th>6</th>\n",
       "      <td>Marketing Suite</td>\n",
       "      <td>-3472.5560</td>\n",
       "      <td>868</td>\n",
       "    </tr>\n",
       "    <tr>\n",
       "      <th>1</th>\n",
       "      <td>Big Ol Database</td>\n",
       "      <td>3384.7569</td>\n",
       "      <td>440</td>\n",
       "    </tr>\n",
       "    <tr>\n",
       "      <th>0</th>\n",
       "      <td>Alchemy</td>\n",
       "      <td>55617.8249</td>\n",
       "      <td>234</td>\n",
       "    </tr>\n",
       "  </tbody>\n",
       "</table>\n",
       "</div>"
      ],
      "text/plain": [
       "                       Product      Profit  Quantity\n",
       "3               ContactMatcher  12496.2822      7215\n",
       "13                     Support  32864.4698      5825\n",
       "5                   FinanceHub  32136.4203      3756\n",
       "9          SaaS Connector Pack  13059.1436      3563\n",
       "11              Site Analytics  44515.7306      3289\n",
       "7       Marketing Suite - Gold  21278.8264      3158\n",
       "2               ChatBot Plugin   6527.7870      3000\n",
       "4                 Data Smasher  41936.6357      2976\n",
       "8                      OneView  18138.0054      1729\n",
       "12                     Storage    949.5182       914\n",
       "10  SaaS Connector Pack - Gold   6964.1767       906\n",
       "6              Marketing Suite  -3472.5560       868\n",
       "1              Big Ol Database   3384.7569       440\n",
       "0                      Alchemy  55617.8249       234"
      ]
     },
     "execution_count": 170,
     "metadata": {},
     "output_type": "execute_result"
    }
   ],
   "source": [
    "jumlahquantity = data.groupby('Product').agg({'Profit': 'sum', 'Quantity': 'sum'}).reset_index().sort_values('Quantity', ascending=False)\n",
    "jumlahquantity"
   ]
  },
  {
   "cell_type": "code",
   "execution_count": 171,
   "metadata": {},
   "outputs": [
    {
     "data": {
      "image/png": "[encoded data removed]",
      "text/plain": [
       "<Figure size 1000x600 with 1 Axes>"
      ]
     },
     "metadata": {},
     "output_type": "display_data"
    }
   ],
   "source": [
    "plt.figure(figsize=(10, 6))\n",
    "sales = sns.barplot(x= 'Quantity', y= 'Product', data = jumlahquantity, color= 'Orange', label= 'Quantity', dodge= False)\n",
    "sales.bar_label(sales.containers[0], label_type='edge')\n",
    "plt.show()"
   ]
  },
  {
   "cell_type": "markdown",
   "metadata": {},
   "source": [
    "Insights:\n",
    "\n",
    "- total quantity adalah total penjumlahan dari jumlah licensi product yang dipesan dalam 1 transaksi.\n",
    "- `Alchemy` masih merupakan product yang `paling sedikit dipesan` berdasarkan total quantity.\n",
    "- `Alchemy` yang notabene menghasilkan profit tertinggi, disini terlihat berada diposisi `terendah berdasarkan total quantity`\n",
    "- `ContactMatcher` merupakan product yang `paling banyak dipesan` berdasarkan total quantity.\n",
    "- rentang jumalh pemesanan product juga terbilang terpaut jauh yakni, 7215 - 234 = 6981 license.\n",
    "- `Marketing Suite` sebagai product yang menghasilkan minus profit pada analisis sebelumnya, disini berada posisi 6 berdasarkan total quantity yakni 3158.\n",
    "\n",
    "Kesimpulan:\n",
    "- Product dengan pertumbuhan tinggi berdasarkan Quantity adalah ContactMathcer\n",
    "- Product dengan rendah berdasarkan quantity adalah Alchemy\n",
    "\n",
    "Selanjutnya kita akan lihat dari sudut pandang produk yang paling banyak dibeli dalam 1 transaksi. Agar dapat menaikkan harga atau mengurangi diskon untuk push profit"
   ]
  },
  {
   "cell_type": "markdown",
   "metadata": {},
   "source": [
    "#### Jumlah product dalam 1 transaksi"
   ]
  },
  {
   "cell_type": "markdown",
   "metadata": {},
   "source": [
    "Kita lihat dulu Variasi quantity dalam setiap transaksinya"
   ]
  },
  {
   "cell_type": "code",
   "execution_count": 172,
   "metadata": {},
   "outputs": [
    {
     "data": {
      "text/plain": [
       "Quantity\n",
       "12      23\n",
       "13      27\n",
       "14      29\n",
       "11      34\n",
       "10      57\n",
       "8      257\n",
       "9      258\n",
       "6      572\n",
       "7      606\n",
       "1      899\n",
       "4     1191\n",
       "5     1230\n",
       "2     2402\n",
       "3     2409\n",
       "Name: count, dtype: int64"
      ]
     },
     "execution_count": 172,
     "metadata": {},
     "output_type": "execute_result"
    }
   ],
   "source": [
    "data['Quantity'].value_counts().sort_values(ascending=True)"
   ]
  },
  {
   "cell_type": "markdown",
   "metadata": {},
   "source": [
    "dari table diatas kita ambil `Quantity >= 10` sebagai patokan quantity terbesar dengan `jumlah transaksi yang drastis berkurang` saat quantity berjumlah `8 dan 9`."
   ]
  },
  {
   "cell_type": "code",
   "execution_count": 173,
   "metadata": {},
   "outputs": [
    {
     "data": {
      "text/html": [
       "<div>\n",
       "<style scoped>\n",
       "    .dataframe tbody tr th:only-of-type {\n",
       "        vertical-align: middle;\n",
       "    }\n",
       "\n",
       "    .dataframe tbody tr th {\n",
       "        vertical-align: top;\n",
       "    }\n",
       "\n",
       "    .dataframe thead th {\n",
       "        text-align: right;\n",
       "    }\n",
       "</style>\n",
       "<table border=\"1\" class=\"dataframe\">\n",
       "  <thead>\n",
       "    <tr style=\"text-align: right;\">\n",
       "      <th></th>\n",
       "      <th>Product</th>\n",
       "      <th>count</th>\n",
       "    </tr>\n",
       "  </thead>\n",
       "  <tbody>\n",
       "    <tr>\n",
       "      <th>0</th>\n",
       "      <td>ContactMatcher</td>\n",
       "      <td>40</td>\n",
       "    </tr>\n",
       "    <tr>\n",
       "      <th>1</th>\n",
       "      <td>Support</td>\n",
       "      <td>22</td>\n",
       "    </tr>\n",
       "    <tr>\n",
       "      <th>2</th>\n",
       "      <td>FinanceHub</td>\n",
       "      <td>19</td>\n",
       "    </tr>\n",
       "    <tr>\n",
       "      <th>3</th>\n",
       "      <td>Data Smasher</td>\n",
       "      <td>18</td>\n",
       "    </tr>\n",
       "    <tr>\n",
       "      <th>4</th>\n",
       "      <td>SaaS Connector Pack</td>\n",
       "      <td>15</td>\n",
       "    </tr>\n",
       "    <tr>\n",
       "      <th>5</th>\n",
       "      <td>Marketing Suite - Gold</td>\n",
       "      <td>14</td>\n",
       "    </tr>\n",
       "    <tr>\n",
       "      <th>6</th>\n",
       "      <td>Site Analytics</td>\n",
       "      <td>14</td>\n",
       "    </tr>\n",
       "    <tr>\n",
       "      <th>7</th>\n",
       "      <td>ChatBot Plugin</td>\n",
       "      <td>8</td>\n",
       "    </tr>\n",
       "    <tr>\n",
       "      <th>8</th>\n",
       "      <td>OneView</td>\n",
       "      <td>6</td>\n",
       "    </tr>\n",
       "    <tr>\n",
       "      <th>9</th>\n",
       "      <td>Storage</td>\n",
       "      <td>6</td>\n",
       "    </tr>\n",
       "    <tr>\n",
       "      <th>10</th>\n",
       "      <td>Marketing Suite</td>\n",
       "      <td>5</td>\n",
       "    </tr>\n",
       "    <tr>\n",
       "      <th>11</th>\n",
       "      <td>Big Ol Database</td>\n",
       "      <td>3</td>\n",
       "    </tr>\n",
       "  </tbody>\n",
       "</table>\n",
       "</div>"
      ],
      "text/plain": [
       "                   Product  count\n",
       "0           ContactMatcher     40\n",
       "1                  Support     22\n",
       "2               FinanceHub     19\n",
       "3             Data Smasher     18\n",
       "4      SaaS Connector Pack     15\n",
       "5   Marketing Suite - Gold     14\n",
       "6           Site Analytics     14\n",
       "7           ChatBot Plugin      8\n",
       "8                  OneView      6\n",
       "9                  Storage      6\n",
       "10         Marketing Suite      5\n",
       "11         Big Ol Database      3"
      ]
     },
     "execution_count": 173,
     "metadata": {},
     "output_type": "execute_result"
    }
   ],
   "source": [
    "jumlahtransaksi_topQuantity = data[data['Quantity'] >= 10][['Product']].value_counts().reset_index()\n",
    "jumlahtransaksi_topQuantity"
   ]
  },
  {
   "cell_type": "code",
   "execution_count": 174,
   "metadata": {},
   "outputs": [
    {
     "data": {
      "image/png": "[encoded data removed]",
      "text/plain": [
       "<Figure size 640x480 with 1 Axes>"
      ]
     },
     "metadata": {},
     "output_type": "display_data"
    }
   ],
   "source": [
    "produk_Quantityterbanyak = sns.barplot(x= 'count', y= 'Product', data = jumlahtransaksi_topQuantity)"
   ]
  },
  {
   "cell_type": "markdown",
   "metadata": {},
   "source": [
    "Insights:\n",
    "\n",
    "Kesimpulan:\n",
    "- ContactMacther merupakan product yang paling banyak dipesan dalam 1 transaksi, yakni Quantity lebih dari 10 sebanyak 40 transaksi"
   ]
  },
  {
   "cell_type": "markdown",
   "metadata": {},
   "source": [
    "### **2.1 Pengaruh Segmentasi**"
   ]
  },
  {
   "cell_type": "markdown",
   "metadata": {},
   "source": [
    "#### Jumlah Industri Product yang dipesan oleh setiap Customer"
   ]
  },
  {
   "cell_type": "code",
   "execution_count": 217,
   "metadata": {},
   "outputs": [
    {
     "data": {
      "text/html": [
       "<div>\n",
       "<style scoped>\n",
       "    .dataframe tbody tr th:only-of-type {\n",
       "        vertical-align: middle;\n",
       "    }\n",
       "\n",
       "    .dataframe tbody tr th {\n",
       "        vertical-align: top;\n",
       "    }\n",
       "\n",
       "    .dataframe thead th {\n",
       "        text-align: right;\n",
       "    }\n",
       "</style>\n",
       "<table border=\"1\" class=\"dataframe\">\n",
       "  <thead>\n",
       "    <tr style=\"text-align: right;\">\n",
       "      <th></th>\n",
       "      <th>Customer</th>\n",
       "      <th>Product Industry Count</th>\n",
       "    </tr>\n",
       "  </thead>\n",
       "  <tbody>\n",
       "    <tr>\n",
       "      <th>0</th>\n",
       "      <td>AT&amp;T</td>\n",
       "      <td>1</td>\n",
       "    </tr>\n",
       "    <tr>\n",
       "      <th>74</th>\n",
       "      <td>Phillips 66</td>\n",
       "      <td>1</td>\n",
       "    </tr>\n",
       "    <tr>\n",
       "      <th>72</th>\n",
       "      <td>Pfizer</td>\n",
       "      <td>1</td>\n",
       "    </tr>\n",
       "    <tr>\n",
       "      <th>71</th>\n",
       "      <td>Petrobras</td>\n",
       "      <td>1</td>\n",
       "    </tr>\n",
       "    <tr>\n",
       "      <th>70</th>\n",
       "      <td>PepsiCo</td>\n",
       "      <td>1</td>\n",
       "    </tr>\n",
       "    <tr>\n",
       "      <th>...</th>\n",
       "      <td>...</td>\n",
       "      <td>...</td>\n",
       "    </tr>\n",
       "    <tr>\n",
       "      <th>30</th>\n",
       "      <td>ConocoPhillips</td>\n",
       "      <td>1</td>\n",
       "    </tr>\n",
       "    <tr>\n",
       "      <th>29</th>\n",
       "      <td>Comcast</td>\n",
       "      <td>1</td>\n",
       "    </tr>\n",
       "    <tr>\n",
       "      <th>28</th>\n",
       "      <td>Coca-Cola</td>\n",
       "      <td>1</td>\n",
       "    </tr>\n",
       "    <tr>\n",
       "      <th>27</th>\n",
       "      <td>Citigroup</td>\n",
       "      <td>1</td>\n",
       "    </tr>\n",
       "    <tr>\n",
       "      <th>98</th>\n",
       "      <td>Wells Fargo</td>\n",
       "      <td>1</td>\n",
       "    </tr>\n",
       "  </tbody>\n",
       "</table>\n",
       "<p>99 rows × 2 columns</p>\n",
       "</div>"
      ],
      "text/plain": [
       "          Customer  Product Industry Count\n",
       "0             AT&T                       1\n",
       "74     Phillips 66                       1\n",
       "72          Pfizer                       1\n",
       "71       Petrobras                       1\n",
       "70         PepsiCo                       1\n",
       "..             ...                     ...\n",
       "30  ConocoPhillips                       1\n",
       "29         Comcast                       1\n",
       "28       Coca-Cola                       1\n",
       "27       Citigroup                       1\n",
       "98     Wells Fargo                       1\n",
       "\n",
       "[99 rows x 2 columns]"
      ]
     },
     "execution_count": 217,
     "metadata": {},
     "output_type": "execute_result"
    }
   ],
   "source": [
    "data.groupby(['Customer'])['Industry'].nunique().reset_index(name='Product Industry Count').sort_values('Product Industry Count', ascending=False)"
   ]
  },
  {
   "cell_type": "code",
   "execution_count": 220,
   "metadata": {},
   "outputs": [
    {
     "data": {
      "text/plain": [
       "array(['Finance'], dtype=object)"
      ]
     },
     "execution_count": 220,
     "metadata": {},
     "output_type": "execute_result"
    }
   ],
   "source": [
    "data[data['Customer'] == 'Allianz']['Industry'].unique()"
   ]
  },
  {
   "cell_type": "markdown",
   "metadata": {},
   "source": [
    "Kesimpulan:\n",
    "\n",
    "- Setiap customer hanya memesan 1 spesifik Industry untuk setiap transaksi"
   ]
  },
  {
   "cell_type": "code",
   "execution_count": 177,
   "metadata": {},
   "outputs": [
    {
     "data": {
      "text/html": [
       "<div>\n",
       "<style scoped>\n",
       "    .dataframe tbody tr th:only-of-type {\n",
       "        vertical-align: middle;\n",
       "    }\n",
       "\n",
       "    .dataframe tbody tr th {\n",
       "        vertical-align: top;\n",
       "    }\n",
       "\n",
       "    .dataframe thead th {\n",
       "        text-align: right;\n",
       "    }\n",
       "</style>\n",
       "<table border=\"1\" class=\"dataframe\">\n",
       "  <thead>\n",
       "    <tr style=\"text-align: right;\">\n",
       "      <th></th>\n",
       "      <th></th>\n",
       "      <th>Customer</th>\n",
       "    </tr>\n",
       "    <tr>\n",
       "      <th>Segment</th>\n",
       "      <th>Industry</th>\n",
       "      <th></th>\n",
       "    </tr>\n",
       "  </thead>\n",
       "  <tbody>\n",
       "    <tr>\n",
       "      <th rowspan=\"10\" valign=\"top\">Strategic</th>\n",
       "      <th>Finance</th>\n",
       "      <td>18</td>\n",
       "    </tr>\n",
       "    <tr>\n",
       "      <th>Energy</th>\n",
       "      <td>14</td>\n",
       "    </tr>\n",
       "    <tr>\n",
       "      <th>Healthcare</th>\n",
       "      <td>10</td>\n",
       "    </tr>\n",
       "    <tr>\n",
       "      <th>Manufacturing</th>\n",
       "      <td>10</td>\n",
       "    </tr>\n",
       "    <tr>\n",
       "      <th>Retail</th>\n",
       "      <td>10</td>\n",
       "    </tr>\n",
       "    <tr>\n",
       "      <th>Tech</th>\n",
       "      <td>10</td>\n",
       "    </tr>\n",
       "    <tr>\n",
       "      <th>Consumer Products</th>\n",
       "      <td>9</td>\n",
       "    </tr>\n",
       "    <tr>\n",
       "      <th>Communications</th>\n",
       "      <td>5</td>\n",
       "    </tr>\n",
       "    <tr>\n",
       "      <th>Transportation</th>\n",
       "      <td>3</td>\n",
       "    </tr>\n",
       "    <tr>\n",
       "      <th>Misc</th>\n",
       "      <td>2</td>\n",
       "    </tr>\n",
       "    <tr>\n",
       "      <th rowspan=\"10\" valign=\"top\">SMB</th>\n",
       "      <th>Finance</th>\n",
       "      <td>20</td>\n",
       "    </tr>\n",
       "    <tr>\n",
       "      <th>Energy</th>\n",
       "      <td>13</td>\n",
       "    </tr>\n",
       "    <tr>\n",
       "      <th>Tech</th>\n",
       "      <td>13</td>\n",
       "    </tr>\n",
       "    <tr>\n",
       "      <th>Retail</th>\n",
       "      <td>11</td>\n",
       "    </tr>\n",
       "    <tr>\n",
       "      <th>Manufacturing</th>\n",
       "      <td>10</td>\n",
       "    </tr>\n",
       "    <tr>\n",
       "      <th>Consumer Products</th>\n",
       "      <td>9</td>\n",
       "    </tr>\n",
       "    <tr>\n",
       "      <th>Healthcare</th>\n",
       "      <td>9</td>\n",
       "    </tr>\n",
       "    <tr>\n",
       "      <th>Communications</th>\n",
       "      <td>5</td>\n",
       "    </tr>\n",
       "    <tr>\n",
       "      <th>Transportation</th>\n",
       "      <td>4</td>\n",
       "    </tr>\n",
       "    <tr>\n",
       "      <th>Misc</th>\n",
       "      <td>2</td>\n",
       "    </tr>\n",
       "    <tr>\n",
       "      <th rowspan=\"10\" valign=\"top\">Enterprise</th>\n",
       "      <th>Finance</th>\n",
       "      <td>13</td>\n",
       "    </tr>\n",
       "    <tr>\n",
       "      <th>Tech</th>\n",
       "      <td>11</td>\n",
       "    </tr>\n",
       "    <tr>\n",
       "      <th>Energy</th>\n",
       "      <td>10</td>\n",
       "    </tr>\n",
       "    <tr>\n",
       "      <th>Manufacturing</th>\n",
       "      <td>10</td>\n",
       "    </tr>\n",
       "    <tr>\n",
       "      <th>Retail</th>\n",
       "      <td>10</td>\n",
       "    </tr>\n",
       "    <tr>\n",
       "      <th>Healthcare</th>\n",
       "      <td>7</td>\n",
       "    </tr>\n",
       "    <tr>\n",
       "      <th>Consumer Products</th>\n",
       "      <td>5</td>\n",
       "    </tr>\n",
       "    <tr>\n",
       "      <th>Communications</th>\n",
       "      <td>4</td>\n",
       "    </tr>\n",
       "    <tr>\n",
       "      <th>Transportation</th>\n",
       "      <td>4</td>\n",
       "    </tr>\n",
       "    <tr>\n",
       "      <th>Misc</th>\n",
       "      <td>2</td>\n",
       "    </tr>\n",
       "  </tbody>\n",
       "</table>\n",
       "</div>"
      ],
      "text/plain": [
       "                              Customer\n",
       "Segment    Industry                   \n",
       "Strategic  Finance                  18\n",
       "           Energy                   14\n",
       "           Healthcare               10\n",
       "           Manufacturing            10\n",
       "           Retail                   10\n",
       "           Tech                     10\n",
       "           Consumer Products         9\n",
       "           Communications            5\n",
       "           Transportation            3\n",
       "           Misc                      2\n",
       "SMB        Finance                  20\n",
       "           Energy                   13\n",
       "           Tech                     13\n",
       "           Retail                   11\n",
       "           Manufacturing            10\n",
       "           Consumer Products         9\n",
       "           Healthcare                9\n",
       "           Communications            5\n",
       "           Transportation            4\n",
       "           Misc                      2\n",
       "Enterprise Finance                  13\n",
       "           Tech                     11\n",
       "           Energy                   10\n",
       "           Manufacturing            10\n",
       "           Retail                   10\n",
       "           Healthcare                7\n",
       "           Consumer Products         5\n",
       "           Communications            4\n",
       "           Transportation            4\n",
       "           Misc                      2"
      ]
     },
     "execution_count": 177,
     "metadata": {},
     "output_type": "execute_result"
    }
   ],
   "source": [
    "data.groupby(['Segment', 'Industry'])[['Customer']].nunique().sort_values(['Segment','Customer'], ascending= False)"
   ]
  },
  {
   "cell_type": "markdown",
   "metadata": {},
   "source": [
    "#### Jumlah Customer pada Setiap Segment"
   ]
  },
  {
   "cell_type": "code",
   "execution_count": 178,
   "metadata": {},
   "outputs": [
    {
     "data": {
      "text/html": [
       "<div>\n",
       "<style scoped>\n",
       "    .dataframe tbody tr th:only-of-type {\n",
       "        vertical-align: middle;\n",
       "    }\n",
       "\n",
       "    .dataframe tbody tr th {\n",
       "        vertical-align: top;\n",
       "    }\n",
       "\n",
       "    .dataframe thead th {\n",
       "        text-align: right;\n",
       "    }\n",
       "</style>\n",
       "<table border=\"1\" class=\"dataframe\">\n",
       "  <thead>\n",
       "    <tr style=\"text-align: right;\">\n",
       "      <th></th>\n",
       "      <th>Customer</th>\n",
       "    </tr>\n",
       "    <tr>\n",
       "      <th>Segment</th>\n",
       "      <th></th>\n",
       "    </tr>\n",
       "  </thead>\n",
       "  <tbody>\n",
       "    <tr>\n",
       "      <th>Enterprise</th>\n",
       "      <td>76</td>\n",
       "    </tr>\n",
       "    <tr>\n",
       "      <th>SMB</th>\n",
       "      <td>96</td>\n",
       "    </tr>\n",
       "    <tr>\n",
       "      <th>Strategic</th>\n",
       "      <td>91</td>\n",
       "    </tr>\n",
       "  </tbody>\n",
       "</table>\n",
       "</div>"
      ],
      "text/plain": [
       "            Customer\n",
       "Segment             \n",
       "Enterprise        76\n",
       "SMB               96\n",
       "Strategic         91"
      ]
     },
     "execution_count": 178,
     "metadata": {},
     "output_type": "execute_result"
    }
   ],
   "source": [
    "data.groupby('Segment')[['Customer']].nunique()"
   ]
  },
  {
   "cell_type": "markdown",
   "metadata": {},
   "source": [
    "#### Jumlah customer dan jumlah order setiap Industry"
   ]
  },
  {
   "cell_type": "code",
   "execution_count": 221,
   "metadata": {},
   "outputs": [
    {
     "data": {
      "text/html": [
       "<div>\n",
       "<style scoped>\n",
       "    .dataframe tbody tr th:only-of-type {\n",
       "        vertical-align: middle;\n",
       "    }\n",
       "\n",
       "    .dataframe tbody tr th {\n",
       "        vertical-align: top;\n",
       "    }\n",
       "\n",
       "    .dataframe thead th {\n",
       "        text-align: right;\n",
       "    }\n",
       "</style>\n",
       "<table border=\"1\" class=\"dataframe\">\n",
       "  <thead>\n",
       "    <tr style=\"text-align: right;\">\n",
       "      <th></th>\n",
       "      <th>Customer</th>\n",
       "      <th>Order ID</th>\n",
       "    </tr>\n",
       "    <tr>\n",
       "      <th>Industry</th>\n",
       "      <th></th>\n",
       "      <th></th>\n",
       "    </tr>\n",
       "  </thead>\n",
       "  <tbody>\n",
       "    <tr>\n",
       "      <th>Finance</th>\n",
       "      <td>20</td>\n",
       "      <td>2127</td>\n",
       "    </tr>\n",
       "    <tr>\n",
       "      <th>Energy</th>\n",
       "      <td>14</td>\n",
       "      <td>1316</td>\n",
       "    </tr>\n",
       "    <tr>\n",
       "      <th>Tech</th>\n",
       "      <td>13</td>\n",
       "      <td>1236</td>\n",
       "    </tr>\n",
       "    <tr>\n",
       "      <th>Manufacturing</th>\n",
       "      <td>11</td>\n",
       "      <td>1222</td>\n",
       "    </tr>\n",
       "    <tr>\n",
       "      <th>Healthcare</th>\n",
       "      <td>10</td>\n",
       "      <td>1049</td>\n",
       "    </tr>\n",
       "    <tr>\n",
       "      <th>Consumer Products</th>\n",
       "      <td>9</td>\n",
       "      <td>1021</td>\n",
       "    </tr>\n",
       "    <tr>\n",
       "      <th>Retail</th>\n",
       "      <td>11</td>\n",
       "      <td>972</td>\n",
       "    </tr>\n",
       "    <tr>\n",
       "      <th>Communications</th>\n",
       "      <td>5</td>\n",
       "      <td>593</td>\n",
       "    </tr>\n",
       "    <tr>\n",
       "      <th>Transportation</th>\n",
       "      <td>4</td>\n",
       "      <td>351</td>\n",
       "    </tr>\n",
       "    <tr>\n",
       "      <th>Misc</th>\n",
       "      <td>2</td>\n",
       "      <td>107</td>\n",
       "    </tr>\n",
       "  </tbody>\n",
       "</table>\n",
       "</div>"
      ],
      "text/plain": [
       "                   Customer  Order ID\n",
       "Industry                             \n",
       "Finance                  20      2127\n",
       "Energy                   14      1316\n",
       "Tech                     13      1236\n",
       "Manufacturing            11      1222\n",
       "Healthcare               10      1049\n",
       "Consumer Products         9      1021\n",
       "Retail                   11       972\n",
       "Communications            5       593\n",
       "Transportation            4       351\n",
       "Misc                      2       107"
      ]
     },
     "execution_count": 221,
     "metadata": {},
     "output_type": "execute_result"
    }
   ],
   "source": [
    "data.groupby('Industry').agg({'Customer':'nunique', 'Order ID':'count'}).sort_values('Order ID', ascending=False)"
   ]
  },
  {
   "cell_type": "markdown",
   "metadata": {},
   "source": [
    "Insights:\n",
    "\n",
    "Kesimpulan:\n",
    "- Product dengan Industry `Finance` memiliki Royal customer terbanyak yaitu `20 customer` dengan total `2127 Transaksi`"
   ]
  },
  {
   "cell_type": "markdown",
   "metadata": {},
   "source": [
    "## **3. Pengaruh Customer**"
   ]
  },
  {
   "cell_type": "markdown",
   "metadata": {},
   "source": [
    "Setelah Melihat faktor Product, kita akan melihat berdasarkan harga dan diskon untuk mencari faktor manakah yang paling mempengaruhi keuntungan dan kerugian"
   ]
  },
  {
   "cell_type": "code",
   "execution_count": 180,
   "metadata": {},
   "outputs": [
    {
     "data": {
      "text/html": [
       "<div>\n",
       "<style scoped>\n",
       "    .dataframe tbody tr th:only-of-type {\n",
       "        vertical-align: middle;\n",
       "    }\n",
       "\n",
       "    .dataframe tbody tr th {\n",
       "        vertical-align: top;\n",
       "    }\n",
       "\n",
       "    .dataframe thead th {\n",
       "        text-align: right;\n",
       "    }\n",
       "</style>\n",
       "<table border=\"1\" class=\"dataframe\">\n",
       "  <thead>\n",
       "    <tr style=\"text-align: right;\">\n",
       "      <th></th>\n",
       "      <th>Product</th>\n",
       "      <th>Price</th>\n",
       "      <th>Discount</th>\n",
       "    </tr>\n",
       "  </thead>\n",
       "  <tbody>\n",
       "    <tr>\n",
       "      <th>2</th>\n",
       "      <td>ChatBot Plugin</td>\n",
       "      <td>169</td>\n",
       "      <td>2</td>\n",
       "    </tr>\n",
       "    <tr>\n",
       "      <th>4</th>\n",
       "      <td>Data Smasher</td>\n",
       "      <td>192</td>\n",
       "      <td>2</td>\n",
       "    </tr>\n",
       "    <tr>\n",
       "      <th>7</th>\n",
       "      <td>Marketing Suite - Gold</td>\n",
       "      <td>214</td>\n",
       "      <td>2</td>\n",
       "    </tr>\n",
       "    <tr>\n",
       "      <th>10</th>\n",
       "      <td>SaaS Connector Pack - Gold</td>\n",
       "      <td>74</td>\n",
       "      <td>2</td>\n",
       "    </tr>\n",
       "    <tr>\n",
       "      <th>12</th>\n",
       "      <td>Storage</td>\n",
       "      <td>70</td>\n",
       "      <td>2</td>\n",
       "    </tr>\n",
       "    <tr>\n",
       "      <th>13</th>\n",
       "      <td>Support</td>\n",
       "      <td>221</td>\n",
       "      <td>2</td>\n",
       "    </tr>\n",
       "    <tr>\n",
       "      <th>0</th>\n",
       "      <td>Alchemy</td>\n",
       "      <td>19</td>\n",
       "      <td>3</td>\n",
       "    </tr>\n",
       "    <tr>\n",
       "      <th>9</th>\n",
       "      <td>SaaS Connector Pack</td>\n",
       "      <td>274</td>\n",
       "      <td>3</td>\n",
       "    </tr>\n",
       "    <tr>\n",
       "      <th>11</th>\n",
       "      <td>Site Analytics</td>\n",
       "      <td>241</td>\n",
       "      <td>3</td>\n",
       "    </tr>\n",
       "    <tr>\n",
       "      <th>5</th>\n",
       "      <td>FinanceHub</td>\n",
       "      <td>172</td>\n",
       "      <td>4</td>\n",
       "    </tr>\n",
       "    <tr>\n",
       "      <th>8</th>\n",
       "      <td>OneView</td>\n",
       "      <td>204</td>\n",
       "      <td>4</td>\n",
       "    </tr>\n",
       "    <tr>\n",
       "      <th>1</th>\n",
       "      <td>Big Ol Database</td>\n",
       "      <td>79</td>\n",
       "      <td>7</td>\n",
       "    </tr>\n",
       "    <tr>\n",
       "      <th>6</th>\n",
       "      <td>Marketing Suite</td>\n",
       "      <td>67</td>\n",
       "      <td>7</td>\n",
       "    </tr>\n",
       "    <tr>\n",
       "      <th>3</th>\n",
       "      <td>ContactMatcher</td>\n",
       "      <td>634</td>\n",
       "      <td>8</td>\n",
       "    </tr>\n",
       "  </tbody>\n",
       "</table>\n",
       "</div>"
      ],
      "text/plain": [
       "                       Product  Price  Discount\n",
       "2               ChatBot Plugin    169         2\n",
       "4                 Data Smasher    192         2\n",
       "7       Marketing Suite - Gold    214         2\n",
       "10  SaaS Connector Pack - Gold     74         2\n",
       "12                     Storage     70         2\n",
       "13                     Support    221         2\n",
       "0                      Alchemy     19         3\n",
       "9          SaaS Connector Pack    274         3\n",
       "11              Site Analytics    241         3\n",
       "5                   FinanceHub    172         4\n",
       "8                      OneView    204         4\n",
       "1              Big Ol Database     79         7\n",
       "6              Marketing Suite     67         7\n",
       "3               ContactMatcher    634         8"
      ]
     },
     "execution_count": 180,
     "metadata": {},
     "output_type": "execute_result"
    }
   ],
   "source": [
    "data.groupby('Product').agg({'Price': 'nunique', 'Discount': 'nunique'}).reset_index().sort_values('Discount')"
   ]
  },
  {
   "cell_type": "markdown",
   "metadata": {},
   "source": [
    "Seperti yang terlihat pada table diatas, setiap product memiliki banyak macam penerapan harga dan beberapa macam diskon. Untuk itu kita akan menganalisis faktor lain terlebih dahulu yakni faktor Customer sekaligus faktor wilayah."
   ]
  },
  {
   "cell_type": "markdown",
   "metadata": {},
   "source": [
    "#### Customer paling banyak menghasilkan Profit"
   ]
  },
  {
   "cell_type": "markdown",
   "metadata": {},
   "source": [
    "Menganalisis Kemungkinan Push Profit dengan Menaikkan Harga Pada Customer dan Product tertentu\n",
    "Mencari Customer - customer yang memberikan kontribusi terbesar terhadap `keuntungan keseluruhan` dengan `masing-masing jumlah ordernya`"
   ]
  },
  {
   "cell_type": "code",
   "execution_count": 181,
   "metadata": {},
   "outputs": [
    {
     "data": {
      "text/html": [
       "<div>\n",
       "<style scoped>\n",
       "    .dataframe tbody tr th:only-of-type {\n",
       "        vertical-align: middle;\n",
       "    }\n",
       "\n",
       "    .dataframe tbody tr th {\n",
       "        vertical-align: top;\n",
       "    }\n",
       "\n",
       "    .dataframe thead th {\n",
       "        text-align: right;\n",
       "    }\n",
       "</style>\n",
       "<table border=\"1\" class=\"dataframe\">\n",
       "  <thead>\n",
       "    <tr style=\"text-align: right;\">\n",
       "      <th></th>\n",
       "      <th>Customer</th>\n",
       "      <th>Order ID</th>\n",
       "      <th>Sales</th>\n",
       "      <th>Profit</th>\n",
       "    </tr>\n",
       "  </thead>\n",
       "  <tbody>\n",
       "    <tr>\n",
       "      <th>0</th>\n",
       "      <td>Valero Energy</td>\n",
       "      <td>105</td>\n",
       "      <td>41220.4188</td>\n",
       "      <td>10308.6297</td>\n",
       "    </tr>\n",
       "    <tr>\n",
       "      <th>1</th>\n",
       "      <td>Coca-Cola</td>\n",
       "      <td>81</td>\n",
       "      <td>28643.8040</td>\n",
       "      <td>9449.0246</td>\n",
       "    </tr>\n",
       "    <tr>\n",
       "      <th>2</th>\n",
       "      <td>Trafigura Group</td>\n",
       "      <td>103</td>\n",
       "      <td>33447.1270</td>\n",
       "      <td>8867.8252</td>\n",
       "    </tr>\n",
       "    <tr>\n",
       "      <th>3</th>\n",
       "      <td>Mondelez International</td>\n",
       "      <td>143</td>\n",
       "      <td>32993.0458</td>\n",
       "      <td>8577.6524</td>\n",
       "    </tr>\n",
       "    <tr>\n",
       "      <th>4</th>\n",
       "      <td>Lowes</td>\n",
       "      <td>110</td>\n",
       "      <td>40360.1630</td>\n",
       "      <td>7937.4915</td>\n",
       "    </tr>\n",
       "    <tr>\n",
       "      <th>...</th>\n",
       "      <td>...</td>\n",
       "      <td>...</td>\n",
       "      <td>...</td>\n",
       "      <td>...</td>\n",
       "    </tr>\n",
       "    <tr>\n",
       "      <th>94</th>\n",
       "      <td>Walgreens</td>\n",
       "      <td>68</td>\n",
       "      <td>14420.6190</td>\n",
       "      <td>-740.6747</td>\n",
       "    </tr>\n",
       "    <tr>\n",
       "      <th>95</th>\n",
       "      <td>Costco Wholesale</td>\n",
       "      <td>62</td>\n",
       "      <td>21796.7020</td>\n",
       "      <td>-1354.8547</td>\n",
       "    </tr>\n",
       "    <tr>\n",
       "      <th>96</th>\n",
       "      <td>Nissan Motor</td>\n",
       "      <td>70</td>\n",
       "      <td>22650.8206</td>\n",
       "      <td>-1585.1886</td>\n",
       "    </tr>\n",
       "    <tr>\n",
       "      <th>97</th>\n",
       "      <td>Bosch</td>\n",
       "      <td>119</td>\n",
       "      <td>25444.9990</td>\n",
       "      <td>-1823.7794</td>\n",
       "    </tr>\n",
       "    <tr>\n",
       "      <th>98</th>\n",
       "      <td>Allstate</td>\n",
       "      <td>105</td>\n",
       "      <td>39941.6400</td>\n",
       "      <td>-2796.2935</td>\n",
       "    </tr>\n",
       "  </tbody>\n",
       "</table>\n",
       "<p>99 rows × 4 columns</p>\n",
       "</div>"
      ],
      "text/plain": [
       "                  Customer  Order ID       Sales      Profit\n",
       "0            Valero Energy       105  41220.4188  10308.6297\n",
       "1                Coca-Cola        81  28643.8040   9449.0246\n",
       "2          Trafigura Group       103  33447.1270   8867.8252\n",
       "3   Mondelez International       143  32993.0458   8577.6524\n",
       "4                    Lowes       110  40360.1630   7937.4915\n",
       "..                     ...       ...         ...         ...\n",
       "94               Walgreens        68  14420.6190   -740.6747\n",
       "95        Costco Wholesale        62  21796.7020  -1354.8547\n",
       "96            Nissan Motor        70  22650.8206  -1585.1886\n",
       "97                   Bosch       119  25444.9990  -1823.7794\n",
       "98                Allstate       105  39941.6400  -2796.2935\n",
       "\n",
       "[99 rows x 4 columns]"
      ]
     },
     "execution_count": 181,
     "metadata": {},
     "output_type": "execute_result"
    }
   ],
   "source": [
    "customer_mostProfit = data.groupby(['Customer']).agg({'Order ID' : 'count', 'Sales' : 'sum', 'Profit' : 'sum'}).sort_values('Profit', ascending= False).reset_index()\n",
    "customer_mostProfit"
   ]
  },
  {
   "cell_type": "code",
   "execution_count": 182,
   "metadata": {},
   "outputs": [
    {
     "data": {
      "image/png": "[encoded data removed]",
      "text/plain": [
       "<Figure size 640x480 with 1 Axes>"
      ]
     },
     "metadata": {},
     "output_type": "display_data"
    }
   ],
   "source": [
    "sns.barplot(y= 'Customer', x= 'Sales', data = customer_mostProfit.head(20), color='blue', label = 'Sales')\n",
    "sns.barplot(y= 'Customer', x= 'Profit', data = customer_mostProfit.head(20), color='orange', label = 'Profit')\n",
    "plt.legend()\n",
    "plt.show()"
   ]
  },
  {
   "cell_type": "markdown",
   "metadata": {},
   "source": [
    "Insights:\n",
    "- Disini dapat dilihat bahwa `Valero Energy` merupakan customer yang paling banyak mendatangkan `total profit` walaupun `total sales` bukan merupakan yang tertinggi.\n",
    "- Sales tidak berbanding lurus dengan Profit dipengaruhi faktor diskon yang diberikan dan juga bisa pada harga pokok produk yang tidak diketahui pada dataset ini.\n",
    "\n",
    "Kesimpulan:\n",
    "- Product yang Paling banyak mendatangkan `total profit` walaupun `total sales` bukan yang tertinggi.\n",
    "\n",
    "Saran:\n",
    "- Untuk memaksimalkan Profit, dapat dilakukan kenaikan harga produk disetiap transaksi terutama produk yang cenderung diorder dalam jumlah banyak dalam 1 transaksi yang dilakukan pada setiap top 20 Customer diatas"
   ]
  },
  {
   "cell_type": "markdown",
   "metadata": {},
   "source": [
    "#### Customer Profit Minus dari semua transaksi"
   ]
  },
  {
   "cell_type": "code",
   "execution_count": 223,
   "metadata": {},
   "outputs": [
    {
     "data": {
      "text/html": [
       "<div>\n",
       "<style scoped>\n",
       "    .dataframe tbody tr th:only-of-type {\n",
       "        vertical-align: middle;\n",
       "    }\n",
       "\n",
       "    .dataframe tbody tr th {\n",
       "        vertical-align: top;\n",
       "    }\n",
       "\n",
       "    .dataframe thead th {\n",
       "        text-align: right;\n",
       "    }\n",
       "</style>\n",
       "<table border=\"1\" class=\"dataframe\">\n",
       "  <thead>\n",
       "    <tr style=\"text-align: right;\">\n",
       "      <th></th>\n",
       "      <th>Customer</th>\n",
       "      <th>Order ID</th>\n",
       "      <th>Profit</th>\n",
       "    </tr>\n",
       "  </thead>\n",
       "  <tbody>\n",
       "    <tr>\n",
       "      <th>0</th>\n",
       "      <td>Allstate</td>\n",
       "      <td>105</td>\n",
       "      <td>-2796.2935</td>\n",
       "    </tr>\n",
       "    <tr>\n",
       "      <th>1</th>\n",
       "      <td>Bosch</td>\n",
       "      <td>119</td>\n",
       "      <td>-1823.7794</td>\n",
       "    </tr>\n",
       "    <tr>\n",
       "      <th>2</th>\n",
       "      <td>Nissan Motor</td>\n",
       "      <td>70</td>\n",
       "      <td>-1585.1886</td>\n",
       "    </tr>\n",
       "    <tr>\n",
       "      <th>3</th>\n",
       "      <td>Costco Wholesale</td>\n",
       "      <td>62</td>\n",
       "      <td>-1354.8547</td>\n",
       "    </tr>\n",
       "    <tr>\n",
       "      <th>4</th>\n",
       "      <td>Walgreens</td>\n",
       "      <td>68</td>\n",
       "      <td>-740.6747</td>\n",
       "    </tr>\n",
       "    <tr>\n",
       "      <th>5</th>\n",
       "      <td>Sprint Nextel</td>\n",
       "      <td>101</td>\n",
       "      <td>-462.6587</td>\n",
       "    </tr>\n",
       "    <tr>\n",
       "      <th>6</th>\n",
       "      <td>Morgan Stanley</td>\n",
       "      <td>126</td>\n",
       "      <td>-361.8099</td>\n",
       "    </tr>\n",
       "    <tr>\n",
       "      <th>7</th>\n",
       "      <td>HonHai Precision Industry</td>\n",
       "      <td>88</td>\n",
       "      <td>-136.6992</td>\n",
       "    </tr>\n",
       "    <tr>\n",
       "      <th>8</th>\n",
       "      <td>HSBC Holdings</td>\n",
       "      <td>83</td>\n",
       "      <td>-104.4022</td>\n",
       "    </tr>\n",
       "    <tr>\n",
       "      <th>9</th>\n",
       "      <td>Gazprom</td>\n",
       "      <td>53</td>\n",
       "      <td>-13.9695</td>\n",
       "    </tr>\n",
       "    <tr>\n",
       "      <th>10</th>\n",
       "      <td>Petrobras</td>\n",
       "      <td>50</td>\n",
       "      <td>184.0959</td>\n",
       "    </tr>\n",
       "    <tr>\n",
       "      <th>11</th>\n",
       "      <td>Exxon Mobil</td>\n",
       "      <td>60</td>\n",
       "      <td>227.1131</td>\n",
       "    </tr>\n",
       "    <tr>\n",
       "      <th>12</th>\n",
       "      <td>Safeway</td>\n",
       "      <td>39</td>\n",
       "      <td>472.4582</td>\n",
       "    </tr>\n",
       "    <tr>\n",
       "      <th>13</th>\n",
       "      <td>Citigroup</td>\n",
       "      <td>22</td>\n",
       "      <td>474.3321</td>\n",
       "    </tr>\n",
       "    <tr>\n",
       "      <th>14</th>\n",
       "      <td>Banco Santander</td>\n",
       "      <td>84</td>\n",
       "      <td>604.4772</td>\n",
       "    </tr>\n",
       "  </tbody>\n",
       "</table>\n",
       "</div>"
      ],
      "text/plain": [
       "                     Customer  Order ID     Profit\n",
       "0                    Allstate       105 -2796.2935\n",
       "1                       Bosch       119 -1823.7794\n",
       "2                Nissan Motor        70 -1585.1886\n",
       "3            Costco Wholesale        62 -1354.8547\n",
       "4                   Walgreens        68  -740.6747\n",
       "5               Sprint Nextel       101  -462.6587\n",
       "6              Morgan Stanley       126  -361.8099\n",
       "7   HonHai Precision Industry        88  -136.6992\n",
       "8               HSBC Holdings        83  -104.4022\n",
       "9                     Gazprom        53   -13.9695\n",
       "10                  Petrobras        50   184.0959\n",
       "11                Exxon Mobil        60   227.1131\n",
       "12                    Safeway        39   472.4582\n",
       "13                  Citigroup        22   474.3321\n",
       "14            Banco Santander        84   604.4772"
      ]
     },
     "execution_count": 223,
     "metadata": {},
     "output_type": "execute_result"
    }
   ],
   "source": [
    "customer_minustotalprofit = data.groupby(['Customer']).agg({'Order ID' : 'count', 'Profit' : 'sum'}).sort_values('Profit', ascending= True).head(15).reset_index()\n",
    "customer_minustotalprofit"
   ]
  },
  {
   "cell_type": "markdown",
   "metadata": {},
   "source": [
    "Insight: \n",
    "- Dari table diatas terdapat 10 customer yang menghasilkan total profit minus bahkan dari seluruh transaksi yang dilakukan."
   ]
  },
  {
   "cell_type": "code",
   "execution_count": 184,
   "metadata": {},
   "outputs": [
    {
     "data": {
      "text/html": [
       "<div>\n",
       "<style scoped>\n",
       "    .dataframe tbody tr th:only-of-type {\n",
       "        vertical-align: middle;\n",
       "    }\n",
       "\n",
       "    .dataframe tbody tr th {\n",
       "        vertical-align: top;\n",
       "    }\n",
       "\n",
       "    .dataframe thead th {\n",
       "        text-align: right;\n",
       "    }\n",
       "</style>\n",
       "<table border=\"1\" class=\"dataframe\">\n",
       "  <thead>\n",
       "    <tr style=\"text-align: right;\">\n",
       "      <th></th>\n",
       "      <th>Order ID</th>\n",
       "    </tr>\n",
       "    <tr>\n",
       "      <th>Customer</th>\n",
       "      <th></th>\n",
       "    </tr>\n",
       "  </thead>\n",
       "  <tbody>\n",
       "    <tr>\n",
       "      <th>Allianz</th>\n",
       "      <td>192</td>\n",
       "    </tr>\n",
       "    <tr>\n",
       "      <th>Tyson Foods</th>\n",
       "      <td>184</td>\n",
       "    </tr>\n",
       "    <tr>\n",
       "      <th>Ford Motor</th>\n",
       "      <td>176</td>\n",
       "    </tr>\n",
       "    <tr>\n",
       "      <th>Siemens</th>\n",
       "      <td>170</td>\n",
       "    </tr>\n",
       "    <tr>\n",
       "      <th>Comcast</th>\n",
       "      <td>161</td>\n",
       "    </tr>\n",
       "    <tr>\n",
       "      <th>BNP Paribas</th>\n",
       "      <td>156</td>\n",
       "    </tr>\n",
       "    <tr>\n",
       "      <th>Prudential Financial</th>\n",
       "      <td>154</td>\n",
       "    </tr>\n",
       "    <tr>\n",
       "      <th>Aetna</th>\n",
       "      <td>153</td>\n",
       "    </tr>\n",
       "    <tr>\n",
       "      <th>AT&amp;T</th>\n",
       "      <td>151</td>\n",
       "    </tr>\n",
       "    <tr>\n",
       "      <th>Chevron</th>\n",
       "      <td>151</td>\n",
       "    </tr>\n",
       "  </tbody>\n",
       "</table>\n",
       "</div>"
      ],
      "text/plain": [
       "                      Order ID\n",
       "Customer                      \n",
       "Allianz                    192\n",
       "Tyson Foods                184\n",
       "Ford Motor                 176\n",
       "Siemens                    170\n",
       "Comcast                    161\n",
       "BNP Paribas                156\n",
       "Prudential Financial       154\n",
       "Aetna                      153\n",
       "AT&T                       151\n",
       "Chevron                    151"
      ]
     },
     "execution_count": 184,
     "metadata": {},
     "output_type": "execute_result"
    }
   ],
   "source": [
    "data.groupby(['Customer'])[['Order ID']].count().sort_values('Order ID', ascending= False).head(10)"
   ]
  },
  {
   "cell_type": "code",
   "execution_count": 185,
   "metadata": {},
   "outputs": [
    {
     "data": {
      "text/html": [
       "<div>\n",
       "<style scoped>\n",
       "    .dataframe tbody tr th:only-of-type {\n",
       "        vertical-align: middle;\n",
       "    }\n",
       "\n",
       "    .dataframe tbody tr th {\n",
       "        vertical-align: top;\n",
       "    }\n",
       "\n",
       "    .dataframe thead th {\n",
       "        text-align: right;\n",
       "    }\n",
       "</style>\n",
       "<table border=\"1\" class=\"dataframe\">\n",
       "  <thead>\n",
       "    <tr style=\"text-align: right;\">\n",
       "      <th></th>\n",
       "      <th>Customer</th>\n",
       "      <th>Total Contact</th>\n",
       "    </tr>\n",
       "  </thead>\n",
       "  <tbody>\n",
       "    <tr>\n",
       "      <th>4</th>\n",
       "      <td>Allianz</td>\n",
       "      <td>15</td>\n",
       "    </tr>\n",
       "    <tr>\n",
       "      <th>38</th>\n",
       "      <td>Ford Motor</td>\n",
       "      <td>14</td>\n",
       "    </tr>\n",
       "    <tr>\n",
       "      <th>80</th>\n",
       "      <td>Siemens</td>\n",
       "      <td>13</td>\n",
       "    </tr>\n",
       "    <tr>\n",
       "      <th>29</th>\n",
       "      <td>Comcast</td>\n",
       "      <td>12</td>\n",
       "    </tr>\n",
       "    <tr>\n",
       "      <th>23</th>\n",
       "      <td>Chevron</td>\n",
       "      <td>12</td>\n",
       "    </tr>\n",
       "    <tr>\n",
       "      <th>53</th>\n",
       "      <td>Johnson &amp; Johnson</td>\n",
       "      <td>12</td>\n",
       "    </tr>\n",
       "    <tr>\n",
       "      <th>54</th>\n",
       "      <td>Kroger</td>\n",
       "      <td>12</td>\n",
       "    </tr>\n",
       "    <tr>\n",
       "      <th>70</th>\n",
       "      <td>PepsiCo</td>\n",
       "      <td>12</td>\n",
       "    </tr>\n",
       "    <tr>\n",
       "      <th>7</th>\n",
       "      <td>Amazon</td>\n",
       "      <td>12</td>\n",
       "    </tr>\n",
       "    <tr>\n",
       "      <th>14</th>\n",
       "      <td>BNP Paribas</td>\n",
       "      <td>12</td>\n",
       "    </tr>\n",
       "  </tbody>\n",
       "</table>\n",
       "</div>"
      ],
      "text/plain": [
       "             Customer  Total Contact\n",
       "4             Allianz             15\n",
       "38         Ford Motor             14\n",
       "80            Siemens             13\n",
       "29            Comcast             12\n",
       "23            Chevron             12\n",
       "53  Johnson & Johnson             12\n",
       "54             Kroger             12\n",
       "70            PepsiCo             12\n",
       "7              Amazon             12\n",
       "14        BNP Paribas             12"
      ]
     },
     "execution_count": 185,
     "metadata": {},
     "output_type": "execute_result"
    }
   ],
   "source": [
    "data.groupby('Customer')['Contact Name'].nunique().reset_index(name='Total Contact').sort_values('Total Contact', ascending= False).head(10)"
   ]
  },
  {
   "cell_type": "markdown",
   "metadata": {},
   "source": [
    "### **Pengaruh Wilayah**"
   ]
  },
  {
   "cell_type": "code",
   "execution_count": 186,
   "metadata": {},
   "outputs": [
    {
     "data": {
      "text/plain": [
       "Region  Subregion\n",
       "AMER    NAMER        2507\n",
       "        LATAM        1158\n",
       "APJ     JAPN          985\n",
       "        ANZ           529\n",
       "        APAC          447\n",
       "        IND           149\n",
       "EMEA    EU-WEST      1614\n",
       "        UKIR         1267\n",
       "        NOR           489\n",
       "        MEA           396\n",
       "        EU-EAST       343\n",
       "        EU            110\n",
       "Name: count, dtype: int64"
      ]
     },
     "execution_count": 186,
     "metadata": {},
     "output_type": "execute_result"
    }
   ],
   "source": [
    "data.groupby(['Region'])[['Subregion']].value_counts()"
   ]
  },
  {
   "cell_type": "code",
   "execution_count": 187,
   "metadata": {},
   "outputs": [
    {
     "data": {
      "text/html": [
       "<div>\n",
       "<style scoped>\n",
       "    .dataframe tbody tr th:only-of-type {\n",
       "        vertical-align: middle;\n",
       "    }\n",
       "\n",
       "    .dataframe tbody tr th {\n",
       "        vertical-align: top;\n",
       "    }\n",
       "\n",
       "    .dataframe thead th {\n",
       "        text-align: right;\n",
       "    }\n",
       "</style>\n",
       "<table border=\"1\" class=\"dataframe\">\n",
       "  <thead>\n",
       "    <tr style=\"text-align: right;\">\n",
       "      <th></th>\n",
       "      <th>Product</th>\n",
       "    </tr>\n",
       "    <tr>\n",
       "      <th>Region</th>\n",
       "      <th></th>\n",
       "    </tr>\n",
       "  </thead>\n",
       "  <tbody>\n",
       "    <tr>\n",
       "      <th>AMER</th>\n",
       "      <td>3665</td>\n",
       "    </tr>\n",
       "    <tr>\n",
       "      <th>APJ</th>\n",
       "      <td>2110</td>\n",
       "    </tr>\n",
       "    <tr>\n",
       "      <th>EMEA</th>\n",
       "      <td>4219</td>\n",
       "    </tr>\n",
       "  </tbody>\n",
       "</table>\n",
       "</div>"
      ],
      "text/plain": [
       "        Product\n",
       "Region         \n",
       "AMER       3665\n",
       "APJ        2110\n",
       "EMEA       4219"
      ]
     },
     "execution_count": 187,
     "metadata": {},
     "output_type": "execute_result"
    }
   ],
   "source": [
    "data.groupby(['Region'])[['Product']].count()"
   ]
  },
  {
   "cell_type": "code",
   "execution_count": 188,
   "metadata": {},
   "outputs": [
    {
     "data": {
      "text/plain": [
       "array(['FinanceHub', 'SaaS Connector Pack', 'ChatBot Plugin',\n",
       "       'Site Analytics', 'ContactMatcher', 'OneView', 'Data Smasher',\n",
       "       'Marketing Suite - Gold', 'Support', 'Storage',\n",
       "       'SaaS Connector Pack - Gold', 'Marketing Suite', 'Big Ol Database',\n",
       "       'Alchemy'], dtype=object)"
      ]
     },
     "execution_count": 188,
     "metadata": {},
     "output_type": "execute_result"
    }
   ],
   "source": [
    "data[data['Region'] == 'AMER']['Product'].unique()"
   ]
  },
  {
   "cell_type": "code",
   "execution_count": 189,
   "metadata": {},
   "outputs": [
    {
     "data": {
      "text/html": [
       "<div>\n",
       "<style scoped>\n",
       "    .dataframe tbody tr th:only-of-type {\n",
       "        vertical-align: middle;\n",
       "    }\n",
       "\n",
       "    .dataframe tbody tr th {\n",
       "        vertical-align: top;\n",
       "    }\n",
       "\n",
       "    .dataframe thead th {\n",
       "        text-align: right;\n",
       "    }\n",
       "</style>\n",
       "<table border=\"1\" class=\"dataframe\">\n",
       "  <thead>\n",
       "    <tr style=\"text-align: right;\">\n",
       "      <th></th>\n",
       "      <th>Region</th>\n",
       "      <th>Sales</th>\n",
       "      <th>Profit</th>\n",
       "    </tr>\n",
       "  </thead>\n",
       "  <tbody>\n",
       "    <tr>\n",
       "      <th>0</th>\n",
       "      <td>AMER</td>\n",
       "      <td>8.378496e+05</td>\n",
       "      <td>127426.9898</td>\n",
       "    </tr>\n",
       "    <tr>\n",
       "      <th>1</th>\n",
       "      <td>APJ</td>\n",
       "      <td>4.154642e+05</td>\n",
       "      <td>11513.9869</td>\n",
       "    </tr>\n",
       "    <tr>\n",
       "      <th>2</th>\n",
       "      <td>EMEA</td>\n",
       "      <td>1.043887e+06</td>\n",
       "      <td>147456.0450</td>\n",
       "    </tr>\n",
       "  </tbody>\n",
       "</table>\n",
       "</div>"
      ],
      "text/plain": [
       "  Region         Sales       Profit\n",
       "0   AMER  8.378496e+05  127426.9898\n",
       "1    APJ  4.154642e+05   11513.9869\n",
       "2   EMEA  1.043887e+06  147456.0450"
      ]
     },
     "execution_count": 189,
     "metadata": {},
     "output_type": "execute_result"
    }
   ],
   "source": [
    "data.groupby('Region').agg({'Sales': 'sum', 'Profit': 'sum'}).reset_index()"
   ]
  },
  {
   "cell_type": "code",
   "execution_count": 190,
   "metadata": {},
   "outputs": [
    {
     "data": {
      "text/html": [
       "<div>\n",
       "<style scoped>\n",
       "    .dataframe tbody tr th:only-of-type {\n",
       "        vertical-align: middle;\n",
       "    }\n",
       "\n",
       "    .dataframe tbody tr th {\n",
       "        vertical-align: top;\n",
       "    }\n",
       "\n",
       "    .dataframe thead th {\n",
       "        text-align: right;\n",
       "    }\n",
       "</style>\n",
       "<table border=\"1\" class=\"dataframe\">\n",
       "  <thead>\n",
       "    <tr style=\"text-align: right;\">\n",
       "      <th></th>\n",
       "      <th>Country</th>\n",
       "      <th>City</th>\n",
       "      <th>Unique Customer Count</th>\n",
       "    </tr>\n",
       "  </thead>\n",
       "  <tbody>\n",
       "    <tr>\n",
       "      <th>0</th>\n",
       "      <td>Argentina</td>\n",
       "      <td>Buenos Aires</td>\n",
       "      <td>23</td>\n",
       "    </tr>\n",
       "    <tr>\n",
       "      <th>1</th>\n",
       "      <td>Argentina</td>\n",
       "      <td>Córdoba</td>\n",
       "      <td>14</td>\n",
       "    </tr>\n",
       "    <tr>\n",
       "      <th>2</th>\n",
       "      <td>Argentina</td>\n",
       "      <td>Mendoza</td>\n",
       "      <td>10</td>\n",
       "    </tr>\n",
       "    <tr>\n",
       "      <th>3</th>\n",
       "      <td>Argentina</td>\n",
       "      <td>Rosario</td>\n",
       "      <td>10</td>\n",
       "    </tr>\n",
       "    <tr>\n",
       "      <th>4</th>\n",
       "      <td>Australia</td>\n",
       "      <td>Adelaide</td>\n",
       "      <td>7</td>\n",
       "    </tr>\n",
       "    <tr>\n",
       "      <th>...</th>\n",
       "      <td>...</td>\n",
       "      <td>...</td>\n",
       "      <td>...</td>\n",
       "    </tr>\n",
       "    <tr>\n",
       "      <th>257</th>\n",
       "      <td>United States</td>\n",
       "      <td>Tucson</td>\n",
       "      <td>1</td>\n",
       "    </tr>\n",
       "    <tr>\n",
       "      <th>258</th>\n",
       "      <td>United States</td>\n",
       "      <td>Tulsa</td>\n",
       "      <td>1</td>\n",
       "    </tr>\n",
       "    <tr>\n",
       "      <th>259</th>\n",
       "      <td>United States</td>\n",
       "      <td>Virginia Beach</td>\n",
       "      <td>3</td>\n",
       "    </tr>\n",
       "    <tr>\n",
       "      <th>260</th>\n",
       "      <td>United States</td>\n",
       "      <td>Wilmington</td>\n",
       "      <td>1</td>\n",
       "    </tr>\n",
       "    <tr>\n",
       "      <th>261</th>\n",
       "      <td>United States</td>\n",
       "      <td>Yonkers</td>\n",
       "      <td>3</td>\n",
       "    </tr>\n",
       "  </tbody>\n",
       "</table>\n",
       "<p>262 rows × 3 columns</p>\n",
       "</div>"
      ],
      "text/plain": [
       "           Country            City  Unique Customer Count\n",
       "0        Argentina    Buenos Aires                     23\n",
       "1        Argentina         Córdoba                     14\n",
       "2        Argentina         Mendoza                     10\n",
       "3        Argentina         Rosario                     10\n",
       "4        Australia        Adelaide                      7\n",
       "..             ...             ...                    ...\n",
       "257  United States          Tucson                      1\n",
       "258  United States           Tulsa                      1\n",
       "259  United States  Virginia Beach                      3\n",
       "260  United States      Wilmington                      1\n",
       "261  United States         Yonkers                      3\n",
       "\n",
       "[262 rows x 3 columns]"
      ]
     },
     "execution_count": 190,
     "metadata": {},
     "output_type": "execute_result"
    }
   ],
   "source": [
    "data.groupby(['Country', 'City'])['Customer'].nunique().reset_index(name='Unique Customer Count')"
   ]
  },
  {
   "cell_type": "markdown",
   "metadata": {},
   "source": [
    "## **4. Analisis Profit Minus**"
   ]
  },
  {
   "cell_type": "markdown",
   "metadata": {},
   "source": [
    "#### Total Profit Minus Keseluruhan"
   ]
  },
  {
   "cell_type": "code",
   "execution_count": 191,
   "metadata": {},
   "outputs": [
    {
     "data": {
      "text/plain": [
       "-156131.2857"
      ]
     },
     "execution_count": 191,
     "metadata": {},
     "output_type": "execute_result"
    }
   ],
   "source": [
    "totalkerugian = data[data['Profit'] < 0]['Profit'].sum()\n",
    "totalkerugian"
   ]
  },
  {
   "cell_type": "code",
   "execution_count": 192,
   "metadata": {},
   "outputs": [
    {
     "data": {
      "text/plain": [
       "442528.3074"
      ]
     },
     "execution_count": 192,
     "metadata": {},
     "output_type": "execute_result"
    }
   ],
   "source": [
    "totalkeuntungan = data[data['Profit'] > 0]['Profit'].sum()\n",
    "totalkeuntungan"
   ]
  },
  {
   "cell_type": "code",
   "execution_count": 193,
   "metadata": {},
   "outputs": [
    {
     "data": {
      "text/plain": [
       "35.28164935195285"
      ]
     },
     "execution_count": 193,
     "metadata": {},
     "output_type": "execute_result"
    }
   ],
   "source": [
    "abs(totalkerugian/totalkeuntungan)*100"
   ]
  },
  {
   "cell_type": "code",
   "execution_count": 194,
   "metadata": {},
   "outputs": [
    {
     "data": {
      "text/plain": [
       "18.721232739643785"
      ]
     },
     "execution_count": 194,
     "metadata": {},
     "output_type": "execute_result"
    }
   ],
   "source": [
    "100 * len(data[data['Profit'] < 0]) / len(data)"
   ]
  },
  {
   "cell_type": "markdown",
   "metadata": {},
   "source": [
    "Kita bisa lihat bahwa total kerugian dari seluruh transaksi sangat besar yaitu 35,3% dari jumlah keuntungan.\n",
    "\n",
    "Selanjutnya berdasarkan total profit apakah ada customer yang `total profitnya bernilai minus`. Ini artinya Customer tersebut dianggap sebagai customer yang ```tidak produktif``` sebagai partner B2B"
   ]
  },
  {
   "cell_type": "markdown",
   "metadata": {},
   "source": [
    "#### Customer dengan Total profit Minus tertinggi"
   ]
  },
  {
   "cell_type": "code",
   "execution_count": 226,
   "metadata": {},
   "outputs": [
    {
     "data": {
      "text/html": [
       "<div>\n",
       "<style scoped>\n",
       "    .dataframe tbody tr th:only-of-type {\n",
       "        vertical-align: middle;\n",
       "    }\n",
       "\n",
       "    .dataframe tbody tr th {\n",
       "        vertical-align: top;\n",
       "    }\n",
       "\n",
       "    .dataframe thead th {\n",
       "        text-align: right;\n",
       "    }\n",
       "</style>\n",
       "<table border=\"1\" class=\"dataframe\">\n",
       "  <thead>\n",
       "    <tr style=\"text-align: right;\">\n",
       "      <th></th>\n",
       "      <th>Order ID</th>\n",
       "      <th>Profit</th>\n",
       "    </tr>\n",
       "    <tr>\n",
       "      <th>Customer</th>\n",
       "      <th></th>\n",
       "      <th></th>\n",
       "    </tr>\n",
       "  </thead>\n",
       "  <tbody>\n",
       "    <tr>\n",
       "      <th>Tesco</th>\n",
       "      <td>3</td>\n",
       "      <td>-475.7910</td>\n",
       "    </tr>\n",
       "    <tr>\n",
       "      <th>Citigroup</th>\n",
       "      <td>6</td>\n",
       "      <td>-296.1234</td>\n",
       "    </tr>\n",
       "    <tr>\n",
       "      <th>Alphabet</th>\n",
       "      <td>6</td>\n",
       "      <td>-482.4894</td>\n",
       "    </tr>\n",
       "    <tr>\n",
       "      <th>Home Depot</th>\n",
       "      <td>7</td>\n",
       "      <td>-373.2803</td>\n",
       "    </tr>\n",
       "    <tr>\n",
       "      <th>Pemex</th>\n",
       "      <td>7</td>\n",
       "      <td>-401.4487</td>\n",
       "    </tr>\n",
       "    <tr>\n",
       "      <th>...</th>\n",
       "      <td>...</td>\n",
       "      <td>...</td>\n",
       "    </tr>\n",
       "    <tr>\n",
       "      <th>Siemens</th>\n",
       "      <td>36</td>\n",
       "      <td>-1828.3827</td>\n",
       "    </tr>\n",
       "    <tr>\n",
       "      <th>Nestle</th>\n",
       "      <td>36</td>\n",
       "      <td>-1555.8237</td>\n",
       "    </tr>\n",
       "    <tr>\n",
       "      <th>AmerisourceBergen</th>\n",
       "      <td>37</td>\n",
       "      <td>-2769.0122</td>\n",
       "    </tr>\n",
       "    <tr>\n",
       "      <th>PepsiCo</th>\n",
       "      <td>38</td>\n",
       "      <td>-1127.5856</td>\n",
       "    </tr>\n",
       "    <tr>\n",
       "      <th>Tyson Foods</th>\n",
       "      <td>41</td>\n",
       "      <td>-4924.4428</td>\n",
       "    </tr>\n",
       "  </tbody>\n",
       "</table>\n",
       "<p>99 rows × 2 columns</p>\n",
       "</div>"
      ],
      "text/plain": [
       "                   Order ID     Profit\n",
       "Customer                              \n",
       "Tesco                     3  -475.7910\n",
       "Citigroup                 6  -296.1234\n",
       "Alphabet                  6  -482.4894\n",
       "Home Depot                7  -373.2803\n",
       "Pemex                     7  -401.4487\n",
       "...                     ...        ...\n",
       "Siemens                  36 -1828.3827\n",
       "Nestle                   36 -1555.8237\n",
       "AmerisourceBergen        37 -2769.0122\n",
       "PepsiCo                  38 -1127.5856\n",
       "Tyson Foods              41 -4924.4428\n",
       "\n",
       "[99 rows x 2 columns]"
      ]
     },
     "execution_count": 226,
     "metadata": {},
     "output_type": "execute_result"
    }
   ],
   "source": [
    "data[data['Profit'] < 0].groupby(['Customer']).agg({'Order ID': 'count', 'Profit': 'sum'}).sort_values('Order ID')"
   ]
  },
  {
   "cell_type": "markdown",
   "metadata": {},
   "source": [
    "Insights:\n",
    "\n",
    "Kesimpulan:\n",
    "- Setiap `Customer` memiliki `transaksi minus profit` setidaknya `3 transaksi`\n",
    "\n",
    "Pertama kita lihat apakah ada transaksi yang `tidak memiliki diskon` namun bernilai `minus pada profitnya`"
   ]
  },
  {
   "cell_type": "markdown",
   "metadata": {},
   "source": [
    "### **4.1 Analisis Diskon**"
   ]
  },
  {
   "cell_type": "markdown",
   "metadata": {},
   "source": [
    "#### Nilai diskon total kerugian paling tinggi"
   ]
  },
  {
   "cell_type": "code",
   "execution_count": 196,
   "metadata": {},
   "outputs": [
    {
     "data": {
      "text/html": [
       "<div>\n",
       "<style scoped>\n",
       "    .dataframe tbody tr th:only-of-type {\n",
       "        vertical-align: middle;\n",
       "    }\n",
       "\n",
       "    .dataframe tbody tr th {\n",
       "        vertical-align: top;\n",
       "    }\n",
       "\n",
       "    .dataframe thead th {\n",
       "        text-align: right;\n",
       "    }\n",
       "</style>\n",
       "<table border=\"1\" class=\"dataframe\">\n",
       "  <thead>\n",
       "    <tr style=\"text-align: right;\">\n",
       "      <th></th>\n",
       "      <th>Order ID</th>\n",
       "      <th>Profit</th>\n",
       "    </tr>\n",
       "    <tr>\n",
       "      <th>Discount</th>\n",
       "      <th></th>\n",
       "      <th></th>\n",
       "    </tr>\n",
       "  </thead>\n",
       "  <tbody>\n",
       "    <tr>\n",
       "      <th>0.70</th>\n",
       "      <td>418</td>\n",
       "      <td>-40075.3569</td>\n",
       "    </tr>\n",
       "    <tr>\n",
       "      <th>0.80</th>\n",
       "      <td>300</td>\n",
       "      <td>-30539.0392</td>\n",
       "    </tr>\n",
       "    <tr>\n",
       "      <th>0.40</th>\n",
       "      <td>180</td>\n",
       "      <td>-25787.8268</td>\n",
       "    </tr>\n",
       "    <tr>\n",
       "      <th>0.50</th>\n",
       "      <td>66</td>\n",
       "      <td>-20506.4281</td>\n",
       "    </tr>\n",
       "    <tr>\n",
       "      <th>0.20</th>\n",
       "      <td>502</td>\n",
       "      <td>-17258.0654</td>\n",
       "    </tr>\n",
       "    <tr>\n",
       "      <th>0.30</th>\n",
       "      <td>208</td>\n",
       "      <td>-10777.6879</td>\n",
       "    </tr>\n",
       "    <tr>\n",
       "      <th>0.60</th>\n",
       "      <td>138</td>\n",
       "      <td>-5944.6552</td>\n",
       "    </tr>\n",
       "    <tr>\n",
       "      <th>0.45</th>\n",
       "      <td>11</td>\n",
       "      <td>-2493.1111</td>\n",
       "    </tr>\n",
       "    <tr>\n",
       "      <th>0.32</th>\n",
       "      <td>27</td>\n",
       "      <td>-2391.1377</td>\n",
       "    </tr>\n",
       "    <tr>\n",
       "      <th>0.15</th>\n",
       "      <td>17</td>\n",
       "      <td>-328.7030</td>\n",
       "    </tr>\n",
       "    <tr>\n",
       "      <th>0.10</th>\n",
       "      <td>4</td>\n",
       "      <td>-29.2744</td>\n",
       "    </tr>\n",
       "  </tbody>\n",
       "</table>\n",
       "</div>"
      ],
      "text/plain": [
       "          Order ID      Profit\n",
       "Discount                      \n",
       "0.70           418 -40075.3569\n",
       "0.80           300 -30539.0392\n",
       "0.40           180 -25787.8268\n",
       "0.50            66 -20506.4281\n",
       "0.20           502 -17258.0654\n",
       "0.30           208 -10777.6879\n",
       "0.60           138  -5944.6552\n",
       "0.45            11  -2493.1111\n",
       "0.32            27  -2391.1377\n",
       "0.15            17   -328.7030\n",
       "0.10             4    -29.2744"
      ]
     },
     "execution_count": 196,
     "metadata": {},
     "output_type": "execute_result"
    }
   ],
   "source": [
    "data[data['Profit'] < 0].groupby(['Discount']).agg({'Order ID' : 'count', 'Profit' : 'sum'}).sort_values('Profit')"
   ]
  },
  {
   "cell_type": "markdown",
   "metadata": {},
   "source": [
    "Insights:\n",
    "\n",
    "- kita bisa lihat bahwa `urutan tingginya diskon` tidak menjadikan itu sebagai penyebab tingginya minus\n",
    "- diskon dengan total profit paling minus yaitu 70%, diikuti diskon tertinggi dalam dataset 80%\n",
    "- diskon 50% walaupun hanya diterapkan dalam 66 transaksi (urutan ke 5 terbawah dari jumlah penerapan transaksi), namun justru menghasilkan total profit minus pada urutan ke 4\n"
   ]
  },
  {
   "cell_type": "markdown",
   "metadata": {},
   "source": [
    "#### Nilai diskon yang median profitnya paling minus"
   ]
  },
  {
   "cell_type": "code",
   "execution_count": 197,
   "metadata": {},
   "outputs": [
    {
     "data": {
      "text/html": [
       "<div>\n",
       "<style scoped>\n",
       "    .dataframe tbody tr th:only-of-type {\n",
       "        vertical-align: middle;\n",
       "    }\n",
       "\n",
       "    .dataframe tbody tr th {\n",
       "        vertical-align: top;\n",
       "    }\n",
       "\n",
       "    .dataframe thead th {\n",
       "        text-align: right;\n",
       "    }\n",
       "</style>\n",
       "<table border=\"1\" class=\"dataframe\">\n",
       "  <thead>\n",
       "    <tr style=\"text-align: right;\">\n",
       "      <th></th>\n",
       "      <th>Sales</th>\n",
       "      <th>Profit</th>\n",
       "    </tr>\n",
       "    <tr>\n",
       "      <th>Discount</th>\n",
       "      <th></th>\n",
       "      <th></th>\n",
       "    </tr>\n",
       "  </thead>\n",
       "  <tbody>\n",
       "    <tr>\n",
       "      <th>0.50</th>\n",
       "      <td>301.9600</td>\n",
       "      <td>-185.27670</td>\n",
       "    </tr>\n",
       "    <tr>\n",
       "      <th>0.45</th>\n",
       "      <td>383.4380</td>\n",
       "      <td>-167.31840</td>\n",
       "    </tr>\n",
       "    <tr>\n",
       "      <th>0.40</th>\n",
       "      <td>313.1760</td>\n",
       "      <td>-80.45175</td>\n",
       "    </tr>\n",
       "    <tr>\n",
       "      <th>0.32</th>\n",
       "      <td>328.3992</td>\n",
       "      <td>-46.97640</td>\n",
       "    </tr>\n",
       "    <tr>\n",
       "      <th>0.30</th>\n",
       "      <td>344.3720</td>\n",
       "      <td>-29.26500</td>\n",
       "    </tr>\n",
       "    <tr>\n",
       "      <th>0.20</th>\n",
       "      <td>140.7560</td>\n",
       "      <td>-15.04285</td>\n",
       "    </tr>\n",
       "    <tr>\n",
       "      <th>0.15</th>\n",
       "      <td>308.4990</td>\n",
       "      <td>-14.47840</td>\n",
       "    </tr>\n",
       "    <tr>\n",
       "      <th>0.80</th>\n",
       "      <td>8.7010</td>\n",
       "      <td>-14.04980</td>\n",
       "    </tr>\n",
       "    <tr>\n",
       "      <th>0.60</th>\n",
       "      <td>22.4940</td>\n",
       "      <td>-12.06170</td>\n",
       "    </tr>\n",
       "    <tr>\n",
       "      <th>0.70</th>\n",
       "      <td>12.2940</td>\n",
       "      <td>-9.20230</td>\n",
       "    </tr>\n",
       "    <tr>\n",
       "      <th>0.10</th>\n",
       "      <td>385.5870</td>\n",
       "      <td>-7.31370</td>\n",
       "    </tr>\n",
       "  </tbody>\n",
       "</table>\n",
       "</div>"
      ],
      "text/plain": [
       "             Sales     Profit\n",
       "Discount                     \n",
       "0.50      301.9600 -185.27670\n",
       "0.45      383.4380 -167.31840\n",
       "0.40      313.1760  -80.45175\n",
       "0.32      328.3992  -46.97640\n",
       "0.30      344.3720  -29.26500\n",
       "0.20      140.7560  -15.04285\n",
       "0.15      308.4990  -14.47840\n",
       "0.80        8.7010  -14.04980\n",
       "0.60       22.4940  -12.06170\n",
       "0.70       12.2940   -9.20230\n",
       "0.10      385.5870   -7.31370"
      ]
     },
     "execution_count": 197,
     "metadata": {},
     "output_type": "execute_result"
    }
   ],
   "source": [
    "data[data['Profit'] < 0].groupby(['Discount'])[['Sales', 'Profit']].median().sort_values('Profit')"
   ]
  },
  {
   "cell_type": "markdown",
   "metadata": {},
   "source": [
    "#### Transaksi yang Profit bernilai minus dan tidak menerapkan diskon"
   ]
  },
  {
   "cell_type": "code",
   "execution_count": 198,
   "metadata": {},
   "outputs": [
    {
     "data": {
      "text/html": [
       "<div>\n",
       "<style scoped>\n",
       "    .dataframe tbody tr th:only-of-type {\n",
       "        vertical-align: middle;\n",
       "    }\n",
       "\n",
       "    .dataframe tbody tr th {\n",
       "        vertical-align: top;\n",
       "    }\n",
       "\n",
       "    .dataframe thead th {\n",
       "        text-align: right;\n",
       "    }\n",
       "</style>\n",
       "<table border=\"1\" class=\"dataframe\">\n",
       "  <thead>\n",
       "    <tr style=\"text-align: right;\">\n",
       "      <th></th>\n",
       "      <th>Order ID</th>\n",
       "      <th>Order Date</th>\n",
       "      <th>Contact Name</th>\n",
       "      <th>Country</th>\n",
       "      <th>City</th>\n",
       "      <th>Region</th>\n",
       "      <th>Subregion</th>\n",
       "      <th>Customer</th>\n",
       "      <th>Industry</th>\n",
       "      <th>Segment</th>\n",
       "      <th>Product</th>\n",
       "      <th>Sales</th>\n",
       "      <th>Quantity</th>\n",
       "      <th>Discount</th>\n",
       "      <th>Profit</th>\n",
       "      <th>Price</th>\n",
       "      <th>Year</th>\n",
       "      <th>Month</th>\n",
       "    </tr>\n",
       "  </thead>\n",
       "  <tbody>\n",
       "  </tbody>\n",
       "</table>\n",
       "</div>"
      ],
      "text/plain": [
       "Empty DataFrame\n",
       "Columns: [Order ID, Order Date, Contact Name, Country, City, Region, Subregion, Customer, Industry, Segment, Product, Sales, Quantity, Discount, Profit, Price, Year, Month]\n",
       "Index: []"
      ]
     },
     "execution_count": 198,
     "metadata": {},
     "output_type": "execute_result"
    }
   ],
   "source": [
    "data[(data['Profit'] < 0)&(data['Discount'] < 0.1)]"
   ]
  },
  {
   "cell_type": "markdown",
   "metadata": {},
   "source": [
    "Kesimpulan\n",
    "- Tidak ada transaksi dalam dataset ini yang profitnya bernilai minus tanpa menerapkan diskon atau diskonnya bernilai 0%"
   ]
  },
  {
   "cell_type": "markdown",
   "metadata": {},
   "source": [
    "#### Nilai Sales agar profit 0 untuk transaksi yang minus profit"
   ]
  },
  {
   "cell_type": "code",
   "execution_count": 199,
   "metadata": {},
   "outputs": [
    {
     "data": {
      "text/html": [
       "<div>\n",
       "<style scoped>\n",
       "    .dataframe tbody tr th:only-of-type {\n",
       "        vertical-align: middle;\n",
       "    }\n",
       "\n",
       "    .dataframe tbody tr th {\n",
       "        vertical-align: top;\n",
       "    }\n",
       "\n",
       "    .dataframe thead th {\n",
       "        text-align: right;\n",
       "    }\n",
       "</style>\n",
       "<table border=\"1\" class=\"dataframe\">\n",
       "  <thead>\n",
       "    <tr style=\"text-align: right;\">\n",
       "      <th></th>\n",
       "      <th>Profit</th>\n",
       "      <th>Price</th>\n",
       "      <th>Quantity</th>\n",
       "      <th>Discount</th>\n",
       "      <th>Sales</th>\n",
       "      <th>Expected Sales</th>\n",
       "    </tr>\n",
       "  </thead>\n",
       "  <tbody>\n",
       "    <tr>\n",
       "      <th>3</th>\n",
       "      <td>-383.0310</td>\n",
       "      <td>348.21</td>\n",
       "      <td>5</td>\n",
       "      <td>0.45</td>\n",
       "      <td>957.5775</td>\n",
       "      <td>1340.6085</td>\n",
       "    </tr>\n",
       "    <tr>\n",
       "      <th>14</th>\n",
       "      <td>-123.8580</td>\n",
       "      <td>68.81</td>\n",
       "      <td>5</td>\n",
       "      <td>0.80</td>\n",
       "      <td>68.8100</td>\n",
       "      <td>192.6680</td>\n",
       "    </tr>\n",
       "    <tr>\n",
       "      <th>15</th>\n",
       "      <td>-3.8160</td>\n",
       "      <td>4.24</td>\n",
       "      <td>3</td>\n",
       "      <td>0.80</td>\n",
       "      <td>2.5440</td>\n",
       "      <td>6.3600</td>\n",
       "    </tr>\n",
       "    <tr>\n",
       "      <th>23</th>\n",
       "      <td>-1.0196</td>\n",
       "      <td>50.98</td>\n",
       "      <td>2</td>\n",
       "      <td>0.30</td>\n",
       "      <td>71.3720</td>\n",
       "      <td>72.3916</td>\n",
       "    </tr>\n",
       "    <tr>\n",
       "      <th>27</th>\n",
       "      <td>-1665.0522</td>\n",
       "      <td>880.98</td>\n",
       "      <td>7</td>\n",
       "      <td>0.50</td>\n",
       "      <td>3083.4300</td>\n",
       "      <td>4748.4822</td>\n",
       "    </tr>\n",
       "    <tr>\n",
       "      <th>...</th>\n",
       "      <td>...</td>\n",
       "      <td>...</td>\n",
       "      <td>...</td>\n",
       "      <td>...</td>\n",
       "      <td>...</td>\n",
       "      <td>...</td>\n",
       "    </tr>\n",
       "    <tr>\n",
       "      <th>9920</th>\n",
       "      <td>-35.8176</td>\n",
       "      <td>15.99</td>\n",
       "      <td>7</td>\n",
       "      <td>0.80</td>\n",
       "      <td>22.3860</td>\n",
       "      <td>58.2036</td>\n",
       "    </tr>\n",
       "    <tr>\n",
       "      <th>9921</th>\n",
       "      <td>-4.5936</td>\n",
       "      <td>6.38</td>\n",
       "      <td>3</td>\n",
       "      <td>0.70</td>\n",
       "      <td>5.7420</td>\n",
       "      <td>10.3356</td>\n",
       "    </tr>\n",
       "    <tr>\n",
       "      <th>9931</th>\n",
       "      <td>-40.1960</td>\n",
       "      <td>200.98</td>\n",
       "      <td>4</td>\n",
       "      <td>0.15</td>\n",
       "      <td>683.3320</td>\n",
       "      <td>723.5280</td>\n",
       "    </tr>\n",
       "    <tr>\n",
       "      <th>9937</th>\n",
       "      <td>-1.7772</td>\n",
       "      <td>44.43</td>\n",
       "      <td>2</td>\n",
       "      <td>0.20</td>\n",
       "      <td>71.0880</td>\n",
       "      <td>72.8652</td>\n",
       "    </tr>\n",
       "    <tr>\n",
       "      <th>9962</th>\n",
       "      <td>-67.6704</td>\n",
       "      <td>140.98</td>\n",
       "      <td>4</td>\n",
       "      <td>0.32</td>\n",
       "      <td>383.4656</td>\n",
       "      <td>451.1360</td>\n",
       "    </tr>\n",
       "  </tbody>\n",
       "</table>\n",
       "<p>1871 rows × 6 columns</p>\n",
       "</div>"
      ],
      "text/plain": [
       "         Profit   Price  Quantity  Discount      Sales  Expected Sales\n",
       "3     -383.0310  348.21         5      0.45   957.5775       1340.6085\n",
       "14    -123.8580   68.81         5      0.80    68.8100        192.6680\n",
       "15      -3.8160    4.24         3      0.80     2.5440          6.3600\n",
       "23      -1.0196   50.98         2      0.30    71.3720         72.3916\n",
       "27   -1665.0522  880.98         7      0.50  3083.4300       4748.4822\n",
       "...         ...     ...       ...       ...        ...             ...\n",
       "9920   -35.8176   15.99         7      0.80    22.3860         58.2036\n",
       "9921    -4.5936    6.38         3      0.70     5.7420         10.3356\n",
       "9931   -40.1960  200.98         4      0.15   683.3320        723.5280\n",
       "9937    -1.7772   44.43         2      0.20    71.0880         72.8652\n",
       "9962   -67.6704  140.98         4      0.32   383.4656        451.1360\n",
       "\n",
       "[1871 rows x 6 columns]"
      ]
     },
     "execution_count": 199,
     "metadata": {},
     "output_type": "execute_result"
    }
   ],
   "source": [
    "sales_nolprofit = data[data['Profit'] < 0][['Profit','Price', 'Quantity', 'Discount', 'Sales']]\n",
    "sales_nolprofit['Expected Sales'] = sales_nolprofit['Sales'] - sales_nolprofit['Profit']\n",
    "sales_nolprofit"
   ]
  },
  {
   "cell_type": "markdown",
   "metadata": {},
   "source": [
    "#### Nilai Discount agar Sales dengan 0 Profit Tercapai"
   ]
  },
  {
   "cell_type": "code",
   "execution_count": 203,
   "metadata": {},
   "outputs": [
    {
     "data": {
      "text/html": [
       "<div>\n",
       "<style scoped>\n",
       "    .dataframe tbody tr th:only-of-type {\n",
       "        vertical-align: middle;\n",
       "    }\n",
       "\n",
       "    .dataframe tbody tr th {\n",
       "        vertical-align: top;\n",
       "    }\n",
       "\n",
       "    .dataframe thead th {\n",
       "        text-align: right;\n",
       "    }\n",
       "</style>\n",
       "<table border=\"1\" class=\"dataframe\">\n",
       "  <thead>\n",
       "    <tr style=\"text-align: right;\">\n",
       "      <th></th>\n",
       "      <th>Profit</th>\n",
       "      <th>Price</th>\n",
       "      <th>Quantity</th>\n",
       "      <th>Discount</th>\n",
       "      <th>Sales</th>\n",
       "      <th>Expected Sales</th>\n",
       "      <th>Expected Discount</th>\n",
       "    </tr>\n",
       "  </thead>\n",
       "  <tbody>\n",
       "    <tr>\n",
       "      <th>3</th>\n",
       "      <td>-383.0310</td>\n",
       "      <td>348.21</td>\n",
       "      <td>5</td>\n",
       "      <td>0.45</td>\n",
       "      <td>957.5775</td>\n",
       "      <td>1340.6085</td>\n",
       "      <td>0.23</td>\n",
       "    </tr>\n",
       "    <tr>\n",
       "      <th>14</th>\n",
       "      <td>-123.8580</td>\n",
       "      <td>68.81</td>\n",
       "      <td>5</td>\n",
       "      <td>0.80</td>\n",
       "      <td>68.8100</td>\n",
       "      <td>192.6680</td>\n",
       "      <td>0.44</td>\n",
       "    </tr>\n",
       "    <tr>\n",
       "      <th>15</th>\n",
       "      <td>-3.8160</td>\n",
       "      <td>4.24</td>\n",
       "      <td>3</td>\n",
       "      <td>0.80</td>\n",
       "      <td>2.5440</td>\n",
       "      <td>6.3600</td>\n",
       "      <td>0.50</td>\n",
       "    </tr>\n",
       "    <tr>\n",
       "      <th>23</th>\n",
       "      <td>-1.0196</td>\n",
       "      <td>50.98</td>\n",
       "      <td>2</td>\n",
       "      <td>0.30</td>\n",
       "      <td>71.3720</td>\n",
       "      <td>72.3916</td>\n",
       "      <td>0.29</td>\n",
       "    </tr>\n",
       "    <tr>\n",
       "      <th>27</th>\n",
       "      <td>-1665.0522</td>\n",
       "      <td>880.98</td>\n",
       "      <td>7</td>\n",
       "      <td>0.50</td>\n",
       "      <td>3083.4300</td>\n",
       "      <td>4748.4822</td>\n",
       "      <td>0.23</td>\n",
       "    </tr>\n",
       "  </tbody>\n",
       "</table>\n",
       "</div>"
      ],
      "text/plain": [
       "       Profit   Price  Quantity  Discount      Sales  Expected Sales  \\\n",
       "3   -383.0310  348.21         5      0.45   957.5775       1340.6085   \n",
       "14  -123.8580   68.81         5      0.80    68.8100        192.6680   \n",
       "15    -3.8160    4.24         3      0.80     2.5440          6.3600   \n",
       "23    -1.0196   50.98         2      0.30    71.3720         72.3916   \n",
       "27 -1665.0522  880.98         7      0.50  3083.4300       4748.4822   \n",
       "\n",
       "    Expected Discount  \n",
       "3                0.23  \n",
       "14               0.44  \n",
       "15               0.50  \n",
       "23               0.29  \n",
       "27               0.23  "
      ]
     },
     "execution_count": 203,
     "metadata": {},
     "output_type": "execute_result"
    }
   ],
   "source": [
    "sales_nolprofit['Expected Discount'] = ((sales_nolprofit['Price'] * sales_nolprofit['Quantity']) - sales_nolprofit['Expected Sales'])/(sales_nolprofit['Price'] * sales_nolprofit['Quantity'])\n",
    "sales_nolprofit.head()"
   ]
  },
  {
   "cell_type": "markdown",
   "metadata": {},
   "source": [
    "#### Median setiap Nilai Discount & Sales agar Profit 0"
   ]
  },
  {
   "cell_type": "code",
   "execution_count": 202,
   "metadata": {},
   "outputs": [
    {
     "data": {
      "text/html": [
       "<div>\n",
       "<style scoped>\n",
       "    .dataframe tbody tr th:only-of-type {\n",
       "        vertical-align: middle;\n",
       "    }\n",
       "\n",
       "    .dataframe tbody tr th {\n",
       "        vertical-align: top;\n",
       "    }\n",
       "\n",
       "    .dataframe thead th {\n",
       "        text-align: right;\n",
       "    }\n",
       "</style>\n",
       "<table border=\"1\" class=\"dataframe\">\n",
       "  <thead>\n",
       "    <tr style=\"text-align: right;\">\n",
       "      <th></th>\n",
       "      <th>Discount</th>\n",
       "      <th>Expected Sales</th>\n",
       "      <th>Expected Discount</th>\n",
       "    </tr>\n",
       "  </thead>\n",
       "  <tbody>\n",
       "    <tr>\n",
       "      <th>0</th>\n",
       "      <td>0.80</td>\n",
       "      <td>23.07960</td>\n",
       "      <td>0.470</td>\n",
       "    </tr>\n",
       "    <tr>\n",
       "      <th>1</th>\n",
       "      <td>0.70</td>\n",
       "      <td>21.80760</td>\n",
       "      <td>0.480</td>\n",
       "    </tr>\n",
       "    <tr>\n",
       "      <th>2</th>\n",
       "      <td>0.60</td>\n",
       "      <td>32.85070</td>\n",
       "      <td>0.340</td>\n",
       "    </tr>\n",
       "    <tr>\n",
       "      <th>3</th>\n",
       "      <td>0.50</td>\n",
       "      <td>523.38060</td>\n",
       "      <td>0.200</td>\n",
       "    </tr>\n",
       "    <tr>\n",
       "      <th>4</th>\n",
       "      <td>0.45</td>\n",
       "      <td>550.75640</td>\n",
       "      <td>0.210</td>\n",
       "    </tr>\n",
       "    <tr>\n",
       "      <th>5</th>\n",
       "      <td>0.40</td>\n",
       "      <td>401.69235</td>\n",
       "      <td>0.260</td>\n",
       "    </tr>\n",
       "    <tr>\n",
       "      <th>6</th>\n",
       "      <td>0.32</td>\n",
       "      <td>420.15780</td>\n",
       "      <td>0.200</td>\n",
       "    </tr>\n",
       "    <tr>\n",
       "      <th>7</th>\n",
       "      <td>0.30</td>\n",
       "      <td>393.58390</td>\n",
       "      <td>0.230</td>\n",
       "    </tr>\n",
       "    <tr>\n",
       "      <th>8</th>\n",
       "      <td>0.20</td>\n",
       "      <td>156.60520</td>\n",
       "      <td>0.080</td>\n",
       "    </tr>\n",
       "    <tr>\n",
       "      <th>9</th>\n",
       "      <td>0.15</td>\n",
       "      <td>326.64600</td>\n",
       "      <td>0.100</td>\n",
       "    </tr>\n",
       "    <tr>\n",
       "      <th>10</th>\n",
       "      <td>0.10</td>\n",
       "      <td>392.90070</td>\n",
       "      <td>0.075</td>\n",
       "    </tr>\n",
       "  </tbody>\n",
       "</table>\n",
       "</div>"
      ],
      "text/plain": [
       "    Discount  Expected Sales  Expected Discount\n",
       "0       0.80        23.07960              0.470\n",
       "1       0.70        21.80760              0.480\n",
       "2       0.60        32.85070              0.340\n",
       "3       0.50       523.38060              0.200\n",
       "4       0.45       550.75640              0.210\n",
       "5       0.40       401.69235              0.260\n",
       "6       0.32       420.15780              0.200\n",
       "7       0.30       393.58390              0.230\n",
       "8       0.20       156.60520              0.080\n",
       "9       0.15       326.64600              0.100\n",
       "10      0.10       392.90070              0.075"
      ]
     },
     "execution_count": 202,
     "metadata": {},
     "output_type": "execute_result"
    }
   ],
   "source": [
    "sales_nolprofit.groupby(['Discount']).agg({'Expected Sales': 'median', 'Expected Discount': 'median'}).sort_values('Discount', ascending= False).reset_index()"
   ]
  },
  {
   "cell_type": "markdown",
   "metadata": {},
   "source": [
    "# **Conclution & Recommendation**"
   ]
  },
  {
   "cell_type": "markdown",
   "metadata": {},
   "source": [
    "Product\n",
    "- Product dengan prospek pertumbuhan tinggi berdasarkan `jumlah transaksi` adalah `ContactMatcher`\n",
    "- Product yang rendah berdasarkan jumlah transaksi adalah `Alchemy`\n",
    "- Product dengan prospek pertumbuhan tinggi berdasarkan Sales adalah `ContactMatcher`\n",
    "- Product dengan prospek pertumbuhan tinggi berdasarkan Profit adalah `Alchemy`\n",
    "- Product dengan keuntungan Minus adalah `Marketing Suite`\n",
    "- Product dengan keuntungan terendah adalah `Storage`\n",
    "- Product dengan prospek pertumbuhan tinggi berdasarkan `ratio Profit-Salesnya` yaitu `SaaS Connector Pack - Gold`\n",
    "- Product `Alchemy` sebagai prospek product berdasarkan profit, juga menjadi prospek berdasarkan `ratio Profit-Salesnya` pada urutan kedua.\n",
    "- Product dengan pertumbuhan tinggi berdasarkan Quantity adalah `ContactMathcer`\n",
    "- Product dengan rendah berdasarkan quantity adalah `Alchemy`\n",
    "- `ContactMacther` merupakan product yang paling banyak dipesan dalam 1 transaksi, yakni Quantity lebih dari 10 sebanyak 40 transaksi\n",
    "\n",
    "Customer\n",
    "- Setiap `Customer` memiliki `transaksi minus profit` setidaknya `3 transaksi`\n",
    "- Setiap `customer` hanya memesan `1 spesifik Industry` untuk setiap transaksi\n",
    "- Product dengan Industry `Finance` memiliki `Royal customer terbanyak` yaitu `20 customer` dengan total `2127 Transaksi`\n",
    "- `Valero Energy` Product yang Paling banyak mendatangkan `total profit` walaupun `total sales` bukan yang tertinggi.\n",
    "\n",
    "Analisis Profit Minus\n",
    "- Dalam dataset ini, tidak ada transaksi yang profitnya bernilai minus dan diskonnya bernilai 0%"
   ]
  }
 ],
 "metadata": {
  "kernelspec": {
   "display_name": "Python 3",
   "language": "python",
   "name": "python3"
  },
  "language_info": {
   "codemirror_mode": {
    "name": "ipython",
    "version": 3
   },
   "file_extension": ".py",
   "mimetype": "text/x-python",
   "name": "python",
   "nbconvert_exporter": "python",
   "pygments_lexer": "ipython3",
   "version": "3.12.1"
  }
 },
 "nbformat": 4,
 "nbformat_minor": 2
}
